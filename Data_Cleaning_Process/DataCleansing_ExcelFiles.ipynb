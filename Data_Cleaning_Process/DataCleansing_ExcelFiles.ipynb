{
 "cells": [
  {
   "cell_type": "markdown",
   "metadata": {},
   "source": [
    "# Data Cleansing - Excel Files"
   ]
  },
  {
   "cell_type": "markdown",
   "metadata": {},
   "source": [
    "As part of the data selection for this analysis, will first check my Excel files to see if there's any gender - based data that could help on the hypothesis of this study. <br />\n",
    "For this will use `read_excel` from `pandas` library.\n"
   ]
  },
  {
   "cell_type": "code",
   "execution_count": 1,
   "metadata": {},
   "outputs": [],
   "source": [
    "import pandas as pd\n",
    "import numpy as np"
   ]
  },
  {
   "cell_type": "markdown",
   "metadata": {},
   "source": [
    "For this analysis I found 4 files of information from [Mexican Government Data Sourcing](https://datos.gob.mx/)<br />\n",
    "* Science\n",
    "* Education\n",
    "* Employment\n",
    "* Living Place"
   ]
  },
  {
   "cell_type": "markdown",
   "metadata": {},
   "source": [
    "### Science"
   ]
  },
  {
   "cell_type": "code",
   "execution_count": null,
   "metadata": {},
   "outputs": [],
   "source": [
    "df_ciencia = pd.read_excel('Data\\ciencia_00.xlsx')"
   ]
  },
  {
   "cell_type": "code",
   "execution_count": 36,
   "metadata": {},
   "outputs": [
    {
     "name": "stdout",
     "output_type": "stream",
     "text": [
      "<class 'pandas.core.frame.DataFrame'>\n",
      "RangeIndex: 25 entries, 0 to 24\n",
      "Data columns (total 14 columns):\n",
      " #   Column          Non-Null Count  Dtype  \n",
      "---  ------          --------------  -----  \n",
      " 0   cve_entidad     25 non-null     int64  \n",
      " 1   desc_entidad    25 non-null     object \n",
      " 2   cve_municipio   25 non-null     int64  \n",
      " 3   desc_municipio  25 non-null     object \n",
      " 4   id_indicador    25 non-null     int64  \n",
      " 5   indicador       25 non-null     object \n",
      " 6   2010            5 non-null      float64\n",
      " 7   2011            25 non-null     float64\n",
      " 8   2012            5 non-null      float64\n",
      " 9   2013            25 non-null     float64\n",
      " 10  2014            5 non-null      float64\n",
      " 11  2015            25 non-null     float64\n",
      " 12  2016            25 non-null     float64\n",
      " 13  unidad_medida   25 non-null     object \n",
      "dtypes: float64(7), int64(3), object(4)\n",
      "memory usage: 2.9+ KB\n"
     ]
    }
   ],
   "source": [
    "df_ciencia.info()"
   ]
  },
  {
   "cell_type": "markdown",
   "metadata": {},
   "source": [
    "### Education"
   ]
  },
  {
   "cell_type": "code",
   "execution_count": 13,
   "metadata": {},
   "outputs": [],
   "source": [
    "df_educacion = pd.read_excel('Data\\educacion_00.xlsx')"
   ]
  },
  {
   "cell_type": "code",
   "execution_count": 37,
   "metadata": {},
   "outputs": [
    {
     "name": "stdout",
     "output_type": "stream",
     "text": [
      "<class 'pandas.core.frame.DataFrame'>\n",
      "RangeIndex: 45618 entries, 0 to 45617\n",
      "Data columns (total 44 columns):\n",
      " #   Column          Non-Null Count  Dtype  \n",
      "---  ------          --------------  -----  \n",
      " 0   cve_entidad     45618 non-null  int64  \n",
      " 1   desc_entidad    45618 non-null  object \n",
      " 2   cve_municipio   45618 non-null  int64  \n",
      " 3   desc_municipio  45618 non-null  object \n",
      " 4   id_indicador    45618 non-null  int64  \n",
      " 5   indicador       45618 non-null  object \n",
      " 6   1910            93 non-null     float64\n",
      " 7   1921            96 non-null     float64\n",
      " 8   1930            96 non-null     float64\n",
      " 9   1940            96 non-null     float64\n",
      " 10  1950            96 non-null     float64\n",
      " 11  1960            96 non-null     float64\n",
      " 12  1970            99 non-null     float64\n",
      " 13  1980            96 non-null     float64\n",
      " 14  1990            396 non-null    float64\n",
      " 15  1991            132 non-null    float64\n",
      " 16  1992            132 non-null    float64\n",
      " 17  1993            132 non-null    float64\n",
      " 18  1994            132 non-null    float64\n",
      " 19  1995            5221 non-null   object \n",
      " 20  1996            132 non-null    float64\n",
      " 21  1997            132 non-null    float64\n",
      " 22  1998            132 non-null    float64\n",
      " 23  1999            132 non-null    float64\n",
      " 24  2000            7981 non-null   object \n",
      " 25  2001            132 non-null    float64\n",
      " 26  2002            132 non-null    float64\n",
      " 27  2003            132 non-null    float64\n",
      " 28  2004            132 non-null    float64\n",
      " 29  2005            5304 non-null   float64\n",
      " 30  2006            132 non-null    float64\n",
      " 31  2007            132 non-null    float64\n",
      " 32  2008            132 non-null    float64\n",
      " 33  2009            132 non-null    float64\n",
      " 34  2010            8102 non-null   float64\n",
      " 35  2011            132 non-null    float64\n",
      " 36  2012            132 non-null    float64\n",
      " 37  2013            132 non-null    float64\n",
      " 38  2014            165 non-null    float64\n",
      " 39  2015            39949 non-null  object \n",
      " 40  2016            165 non-null    float64\n",
      " 41  2017            33 non-null     float64\n",
      " 42  2020            27522 non-null  float64\n",
      " 43  unidad_medida   45618 non-null  object \n",
      "dtypes: float64(34), int64(3), object(7)\n",
      "memory usage: 15.3+ MB\n"
     ]
    }
   ],
   "source": [
    "df_educacion.info()"
   ]
  },
  {
   "cell_type": "markdown",
   "metadata": {},
   "source": [
    "### Labour"
   ]
  },
  {
   "cell_type": "code",
   "execution_count": 31,
   "metadata": {},
   "outputs": [],
   "source": [
    "df_empleo = pd.read_excel('Data\\empleo_00.xlsx')"
   ]
  },
  {
   "cell_type": "code",
   "execution_count": 41,
   "metadata": {},
   "outputs": [
    {
     "name": "stdout",
     "output_type": "stream",
     "text": [
      "<class 'pandas.core.frame.DataFrame'>\n",
      "RangeIndex: 62681 entries, 0 to 62680\n",
      "Data columns (total 102 columns):\n",
      " #   Column          Dtype  \n",
      "---  ------          -----  \n",
      " 0   cve_entidad     int64  \n",
      " 1   desc_entidad    object \n",
      " 2   cve_municipio   int64  \n",
      " 3   desc_municipio  object \n",
      " 4   id_indicador    int64  \n",
      " 5   indicador       object \n",
      " 6   1988            float64\n",
      " 7   1991            float64\n",
      " 8   1994            float64\n",
      " 9   1995            object \n",
      " 10  1996            float64\n",
      " 11  1997            object \n",
      " 12  1998            float64\n",
      " 13  1999            object \n",
      " 14  2000            float64\n",
      " 15  2001            float64\n",
      " 16  2002            float64\n",
      " 17  2003            float64\n",
      " 18  2004            float64\n",
      " 19  2005            float64\n",
      " 20  2005/t1         float64\n",
      " 21  2005/t2         float64\n",
      " 22  2005/t3         float64\n",
      " 23  2005/t4         float64\n",
      " 24  2006            float64\n",
      " 25  2006/t1         float64\n",
      " 26  2006/t2         float64\n",
      " 27  2006/t3         float64\n",
      " 28  2006/t4         float64\n",
      " 29  2007            float64\n",
      " 30  2007/t1         float64\n",
      " 31  2007/t2         float64\n",
      " 32  2007/t3         float64\n",
      " 33  2007/t4         float64\n",
      " 34  2008            float64\n",
      " 35  2008/t1         float64\n",
      " 36  2008/t2         float64\n",
      " 37  2008/t3         float64\n",
      " 38  2008/t4         float64\n",
      " 39  2009            float64\n",
      " 40  2009/t1         float64\n",
      " 41  2009/t2         float64\n",
      " 42  2009/t3         float64\n",
      " 43  2009/t4         float64\n",
      " 44  2010            float64\n",
      " 45  2010/t1         float64\n",
      " 46  2010/t2         float64\n",
      " 47  2010/t3         float64\n",
      " 48  2010/t4         float64\n",
      " 49  2011            float64\n",
      " 50  2011/t1         float64\n",
      " 51  2011/t2         float64\n",
      " 52  2011/t3         float64\n",
      " 53  2011/t4         float64\n",
      " 54  2012            float64\n",
      " 55  2012/t1         float64\n",
      " 56  2012/t2         float64\n",
      " 57  2012/t3         float64\n",
      " 58  2012/t4         float64\n",
      " 59  2013            float64\n",
      " 60  2013/t1         float64\n",
      " 61  2013/t2         float64\n",
      " 62  2013/t3         float64\n",
      " 63  2013/t4         float64\n",
      " 64  2014            float64\n",
      " 65  2014/t1         float64\n",
      " 66  2014/t2         float64\n",
      " 67  2014/t3         float64\n",
      " 68  2014/t4         float64\n",
      " 69  2015            object \n",
      " 70  2015/t1         float64\n",
      " 71  2015/t2         float64\n",
      " 72  2015/t3         float64\n",
      " 73  2015/t4         float64\n",
      " 74  2016            float64\n",
      " 75  2016/t1         float64\n",
      " 76  2016/t2         float64\n",
      " 77  2016/t3         float64\n",
      " 78  2016/t4         float64\n",
      " 79  2017            float64\n",
      " 80  2017/t1         float64\n",
      " 81  2017/t2         float64\n",
      " 82  2017/t3         float64\n",
      " 83  2017/t4         float64\n",
      " 84  2018            float64\n",
      " 85  2018/t1         float64\n",
      " 86  2018/t2         float64\n",
      " 87  2018/t3         float64\n",
      " 88  2018/t4         float64\n",
      " 89  2019            float64\n",
      " 90  2019/t1         float64\n",
      " 91  2019/t2         float64\n",
      " 92  2019/t3         float64\n",
      " 93  2019/t4         float64\n",
      " 94  2020            float64\n",
      " 95  2020/t1         float64\n",
      " 96  2020/t3         float64\n",
      " 97  2020/t4         float64\n",
      " 98  2021/t1         float64\n",
      " 99  2021/t2         object \n",
      " 100 2021/t3         object \n",
      " 101 unidad_medida   object \n",
      "dtypes: float64(89), int64(3), object(10)\n",
      "memory usage: 48.8+ MB\n"
     ]
    }
   ],
   "source": [
    "df_empleo.info(verbose=True)"
   ]
  },
  {
   "cell_type": "markdown",
   "metadata": {},
   "source": [
    "### Living Places"
   ]
  },
  {
   "cell_type": "code",
   "execution_count": 33,
   "metadata": {},
   "outputs": [],
   "source": [
    "df_vivienda = pd.read_excel('Data\\hogar_00.xlsx',\n",
    "                           sheet_name='valor')"
   ]
  },
  {
   "cell_type": "code",
   "execution_count": 42,
   "metadata": {},
   "outputs": [
    {
     "name": "stdout",
     "output_type": "stream",
     "text": [
      "<class 'pandas.core.frame.DataFrame'>\n",
      "RangeIndex: 25 entries, 0 to 24\n",
      "Data columns (total 14 columns):\n",
      " #   Column          Non-Null Count  Dtype  \n",
      "---  ------          --------------  -----  \n",
      " 0   cve_entidad     25 non-null     int64  \n",
      " 1   desc_entidad    25 non-null     object \n",
      " 2   cve_municipio   25 non-null     int64  \n",
      " 3   desc_municipio  25 non-null     object \n",
      " 4   id_indicador    25 non-null     int64  \n",
      " 5   indicador       25 non-null     object \n",
      " 6   2010            5 non-null      float64\n",
      " 7   2011            25 non-null     float64\n",
      " 8   2012            5 non-null      float64\n",
      " 9   2013            25 non-null     float64\n",
      " 10  2014            5 non-null      float64\n",
      " 11  2015            25 non-null     float64\n",
      " 12  2016            25 non-null     float64\n",
      " 13  unidad_medida   25 non-null     object \n",
      "dtypes: float64(7), int64(3), object(4)\n",
      "memory usage: 2.9+ KB\n"
     ]
    }
   ],
   "source": [
    "df.info()"
   ]
  },
  {
   "cell_type": "markdown",
   "metadata": {},
   "source": [
    "### Is the data useful?"
   ]
  },
  {
   "cell_type": "markdown",
   "metadata": {},
   "source": [
    "As per the information of our sources, we see than we only have categorical data per year but not segmented by gener; therefore, we can consider this source as a valuable input to evidence the glass ceiling that mexican women have currently."
   ]
  }
 ],
 "metadata": {
  "kernelspec": {
   "display_name": "Python 3",
   "language": "python",
   "name": "python3"
  },
  "language_info": {
   "codemirror_mode": {
    "name": "ipython",
    "version": 3
   },
   "file_extension": ".py",
   "mimetype": "text/x-python",
   "name": "python",
   "nbconvert_exporter": "python",
   "pygments_lexer": "ipython3",
   "version": "3.8.3"
  }
 },
 "nbformat": 4,
 "nbformat_minor": 4
}
