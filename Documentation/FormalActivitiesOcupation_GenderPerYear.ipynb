{
 "cells": [
  {
   "cell_type": "markdown",
   "metadata": {},
   "source": [
    "# Glass Ceiling\n",
    "# A Perspective on Population on Formal Economical Activities"
   ]
  },
  {
   "cell_type": "markdown",
   "metadata": {},
   "source": [
    "## Objective: \n",
    "To show the differences in ocupation by mexican woman during the last 15 years on formal economies and work places.<br /> After our data exploration, we're just working with three data sources which are:\n",
    "* **Labour population with formal economical activity**\n",
    "* Busy population with informal economical activity\n",
    "* Percentage of population who earn at least three times the minimum wage"
   ]
  },
  {
   "cell_type": "markdown",
   "metadata": {},
   "source": [
    "## Concentration of population by gender per year."
   ]
  },
  {
   "cell_type": "markdown",
   "metadata": {},
   "source": [
    "The further analysis is to show and make a statment of the disparity of the mexican woman on economical activities."
   ]
  },
  {
   "cell_type": "code",
   "execution_count": 11,
   "metadata": {},
   "outputs": [],
   "source": [
    "import pandas as pd\n",
    "import numpy as np\n",
    "import matplotlib.pyplot as plt\n",
    "\n",
    "%matplotlib inline"
   ]
  },
  {
   "cell_type": "markdown",
   "metadata": {},
   "source": [
    "We read our csv:"
   ]
  },
  {
   "cell_type": "code",
   "execution_count": 12,
   "metadata": {},
   "outputs": [],
   "source": [
    "formal_eco=pd.read_csv('Poblacion_Ocupada_Actividad_Economica.csv')"
   ]
  },
  {
   "cell_type": "code",
   "execution_count": 13,
   "metadata": {},
   "outputs": [
    {
     "data": {
      "text/html": [
       "<div>\n",
       "<style scoped>\n",
       "    .dataframe tbody tr th:only-of-type {\n",
       "        vertical-align: middle;\n",
       "    }\n",
       "\n",
       "    .dataframe tbody tr th {\n",
       "        vertical-align: top;\n",
       "    }\n",
       "\n",
       "    .dataframe thead th {\n",
       "        text-align: right;\n",
       "    }\n",
       "</style>\n",
       "<table border=\"1\" class=\"dataframe\">\n",
       "  <thead>\n",
       "    <tr style=\"text-align: right;\">\n",
       "      <th></th>\n",
       "      <th>Periodo</th>\n",
       "      <th>Entidad_Federativa</th>\n",
       "      <th>Sexo</th>\n",
       "      <th>Grupo_edad</th>\n",
       "      <th>Actividad_economica</th>\n",
       "      <th>Numero_personas</th>\n",
       "    </tr>\n",
       "  </thead>\n",
       "  <tbody>\n",
       "    <tr>\n",
       "      <th>0</th>\n",
       "      <td>20200301</td>\n",
       "      <td>Chiapas</td>\n",
       "      <td>Hombre</td>\n",
       "      <td>45 A 64 AÑOS</td>\n",
       "      <td>Servicios Sociales</td>\n",
       "      <td>20033.0</td>\n",
       "    </tr>\n",
       "    <tr>\n",
       "      <th>1</th>\n",
       "      <td>20200301</td>\n",
       "      <td>Chihuahua</td>\n",
       "      <td>Mujer</td>\n",
       "      <td>15 A 24 AÑOS</td>\n",
       "      <td>Agricultura, Ganadería, Silvicultura, Caza y P...</td>\n",
       "      <td>820.0</td>\n",
       "    </tr>\n",
       "    <tr>\n",
       "      <th>2</th>\n",
       "      <td>20200301</td>\n",
       "      <td>Chihuahua</td>\n",
       "      <td>Mujer</td>\n",
       "      <td>45 A 64 AÑOS</td>\n",
       "      <td>Servicios Profesionales, Financieros y Corpora...</td>\n",
       "      <td>14172.0</td>\n",
       "    </tr>\n",
       "    <tr>\n",
       "      <th>3</th>\n",
       "      <td>20200301</td>\n",
       "      <td>Ciudad de México</td>\n",
       "      <td>Mujer</td>\n",
       "      <td>15 A 24 AÑOS</td>\n",
       "      <td>Industria Manufacturera</td>\n",
       "      <td>23434.0</td>\n",
       "    </tr>\n",
       "    <tr>\n",
       "      <th>4</th>\n",
       "      <td>20200301</td>\n",
       "      <td>Ciudad de México</td>\n",
       "      <td>Mujer</td>\n",
       "      <td>25 A 44 AÑOS</td>\n",
       "      <td>Restaurantes y Servicios de Alojamiento</td>\n",
       "      <td>77169.0</td>\n",
       "    </tr>\n",
       "  </tbody>\n",
       "</table>\n",
       "</div>"
      ],
      "text/plain": [
       "    Periodo Entidad_Federativa    Sexo    Grupo_edad  \\\n",
       "0  20200301            Chiapas  Hombre  45 A 64 AÑOS   \n",
       "1  20200301          Chihuahua   Mujer  15 A 24 AÑOS   \n",
       "2  20200301          Chihuahua   Mujer  45 A 64 AÑOS   \n",
       "3  20200301   Ciudad de México   Mujer  15 A 24 AÑOS   \n",
       "4  20200301   Ciudad de México   Mujer  25 A 44 AÑOS   \n",
       "\n",
       "                                 Actividad_economica  Numero_personas  \n",
       "0                                 Servicios Sociales          20033.0  \n",
       "1  Agricultura, Ganadería, Silvicultura, Caza y P...            820.0  \n",
       "2  Servicios Profesionales, Financieros y Corpora...          14172.0  \n",
       "3                            Industria Manufacturera          23434.0  \n",
       "4            Restaurantes y Servicios de Alojamiento          77169.0  "
      ]
     },
     "execution_count": 13,
     "metadata": {},
     "output_type": "execute_result"
    }
   ],
   "source": [
    "formal_eco.head()"
   ]
  },
  {
   "cell_type": "code",
   "execution_count": 14,
   "metadata": {},
   "outputs": [
    {
     "name": "stdout",
     "output_type": "stream",
     "text": [
      "<class 'pandas.core.frame.DataFrame'>\n",
      "RangeIndex: 24502 entries, 0 to 24501\n",
      "Data columns (total 6 columns):\n",
      " #   Column               Non-Null Count  Dtype  \n",
      "---  ------               --------------  -----  \n",
      " 0   Periodo              24502 non-null  int64  \n",
      " 1   Entidad_Federativa   24502 non-null  object \n",
      " 2   Sexo                 24502 non-null  object \n",
      " 3   Grupo_edad           24502 non-null  object \n",
      " 4   Actividad_economica  24502 non-null  object \n",
      " 5   Numero_personas      24502 non-null  float64\n",
      "dtypes: float64(1), int64(1), object(4)\n",
      "memory usage: 1.1+ MB\n"
     ]
    }
   ],
   "source": [
    "formal_eco.info()"
   ]
  },
  {
   "cell_type": "markdown",
   "metadata": {},
   "source": [
    "Let's convert `Periodo` to datetime and set is as our `index`."
   ]
  },
  {
   "cell_type": "code",
   "execution_count": 18,
   "metadata": {},
   "outputs": [],
   "source": [
    "formal_eco['Periodo']=pd.to_datetime(formal_eco['Periodo'], format='%Y%m%d')"
   ]
  },
  {
   "cell_type": "code",
   "execution_count": 19,
   "metadata": {},
   "outputs": [],
   "source": [
    "formal_eco=formal_eco.set_index('Periodo')"
   ]
  },
  {
   "cell_type": "code",
   "execution_count": 20,
   "metadata": {},
   "outputs": [
    {
     "name": "stdout",
     "output_type": "stream",
     "text": [
      "<class 'pandas.core.frame.DataFrame'>\n",
      "DatetimeIndex: 24502 entries, 2020-03-01 to 2021-09-01\n",
      "Data columns (total 5 columns):\n",
      " #   Column               Non-Null Count  Dtype  \n",
      "---  ------               --------------  -----  \n",
      " 0   Entidad_Federativa   24502 non-null  object \n",
      " 1   Sexo                 24502 non-null  object \n",
      " 2   Grupo_edad           24502 non-null  object \n",
      " 3   Actividad_economica  24502 non-null  object \n",
      " 4   Numero_personas      24502 non-null  float64\n",
      "dtypes: float64(1), object(4)\n",
      "memory usage: 1.1+ MB\n"
     ]
    }
   ],
   "source": [
    "formal_eco.info()"
   ]
  },
  {
   "cell_type": "code",
   "execution_count": null,
   "metadata": {},
   "outputs": [],
   "source": []
  }
 ],
 "metadata": {
  "kernelspec": {
   "display_name": "Python 3",
   "language": "python",
   "name": "python3"
  },
  "language_info": {
   "codemirror_mode": {
    "name": "ipython",
    "version": 3
   },
   "file_extension": ".py",
   "mimetype": "text/x-python",
   "name": "python",
   "nbconvert_exporter": "python",
   "pygments_lexer": "ipython3",
   "version": "3.8.3"
  }
 },
 "nbformat": 4,
 "nbformat_minor": 4
}
