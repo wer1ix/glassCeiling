{
 "cells": [
  {
   "cell_type": "markdown",
   "metadata": {},
   "source": [
    "# Glass Ceiling - A Perspective on Earning Salary Over the last 15 Years"
   ]
  },
  {
   "cell_type": "markdown",
   "metadata": {},
   "source": [
    "## Objective: \n",
    "To show the differences in earning salary population for mexican woman during the last 15 years.<br /> After our data exploration, we just came down to three data sources which are:\n",
    "* Busy population by economical activity\n",
    "* Busy population with informal economical activity\n",
    "* **Population by gender and earned salary.**"
   ]
  },
  {
   "cell_type": "markdown",
   "metadata": {},
   "source": [
    "## Salary per Gender over the last 15 years"
   ]
  },
  {
   "cell_type": "markdown",
   "metadata": {},
   "source": [
    "The further analysis will try to make a statment about how women economical growth has been slower than men in Mexico."
   ]
  },
  {
   "cell_type": "code",
   "execution_count": 27,
   "metadata": {},
   "outputs": [],
   "source": [
    "import pandas as pd\n",
    "import numpy as np\n",
    "import matplotlib.pyplot as plt\n",
    "\n",
    "%matplotlib inline"
   ]
  },
  {
   "cell_type": "markdown",
   "metadata": {},
   "source": [
    "We import our sources:"
   ]
  },
  {
   "cell_type": "code",
   "execution_count": 15,
   "metadata": {},
   "outputs": [],
   "source": [
    "asalariados=pd.read_csv('Porcentaje_de_Asalariados_que_Ganan_hasta_tres_Salarios_Minimos.csv')"
   ]
  },
  {
   "cell_type": "markdown",
   "metadata": {},
   "source": [
    "So first lets replace ND to NaN"
   ]
  },
  {
   "cell_type": "code",
   "execution_count": 16,
   "metadata": {},
   "outputs": [],
   "source": [
    "asalariados=asalariados.replace('ND',np.NaN)"
   ]
  },
  {
   "cell_type": "code",
   "execution_count": 17,
   "metadata": {},
   "outputs": [],
   "source": [
    "asalariados=asalariados.dropna(thresh=6)"
   ]
  },
  {
   "cell_type": "code",
   "execution_count": 18,
   "metadata": {
    "scrolled": true
   },
   "outputs": [
    {
     "data": {
      "text/html": [
       "<div>\n",
       "<style scoped>\n",
       "    .dataframe tbody tr th:only-of-type {\n",
       "        vertical-align: middle;\n",
       "    }\n",
       "\n",
       "    .dataframe tbody tr th {\n",
       "        vertical-align: top;\n",
       "    }\n",
       "\n",
       "    .dataframe thead th {\n",
       "        text-align: right;\n",
       "    }\n",
       "</style>\n",
       "<table border=\"1\" class=\"dataframe\">\n",
       "  <thead>\n",
       "    <tr style=\"text-align: right;\">\n",
       "      <th></th>\n",
       "      <th>Periodo</th>\n",
       "      <th>Trimestre</th>\n",
       "      <th>Entidad_Federativa</th>\n",
       "      <th>Sexo</th>\n",
       "      <th>Asalariados que ganan hasta 3 salarios mínimos</th>\n",
       "      <th>Asalariados que reportan ingresos</th>\n",
       "      <th>Porcentaje de asalariados que ganan hasta tres salarios mínimos</th>\n",
       "    </tr>\n",
       "  </thead>\n",
       "  <tbody>\n",
       "    <tr>\n",
       "      <th>0</th>\n",
       "      <td>2005</td>\n",
       "      <td>1.0</td>\n",
       "      <td>Nacional</td>\n",
       "      <td>Hombres</td>\n",
       "      <td>9723085</td>\n",
       "      <td>14802566</td>\n",
       "      <td>65.685132</td>\n",
       "    </tr>\n",
       "    <tr>\n",
       "      <th>1</th>\n",
       "      <td>2005</td>\n",
       "      <td>1.0</td>\n",
       "      <td>Nacional</td>\n",
       "      <td>Mujeres</td>\n",
       "      <td>6290725</td>\n",
       "      <td>8602165</td>\n",
       "      <td>73.129555</td>\n",
       "    </tr>\n",
       "    <tr>\n",
       "      <th>2</th>\n",
       "      <td>2005</td>\n",
       "      <td>2.0</td>\n",
       "      <td>Nacional</td>\n",
       "      <td>Hombres</td>\n",
       "      <td>9399550</td>\n",
       "      <td>14647255</td>\n",
       "      <td>64.172775</td>\n",
       "    </tr>\n",
       "    <tr>\n",
       "      <th>3</th>\n",
       "      <td>2005</td>\n",
       "      <td>2.0</td>\n",
       "      <td>Nacional</td>\n",
       "      <td>Mujeres</td>\n",
       "      <td>6319112</td>\n",
       "      <td>8755287</td>\n",
       "      <td>72.174813</td>\n",
       "    </tr>\n",
       "    <tr>\n",
       "      <th>4</th>\n",
       "      <td>2005</td>\n",
       "      <td>3.0</td>\n",
       "      <td>Nacional</td>\n",
       "      <td>Hombres</td>\n",
       "      <td>9428780</td>\n",
       "      <td>14792341</td>\n",
       "      <td>63.740959</td>\n",
       "    </tr>\n",
       "  </tbody>\n",
       "</table>\n",
       "</div>"
      ],
      "text/plain": [
       "  Periodo  Trimestre Entidad_Federativa     Sexo  \\\n",
       "0    2005        1.0           Nacional  Hombres   \n",
       "1    2005        1.0           Nacional  Mujeres   \n",
       "2    2005        2.0           Nacional  Hombres   \n",
       "3    2005        2.0           Nacional  Mujeres   \n",
       "4    2005        3.0           Nacional  Hombres   \n",
       "\n",
       "  Asalariados que ganan hasta 3 salarios mínimos  \\\n",
       "0                                        9723085   \n",
       "1                                        6290725   \n",
       "2                                        9399550   \n",
       "3                                        6319112   \n",
       "4                                        9428780   \n",
       "\n",
       "  Asalariados que reportan ingresos  \\\n",
       "0                          14802566   \n",
       "1                           8602165   \n",
       "2                          14647255   \n",
       "3                           8755287   \n",
       "4                          14792341   \n",
       "\n",
       "  Porcentaje de asalariados que ganan hasta tres salarios mínimos  \n",
       "0                                          65.685132               \n",
       "1                                          73.129555               \n",
       "2                                          64.172775               \n",
       "3                                          72.174813               \n",
       "4                                          63.740959               "
      ]
     },
     "execution_count": 18,
     "metadata": {},
     "output_type": "execute_result"
    }
   ],
   "source": [
    "asalariados.head()"
   ]
  },
  {
   "cell_type": "code",
   "execution_count": 19,
   "metadata": {
    "scrolled": false
   },
   "outputs": [
    {
     "name": "stdout",
     "output_type": "stream",
     "text": [
      "<class 'pandas.core.frame.DataFrame'>\n",
      "Int64Index: 126 entries, 0 to 127\n",
      "Data columns (total 7 columns):\n",
      " #   Column                                                           Non-Null Count  Dtype  \n",
      "---  ------                                                           --------------  -----  \n",
      " 0   Periodo                                                          126 non-null    object \n",
      " 1   Trimestre                                                        126 non-null    float64\n",
      " 2   Entidad_Federativa                                               126 non-null    object \n",
      " 3   Sexo                                                             126 non-null    object \n",
      " 4   Asalariados que ganan hasta 3 salarios mínimos                   126 non-null    object \n",
      " 5   Asalariados que reportan ingresos                                126 non-null    object \n",
      " 6   Porcentaje de asalariados que ganan hasta tres salarios mínimos  126 non-null    object \n",
      "dtypes: float64(1), object(6)\n",
      "memory usage: 7.9+ KB\n"
     ]
    }
   ],
   "source": [
    "asalariados.info()"
   ]
  },
  {
   "cell_type": "markdown",
   "metadata": {},
   "source": [
    "Let's convert accordingly the `dtypes`of the `asalariados` dataframe."
   ]
  },
  {
   "cell_type": "code",
   "execution_count": 8,
   "metadata": {},
   "outputs": [],
   "source": [
    "asalariado=asalariados.convert_dtypes()"
   ]
  },
  {
   "cell_type": "code",
   "execution_count": 9,
   "metadata": {},
   "outputs": [
    {
     "name": "stdout",
     "output_type": "stream",
     "text": [
      "<class 'pandas.core.frame.DataFrame'>\n",
      "Int64Index: 126 entries, 0 to 127\n",
      "Data columns (total 7 columns):\n",
      " #   Column                                                           Non-Null Count  Dtype \n",
      "---  ------                                                           --------------  ----- \n",
      " 0   Periodo                                                          126 non-null    string\n",
      " 1   Trimestre                                                        126 non-null    Int64 \n",
      " 2   Entidad_Federativa                                               126 non-null    string\n",
      " 3   Sexo                                                             126 non-null    string\n",
      " 4   Asalariados que ganan hasta 3 salarios mínimos                   126 non-null    string\n",
      " 5   Asalariados que reportan ingresos                                126 non-null    string\n",
      " 6   Porcentaje de asalariados que ganan hasta tres salarios mínimos  126 non-null    string\n",
      "dtypes: Int64(1), string(6)\n",
      "memory usage: 8.0 KB\n"
     ]
    }
   ],
   "source": [
    "asalariado.info()"
   ]
  },
  {
   "cell_type": "code",
   "execution_count": 20,
   "metadata": {},
   "outputs": [],
   "source": [
    "asalariados['Asalariados que ganan hasta 3 salarios mínimos']=pd.to_numeric(asalariados['Asalariados que ganan hasta 3 salarios mínimos'])"
   ]
  },
  {
   "cell_type": "code",
   "execution_count": 25,
   "metadata": {},
   "outputs": [],
   "source": [
    "asalariados['Asalariados que reportan ingresos']=pd.to_numeric(asalariados['Asalariados que reportan ingresos'])"
   ]
  },
  {
   "cell_type": "code",
   "execution_count": 22,
   "metadata": {},
   "outputs": [],
   "source": [
    "asalariados['Porcentaje de asalariados que ganan hasta tres salarios mínimos']=pd.to_numeric(asalariados['Porcentaje de asalariados que ganan hasta tres salarios mínimos'])"
   ]
  },
  {
   "cell_type": "code",
   "execution_count": 24,
   "metadata": {},
   "outputs": [
    {
     "name": "stdout",
     "output_type": "stream",
     "text": [
      "<class 'pandas.core.frame.DataFrame'>\n",
      "Int64Index: 126 entries, 0 to 127\n",
      "Data columns (total 7 columns):\n",
      " #   Column                                                           Non-Null Count  Dtype  \n",
      "---  ------                                                           --------------  -----  \n",
      " 0   Periodo                                                          126 non-null    object \n",
      " 1   Trimestre                                                        126 non-null    float64\n",
      " 2   Entidad_Federativa                                               126 non-null    object \n",
      " 3   Sexo                                                             126 non-null    object \n",
      " 4   Asalariados que ganan hasta 3 salarios mínimos                   126 non-null    int64  \n",
      " 5   Asalariados que reportan ingresos                                126 non-null    int64  \n",
      " 6   Porcentaje de asalariados que ganan hasta tres salarios mínimos  126 non-null    float64\n",
      "dtypes: float64(2), int64(2), object(3)\n",
      "memory usage: 7.9+ KB\n"
     ]
    }
   ],
   "source": [
    "asalariados.info()"
   ]
  },
  {
   "cell_type": "markdown",
   "metadata": {},
   "source": [
    "Now that we have the `asalariados` dataframe cleaned, let's start by analysing the change by gender on earning population over the last years."
   ]
  },
  {
   "cell_type": "code",
   "execution_count": 26,
   "metadata": {
    "scrolled": true
   },
   "outputs": [
    {
     "data": {
      "text/plain": [
       "array(['2005', '2006', '2007', '2008', '2009', '2010', '2011', '2012',\n",
       "       '2013', '2014', '2015', '2016', '2017', '2018', '2019', '2020'],\n",
       "      dtype=object)"
      ]
     },
     "execution_count": 26,
     "metadata": {},
     "output_type": "execute_result"
    }
   ],
   "source": [
    "asalariados['Periodo'].unique()"
   ]
  },
  {
   "cell_type": "markdown",
   "metadata": {},
   "source": [
    "We have continuous data from the last 15 years until 2020. So we'll check the growth in percentage over the years by gender, the hypothesis is that the grown for men has grown quicker than female:"
   ]
  },
  {
   "cell_type": "markdown",
   "metadata": {},
   "source": [
    "## Earning population who earns more than three times the minimum wage"
   ]
  },
  {
   "cell_type": "code",
   "execution_count": 86,
   "metadata": {
    "scrolled": false
   },
   "outputs": [
    {
     "data": {
      "text/plain": [
       "<matplotlib.axes._subplots.AxesSubplot at 0x25aaa3a5c40>"
      ]
     },
     "execution_count": 86,
     "metadata": {},
     "output_type": "execute_result"
    },
    {
     "data": {
      "image/png": "[encoded data removed]",
      "text/plain": [
       "<Figure size 1440x576 with 1 Axes>"
      ]
     },
     "metadata": {},
     "output_type": "display_data"
    }
   ],
   "source": [
    "# recupera el salario de cada año, agrupado por sexo:\n",
    "ax1 = asalariados.groupby(['Periodo', 'Sexo']).sum()['Asalariados que ganan hasta 3 salarios mínimos'].unstack()\n",
    "# genera el gráfico:\n",
    "ax1.plot(kind=\"bar\",figsize =(20, 8),colormap='PiYG')"
   ]
  },
  {
   "cell_type": "markdown",
   "metadata": {},
   "source": [
    "As per the graph we can se a very constant growth all over the years between gender; let's get the mean value from the differences in earned wage. <br /> Let's define a new dataframe for this:"
   ]
  },
  {
   "cell_type": "code",
   "execution_count": null,
   "metadata": {},
   "outputs": [],
   "source": []
  },
  {
   "cell_type": "code",
   "execution_count": 91,
   "metadata": {
    "scrolled": true
   },
   "outputs": [
    {
     "data": {
      "text/plain": [
       "<matplotlib.axes._subplots.AxesSubplot at 0x25aaa65aa30>"
      ]
     },
     "execution_count": 91,
     "metadata": {},
     "output_type": "execute_result"
    },
    {
     "data": {
      "image/png": "[encoded data removed]",
      "text/plain": [
       "<Figure size 1440x576 with 1 Axes>"
      ]
     },
     "metadata": {},
     "output_type": "display_data"
    }
   ],
   "source": [
    "# recupera el salario de cada año, agrupado por sexo:\n",
    "ax2 = asalariados.groupby(['Periodo', 'Sexo']).sum()['Asalariados que reportan ingresos'].unstack()\n",
    "# genera el gráfico:\n",
    "ax2.plot(kind=\"bar\",figsize =(20, 8),colormap='Paired')"
   ]
  },
  {
   "cell_type": "code",
   "execution_count": 97,
   "metadata": {},
   "outputs": [
    {
     "data": {
      "text/plain": [
       "<matplotlib.axes._subplots.AxesSubplot at 0x25aaa76bbe0>"
      ]
     },
     "execution_count": 97,
     "metadata": {},
     "output_type": "execute_result"
    },
    {
     "data": {
      "image/png": "[encoded data removed]",
      "text/plain": [
       "<Figure size 1440x576 with 1 Axes>"
      ]
     },
     "metadata": {},
     "output_type": "display_data"
    }
   ],
   "source": [
    "# recupera el salario de cada año, agrupado por sexo:\n",
    "ax2 = asalariados.groupby(['Periodo', 'Sexo']).sum()['Porcentaje de asalariados que ganan hasta tres salarios mínimos'].unstack()\n",
    "# genera el gráfico:\n",
    "ax2.plot(kind=\"bar\",figsize =(20, 8),colormap='Paired')"
   ]
  },
  {
   "cell_type": "code",
   "execution_count": 104,
   "metadata": {},
   "outputs": [
    {
     "data": {
      "text/plain": [
       "<matplotlib.axes._subplots.AxesSubplot at 0x25aaa2db2b0>"
      ]
     },
     "execution_count": 104,
     "metadata": {},
     "output_type": "execute_result"
    },
    {
     "data": {
      "image/png": "[encoded data removed]",
      "text/plain": [
       "<Figure size 432x288 with 1 Axes>"
      ]
     },
     "metadata": {},
     "output_type": "display_data"
    }
   ],
   "source": [
    "ax3 = asalariados.groupby(['Periodo','Sexo'])['Porcentaje de asalariados que ganan hasta tres salarios mínimos'].sum().unstack('Sexo').fillna(0)\n",
    "ax3.plot(kind='bar', stacked=True)"
   ]
  }
 ],
 "metadata": {
  "kernelspec": {
   "display_name": "Python 3",
   "language": "python",
   "name": "python3"
  },
  "language_info": {
   "codemirror_mode": {
    "name": "ipython",
    "version": 3
   },
   "file_extension": ".py",
   "mimetype": "text/x-python",
   "name": "python",
   "nbconvert_exporter": "python",
   "pygments_lexer": "ipython3",
   "version": "3.8.3"
  }
 },
 "nbformat": 4,
 "nbformat_minor": 4
}
