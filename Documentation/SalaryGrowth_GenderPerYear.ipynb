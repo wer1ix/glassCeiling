{
 "cells": [
  {
   "cell_type": "markdown",
   "metadata": {},
   "source": [
    "# Glass Ceiling - A Perspective on Earning Salary Over the last 15 Years"
   ]
  },
  {
   "cell_type": "markdown",
   "metadata": {},
   "source": [
    "## Objective: \n",
    "To show the differences in earning salary population for mexican woman during the last 15 years.<br /> After our data exploration, we just came down to three data sources which are:\n",
    "* **Population by gender and earned salary.**\n",
    "* Busy population by formality under economical activity"
   ]
  },
  {
   "cell_type": "markdown",
   "metadata": {},
   "source": [
    "## Cleaning Sources\n",
    "### Salary per Gender over the last 15 years"
   ]
  },
  {
   "cell_type": "markdown",
   "metadata": {},
   "source": [
    "The further analysis will try to make a statment about how women economical growth has been slower than men in Mexico."
   ]
  },
  {
   "cell_type": "code",
   "execution_count": 1,
   "metadata": {},
   "outputs": [],
   "source": [
    "import pandas as pd\n",
    "import numpy as np\n",
    "import matplotlib.pyplot as plt\n",
    "\n",
    "%matplotlib inline"
   ]
  },
  {
   "cell_type": "markdown",
   "metadata": {},
   "source": [
    "We import our sources:"
   ]
  },
  {
   "cell_type": "code",
   "execution_count": 2,
   "metadata": {},
   "outputs": [],
   "source": [
    "asalariados=pd.read_csv('Porcentaje_de_Asalariados_que_Ganan_hasta_tres_Salarios_Minimos.csv')"
   ]
  },
  {
   "cell_type": "markdown",
   "metadata": {},
   "source": [
    "So first lets replace ND to NaN"
   ]
  },
  {
   "cell_type": "code",
   "execution_count": 3,
   "metadata": {},
   "outputs": [],
   "source": [
    "asalariados=asalariados.replace('ND',np.NaN)"
   ]
  },
  {
   "cell_type": "markdown",
   "metadata": {},
   "source": [
    "And drop empty values; p.e.: with 6 or more Null values per row:"
   ]
  },
  {
   "cell_type": "code",
   "execution_count": 4,
   "metadata": {},
   "outputs": [],
   "source": [
    "asalariados=asalariados.dropna(thresh=6)"
   ]
  },
  {
   "cell_type": "code",
   "execution_count": 5,
   "metadata": {
    "scrolled": true
   },
   "outputs": [
    {
     "data": {
      "text/html": [
       "<div>\n",
       "<style scoped>\n",
       "    .dataframe tbody tr th:only-of-type {\n",
       "        vertical-align: middle;\n",
       "    }\n",
       "\n",
       "    .dataframe tbody tr th {\n",
       "        vertical-align: top;\n",
       "    }\n",
       "\n",
       "    .dataframe thead th {\n",
       "        text-align: right;\n",
       "    }\n",
       "</style>\n",
       "<table border=\"1\" class=\"dataframe\">\n",
       "  <thead>\n",
       "    <tr style=\"text-align: right;\">\n",
       "      <th></th>\n",
       "      <th>Periodo</th>\n",
       "      <th>Trimestre</th>\n",
       "      <th>Entidad_Federativa</th>\n",
       "      <th>Sexo</th>\n",
       "      <th>Asalariados que ganan hasta 3 salarios mínimos</th>\n",
       "      <th>Asalariados que reportan ingresos</th>\n",
       "      <th>Porcentaje de asalariados que ganan hasta tres salarios mínimos</th>\n",
       "    </tr>\n",
       "  </thead>\n",
       "  <tbody>\n",
       "    <tr>\n",
       "      <th>0</th>\n",
       "      <td>2005</td>\n",
       "      <td>1.0</td>\n",
       "      <td>Nacional</td>\n",
       "      <td>Hombres</td>\n",
       "      <td>9723085</td>\n",
       "      <td>14802566</td>\n",
       "      <td>65.685132</td>\n",
       "    </tr>\n",
       "    <tr>\n",
       "      <th>1</th>\n",
       "      <td>2005</td>\n",
       "      <td>1.0</td>\n",
       "      <td>Nacional</td>\n",
       "      <td>Mujeres</td>\n",
       "      <td>6290725</td>\n",
       "      <td>8602165</td>\n",
       "      <td>73.129555</td>\n",
       "    </tr>\n",
       "    <tr>\n",
       "      <th>2</th>\n",
       "      <td>2005</td>\n",
       "      <td>2.0</td>\n",
       "      <td>Nacional</td>\n",
       "      <td>Hombres</td>\n",
       "      <td>9399550</td>\n",
       "      <td>14647255</td>\n",
       "      <td>64.172775</td>\n",
       "    </tr>\n",
       "    <tr>\n",
       "      <th>3</th>\n",
       "      <td>2005</td>\n",
       "      <td>2.0</td>\n",
       "      <td>Nacional</td>\n",
       "      <td>Mujeres</td>\n",
       "      <td>6319112</td>\n",
       "      <td>8755287</td>\n",
       "      <td>72.174813</td>\n",
       "    </tr>\n",
       "    <tr>\n",
       "      <th>4</th>\n",
       "      <td>2005</td>\n",
       "      <td>3.0</td>\n",
       "      <td>Nacional</td>\n",
       "      <td>Hombres</td>\n",
       "      <td>9428780</td>\n",
       "      <td>14792341</td>\n",
       "      <td>63.740959</td>\n",
       "    </tr>\n",
       "  </tbody>\n",
       "</table>\n",
       "</div>"
      ],
      "text/plain": [
       "  Periodo  Trimestre Entidad_Federativa     Sexo  \\\n",
       "0    2005        1.0           Nacional  Hombres   \n",
       "1    2005        1.0           Nacional  Mujeres   \n",
       "2    2005        2.0           Nacional  Hombres   \n",
       "3    2005        2.0           Nacional  Mujeres   \n",
       "4    2005        3.0           Nacional  Hombres   \n",
       "\n",
       "  Asalariados que ganan hasta 3 salarios mínimos  \\\n",
       "0                                        9723085   \n",
       "1                                        6290725   \n",
       "2                                        9399550   \n",
       "3                                        6319112   \n",
       "4                                        9428780   \n",
       "\n",
       "  Asalariados que reportan ingresos  \\\n",
       "0                          14802566   \n",
       "1                           8602165   \n",
       "2                          14647255   \n",
       "3                           8755287   \n",
       "4                          14792341   \n",
       "\n",
       "  Porcentaje de asalariados que ganan hasta tres salarios mínimos  \n",
       "0                                          65.685132               \n",
       "1                                          73.129555               \n",
       "2                                          64.172775               \n",
       "3                                          72.174813               \n",
       "4                                          63.740959               "
      ]
     },
     "execution_count": 5,
     "metadata": {},
     "output_type": "execute_result"
    }
   ],
   "source": [
    "asalariados.head()"
   ]
  },
  {
   "cell_type": "code",
   "execution_count": 6,
   "metadata": {
    "scrolled": false
   },
   "outputs": [
    {
     "name": "stdout",
     "output_type": "stream",
     "text": [
      "<class 'pandas.core.frame.DataFrame'>\n",
      "Int64Index: 126 entries, 0 to 127\n",
      "Data columns (total 7 columns):\n",
      " #   Column                                                           Non-Null Count  Dtype  \n",
      "---  ------                                                           --------------  -----  \n",
      " 0   Periodo                                                          126 non-null    object \n",
      " 1   Trimestre                                                        126 non-null    float64\n",
      " 2   Entidad_Federativa                                               126 non-null    object \n",
      " 3   Sexo                                                             126 non-null    object \n",
      " 4   Asalariados que ganan hasta 3 salarios mínimos                   126 non-null    object \n",
      " 5   Asalariados que reportan ingresos                                126 non-null    object \n",
      " 6   Porcentaje de asalariados que ganan hasta tres salarios mínimos  126 non-null    object \n",
      "dtypes: float64(1), object(6)\n",
      "memory usage: 7.9+ KB\n"
     ]
    }
   ],
   "source": [
    "asalariados.info()"
   ]
  },
  {
   "cell_type": "markdown",
   "metadata": {},
   "source": [
    "Let's convert accordingly the `dtypes`of the `asalariados` dataframe."
   ]
  },
  {
   "cell_type": "code",
   "execution_count": 7,
   "metadata": {},
   "outputs": [],
   "source": [
    "asalariado=asalariados.convert_dtypes()"
   ]
  },
  {
   "cell_type": "code",
   "execution_count": 8,
   "metadata": {},
   "outputs": [
    {
     "name": "stdout",
     "output_type": "stream",
     "text": [
      "<class 'pandas.core.frame.DataFrame'>\n",
      "Int64Index: 126 entries, 0 to 127\n",
      "Data columns (total 7 columns):\n",
      " #   Column                                                           Non-Null Count  Dtype \n",
      "---  ------                                                           --------------  ----- \n",
      " 0   Periodo                                                          126 non-null    string\n",
      " 1   Trimestre                                                        126 non-null    Int64 \n",
      " 2   Entidad_Federativa                                               126 non-null    string\n",
      " 3   Sexo                                                             126 non-null    string\n",
      " 4   Asalariados que ganan hasta 3 salarios mínimos                   126 non-null    string\n",
      " 5   Asalariados que reportan ingresos                                126 non-null    string\n",
      " 6   Porcentaje de asalariados que ganan hasta tres salarios mínimos  126 non-null    string\n",
      "dtypes: Int64(1), string(6)\n",
      "memory usage: 8.0 KB\n"
     ]
    }
   ],
   "source": [
    "asalariado.info()"
   ]
  },
  {
   "cell_type": "markdown",
   "metadata": {},
   "source": [
    "And `to_numeric()`:"
   ]
  },
  {
   "cell_type": "code",
   "execution_count": 9,
   "metadata": {},
   "outputs": [],
   "source": [
    "asalariados['Asalariados que ganan hasta 3 salarios mínimos']=pd.to_numeric(asalariados['Asalariados que ganan hasta 3 salarios mínimos'])"
   ]
  },
  {
   "cell_type": "code",
   "execution_count": 10,
   "metadata": {},
   "outputs": [],
   "source": [
    "asalariados['Asalariados que reportan ingresos']=pd.to_numeric(asalariados['Asalariados que reportan ingresos'])"
   ]
  },
  {
   "cell_type": "code",
   "execution_count": 11,
   "metadata": {},
   "outputs": [],
   "source": [
    "asalariados['Porcentaje de asalariados que ganan hasta tres salarios mínimos']=pd.to_numeric(asalariados['Porcentaje de asalariados que ganan hasta tres salarios mínimos'])"
   ]
  },
  {
   "cell_type": "code",
   "execution_count": 12,
   "metadata": {},
   "outputs": [
    {
     "name": "stdout",
     "output_type": "stream",
     "text": [
      "<class 'pandas.core.frame.DataFrame'>\n",
      "Int64Index: 126 entries, 0 to 127\n",
      "Data columns (total 7 columns):\n",
      " #   Column                                                           Non-Null Count  Dtype  \n",
      "---  ------                                                           --------------  -----  \n",
      " 0   Periodo                                                          126 non-null    object \n",
      " 1   Trimestre                                                        126 non-null    float64\n",
      " 2   Entidad_Federativa                                               126 non-null    object \n",
      " 3   Sexo                                                             126 non-null    object \n",
      " 4   Asalariados que ganan hasta 3 salarios mínimos                   126 non-null    int64  \n",
      " 5   Asalariados que reportan ingresos                                126 non-null    int64  \n",
      " 6   Porcentaje de asalariados que ganan hasta tres salarios mínimos  126 non-null    float64\n",
      "dtypes: float64(2), int64(2), object(3)\n",
      "memory usage: 7.9+ KB\n"
     ]
    }
   ],
   "source": [
    "asalariados.info()"
   ]
  },
  {
   "cell_type": "markdown",
   "metadata": {},
   "source": [
    "Now that we have the `asalariados` dataframe cleaned, let's start by analysing the change by gender on earning population over the last years."
   ]
  },
  {
   "cell_type": "code",
   "execution_count": 13,
   "metadata": {
    "scrolled": true
   },
   "outputs": [
    {
     "data": {
      "text/plain": [
       "array(['2005', '2006', '2007', '2008', '2009', '2010', '2011', '2012',\n",
       "       '2013', '2014', '2015', '2016', '2017', '2018', '2019', '2020'],\n",
       "      dtype=object)"
      ]
     },
     "execution_count": 13,
     "metadata": {},
     "output_type": "execute_result"
    }
   ],
   "source": [
    "asalariados['Periodo'].unique()"
   ]
  },
  {
   "cell_type": "markdown",
   "metadata": {},
   "source": [
    "### Population amount per gender each 5 years for the last 15 years"
   ]
  },
  {
   "cell_type": "code",
   "execution_count": 14,
   "metadata": {},
   "outputs": [],
   "source": [
    "poblacion=pd.read_csv('Poblacion_02.csv')\n",
    "\n",
    "#Fuentes:\n",
    "#INEGI. II Conteo de Población y Vivienda 2005.\n",
    "#INEGI. Censo de Población y Vivienda 2010.\n",
    "#INEGI. Censo de Población y Vivienda 2020.\n",
    "\n",
    "#Información para población mayor a 15 años para representar mayor ocupación laboral"
   ]
  },
  {
   "cell_type": "code",
   "execution_count": 15,
   "metadata": {
    "scrolled": false
   },
   "outputs": [
    {
     "data": {
      "text/html": [
       "<div>\n",
       "<style scoped>\n",
       "    .dataframe tbody tr th:only-of-type {\n",
       "        vertical-align: middle;\n",
       "    }\n",
       "\n",
       "    .dataframe tbody tr th {\n",
       "        vertical-align: top;\n",
       "    }\n",
       "\n",
       "    .dataframe thead th {\n",
       "        text-align: right;\n",
       "    }\n",
       "</style>\n",
       "<table border=\"1\" class=\"dataframe\">\n",
       "  <thead>\n",
       "    <tr style=\"text-align: right;\">\n",
       "      <th></th>\n",
       "      <th>Periodo</th>\n",
       "      <th>Género</th>\n",
       "      <th>Total</th>\n",
       "    </tr>\n",
       "  </thead>\n",
       "  <tbody>\n",
       "    <tr>\n",
       "      <th>0</th>\n",
       "      <td>2005</td>\n",
       "      <td>Hombres</td>\n",
       "      <td>50249955</td>\n",
       "    </tr>\n",
       "    <tr>\n",
       "      <th>1</th>\n",
       "      <td>2010</td>\n",
       "      <td>Hombres</td>\n",
       "      <td>54855231</td>\n",
       "    </tr>\n",
       "    <tr>\n",
       "      <th>2</th>\n",
       "      <td>2020</td>\n",
       "      <td>Hombres</td>\n",
       "      <td>61473390</td>\n",
       "    </tr>\n",
       "    <tr>\n",
       "      <th>3</th>\n",
       "      <td>2005</td>\n",
       "      <td>Mujeres</td>\n",
       "      <td>53013433</td>\n",
       "    </tr>\n",
       "    <tr>\n",
       "      <th>4</th>\n",
       "      <td>2010</td>\n",
       "      <td>Mujeres</td>\n",
       "      <td>57481307</td>\n",
       "    </tr>\n",
       "    <tr>\n",
       "      <th>5</th>\n",
       "      <td>2020</td>\n",
       "      <td>Mujeres</td>\n",
       "      <td>64540634</td>\n",
       "    </tr>\n",
       "  </tbody>\n",
       "</table>\n",
       "</div>"
      ],
      "text/plain": [
       "   Periodo   Género     Total\n",
       "0     2005  Hombres  50249955\n",
       "1     2010  Hombres  54855231\n",
       "2     2020  Hombres  61473390\n",
       "3     2005  Mujeres  53013433\n",
       "4     2010  Mujeres  57481307\n",
       "5     2020  Mujeres  64540634"
      ]
     },
     "execution_count": 15,
     "metadata": {},
     "output_type": "execute_result"
    }
   ],
   "source": [
    "poblacion"
   ]
  },
  {
   "cell_type": "code",
   "execution_count": 16,
   "metadata": {
    "scrolled": true
   },
   "outputs": [
    {
     "data": {
      "text/html": [
       "<div>\n",
       "<style scoped>\n",
       "    .dataframe tbody tr th:only-of-type {\n",
       "        vertical-align: middle;\n",
       "    }\n",
       "\n",
       "    .dataframe tbody tr th {\n",
       "        vertical-align: top;\n",
       "    }\n",
       "\n",
       "    .dataframe thead th {\n",
       "        text-align: right;\n",
       "    }\n",
       "</style>\n",
       "<table border=\"1\" class=\"dataframe\">\n",
       "  <thead>\n",
       "    <tr style=\"text-align: right;\">\n",
       "      <th></th>\n",
       "      <th>Género</th>\n",
       "      <th>Total</th>\n",
       "    </tr>\n",
       "    <tr>\n",
       "      <th>Periodo</th>\n",
       "      <th></th>\n",
       "      <th></th>\n",
       "    </tr>\n",
       "  </thead>\n",
       "  <tbody>\n",
       "    <tr>\n",
       "      <th>2005</th>\n",
       "      <td>Hombres</td>\n",
       "      <td>50249955</td>\n",
       "    </tr>\n",
       "    <tr>\n",
       "      <th>2010</th>\n",
       "      <td>Hombres</td>\n",
       "      <td>54855231</td>\n",
       "    </tr>\n",
       "    <tr>\n",
       "      <th>2020</th>\n",
       "      <td>Hombres</td>\n",
       "      <td>61473390</td>\n",
       "    </tr>\n",
       "    <tr>\n",
       "      <th>2005</th>\n",
       "      <td>Mujeres</td>\n",
       "      <td>53013433</td>\n",
       "    </tr>\n",
       "    <tr>\n",
       "      <th>2010</th>\n",
       "      <td>Mujeres</td>\n",
       "      <td>57481307</td>\n",
       "    </tr>\n",
       "    <tr>\n",
       "      <th>2020</th>\n",
       "      <td>Mujeres</td>\n",
       "      <td>64540634</td>\n",
       "    </tr>\n",
       "  </tbody>\n",
       "</table>\n",
       "</div>"
      ],
      "text/plain": [
       "          Género     Total\n",
       "Periodo                   \n",
       "2005     Hombres  50249955\n",
       "2010     Hombres  54855231\n",
       "2020     Hombres  61473390\n",
       "2005     Mujeres  53013433\n",
       "2010     Mujeres  57481307\n",
       "2020     Mujeres  64540634"
      ]
     },
     "execution_count": 16,
     "metadata": {},
     "output_type": "execute_result"
    }
   ],
   "source": [
    "poblacion.set_index('Periodo')"
   ]
  },
  {
   "cell_type": "code",
   "execution_count": 17,
   "metadata": {
    "scrolled": true
   },
   "outputs": [
    {
     "data": {
      "text/plain": [
       "<matplotlib.axes._subplots.AxesSubplot at 0x1c75042d9a0>"
      ]
     },
     "execution_count": 17,
     "metadata": {},
     "output_type": "execute_result"
    },
    {
     "data": {
      "image/png": "[encoded data removed]",
      "text/plain": [
       "<Figure size 1440x576 with 1 Axes>"
      ]
     },
     "metadata": {
      "needs_background": "light"
     },
     "output_type": "display_data"
    }
   ],
   "source": [
    "# Checamos diferencias visuales entre la población:\n",
    "ax0 = poblacion.groupby(['Periodo', 'Género']).sum()['Total'].unstack()\n",
    "# genera el gráfico:\n",
    "ax0.plot(kind=\"bar\",figsize =(20, 8),colormap='PiYG')"
   ]
  },
  {
   "cell_type": "markdown",
   "metadata": {},
   "source": [
    "If we check differences with percentage on the mean population:"
   ]
  },
  {
   "cell_type": "code",
   "execution_count": 18,
   "metadata": {},
   "outputs": [],
   "source": [
    "popM = (\n",
    "    poblacion.loc[poblacion['Género']=='Mujeres']\n",
    "    .groupby('Periodo')\n",
    "    .agg({'Total':'sum'})\n",
    "    .reset_index()\n",
    ")\n",
    "popM.set_index('Periodo')\n",
    "popM=popM.rename(columns = {'Total':'Mujeres'})"
   ]
  },
  {
   "cell_type": "code",
   "execution_count": 19,
   "metadata": {},
   "outputs": [],
   "source": [
    "popH = (\n",
    "    poblacion.loc[poblacion['Género']=='Hombres']\n",
    "    .groupby('Periodo')\n",
    "    .agg({'Total':'sum'})\n",
    "    .reset_index()\n",
    ")\n",
    "popH.set_index('Periodo')\n",
    "popH=popH.rename(columns = {'Total':'Hombres'})"
   ]
  },
  {
   "cell_type": "code",
   "execution_count": 20,
   "metadata": {
    "scrolled": true
   },
   "outputs": [],
   "source": [
    "nPop=pd.concat(\n",
    "    [\n",
    "        popM\n",
    "        ,popH.iloc[:,1]\n",
    "    ]\n",
    "    ,axis=1,ignore_index=False)\n",
    "\n",
    "nPop=nPop.set_index('Periodo')"
   ]
  },
  {
   "cell_type": "code",
   "execution_count": 21,
   "metadata": {},
   "outputs": [],
   "source": [
    "nPop['Total']=nPop['Mujeres']+nPop['Hombres']\n",
    "nPop['%Mujeres']=np.round(nPop['Mujeres']/nPop['Total']*100,2)\n",
    "nPop['%Hombres']=np.round(nPop['Hombres']/nPop['Total']*100,2)"
   ]
  },
  {
   "cell_type": "code",
   "execution_count": 22,
   "metadata": {},
   "outputs": [
    {
     "data": {
      "text/html": [
       "<div>\n",
       "<style scoped>\n",
       "    .dataframe tbody tr th:only-of-type {\n",
       "        vertical-align: middle;\n",
       "    }\n",
       "\n",
       "    .dataframe tbody tr th {\n",
       "        vertical-align: top;\n",
       "    }\n",
       "\n",
       "    .dataframe thead th {\n",
       "        text-align: right;\n",
       "    }\n",
       "</style>\n",
       "<table border=\"1\" class=\"dataframe\">\n",
       "  <thead>\n",
       "    <tr style=\"text-align: right;\">\n",
       "      <th></th>\n",
       "      <th>Mujeres</th>\n",
       "      <th>Hombres</th>\n",
       "      <th>Total</th>\n",
       "      <th>%Mujeres</th>\n",
       "      <th>%Hombres</th>\n",
       "    </tr>\n",
       "    <tr>\n",
       "      <th>Periodo</th>\n",
       "      <th></th>\n",
       "      <th></th>\n",
       "      <th></th>\n",
       "      <th></th>\n",
       "      <th></th>\n",
       "    </tr>\n",
       "  </thead>\n",
       "  <tbody>\n",
       "    <tr>\n",
       "      <th>2005</th>\n",
       "      <td>53013433</td>\n",
       "      <td>50249955</td>\n",
       "      <td>103263388</td>\n",
       "      <td>51.34</td>\n",
       "      <td>48.66</td>\n",
       "    </tr>\n",
       "    <tr>\n",
       "      <th>2010</th>\n",
       "      <td>57481307</td>\n",
       "      <td>54855231</td>\n",
       "      <td>112336538</td>\n",
       "      <td>51.17</td>\n",
       "      <td>48.83</td>\n",
       "    </tr>\n",
       "    <tr>\n",
       "      <th>2020</th>\n",
       "      <td>64540634</td>\n",
       "      <td>61473390</td>\n",
       "      <td>126014024</td>\n",
       "      <td>51.22</td>\n",
       "      <td>48.78</td>\n",
       "    </tr>\n",
       "  </tbody>\n",
       "</table>\n",
       "</div>"
      ],
      "text/plain": [
       "          Mujeres   Hombres      Total  %Mujeres  %Hombres\n",
       "Periodo                                                   \n",
       "2005     53013433  50249955  103263388     51.34     48.66\n",
       "2010     57481307  54855231  112336538     51.17     48.83\n",
       "2020     64540634  61473390  126014024     51.22     48.78"
      ]
     },
     "execution_count": 22,
     "metadata": {},
     "output_type": "execute_result"
    }
   ],
   "source": [
    "nPop"
   ]
  },
  {
   "cell_type": "code",
   "execution_count": 23,
   "metadata": {
    "scrolled": true
   },
   "outputs": [
    {
     "data": {
      "text/plain": [
       "51.24"
      ]
     },
     "execution_count": 23,
     "metadata": {},
     "output_type": "execute_result"
    }
   ],
   "source": [
    "np.round(nPop['%Mujeres'].mean(),2)"
   ]
  },
  {
   "cell_type": "markdown",
   "metadata": {},
   "source": [
    "## People who register income per year"
   ]
  },
  {
   "cell_type": "markdown",
   "metadata": {},
   "source": [
    "We have continuous data from the last 15 years until 2020. "
   ]
  },
  {
   "cell_type": "code",
   "execution_count": 24,
   "metadata": {
    "scrolled": false
   },
   "outputs": [
    {
     "data": {
      "text/plain": [
       "<matplotlib.axes._subplots.AxesSubplot at 0x1c750bbc640>"
      ]
     },
     "execution_count": 24,
     "metadata": {},
     "output_type": "execute_result"
    },
    {
     "data": {
      "image/png": "[encoded data removed]",
      "text/plain": [
       "<Figure size 1440x576 with 1 Axes>"
      ]
     },
     "metadata": {
      "needs_background": "light"
     },
     "output_type": "display_data"
    }
   ],
   "source": [
    "# recupera el salario de cada año, agrupado por sexo:\n",
    "ax1 = asalariados.groupby(['Periodo', 'Sexo']).sum()['Asalariados que reportan ingresos'].unstack()\n",
    "# genera el gráfico:\n",
    "ax1.plot(kind=\"bar\",figsize =(20, 8),colormap='PiYG')"
   ]
  },
  {
   "cell_type": "markdown",
   "metadata": {},
   "source": [
    "As per the graph we can se a very constant growth all over the years between gender and a big difference of the amount of women vs men who persive monthly income due to an economical activity. As per following data; this is a big disparity comparing population by gender for the last 15 years; if we compare only gender values per year with the total of population over 15 years old, even though women represent over 51% of population; we expect to see them below this average as per salary perceivers."
   ]
  },
  {
   "cell_type": "markdown",
   "metadata": {},
   "source": [
    "Let's get the mean value from the differences in earned wage. <br /> Let's define a new dataframe for this, we need first to check the amount of people reporting income per year:"
   ]
  },
  {
   "cell_type": "code",
   "execution_count": 25,
   "metadata": {
    "scrolled": true
   },
   "outputs": [],
   "source": [
    "salH = (\n",
    "    asalariados.loc[asalariados['Sexo']=='Hombres']\n",
    "    .groupby('Periodo')\n",
    "    .agg({'Asalariados que reportan ingresos':'sum'})\n",
    "    .reset_index()\n",
    ")\n",
    "salH.set_index('Periodo')\n",
    "salH=salH.rename(columns = {'Asalariados que reportan ingresos':'Hombres_reportan_ingreso'})"
   ]
  },
  {
   "cell_type": "code",
   "execution_count": 26,
   "metadata": {
    "scrolled": true
   },
   "outputs": [],
   "source": [
    "salM = (\n",
    "    asalariados.loc[asalariados['Sexo']=='Mujeres']\n",
    "    .groupby('Periodo')\n",
    "    .agg({'Asalariados que reportan ingresos':'sum'})\n",
    "    .reset_index()\n",
    ")\n",
    "salM.set_index('Periodo')\n",
    "salM=salM.rename(columns = {'Asalariados que reportan ingresos':'Mujeres_reportan_ingreso'})"
   ]
  },
  {
   "cell_type": "code",
   "execution_count": 27,
   "metadata": {
    "scrolled": true
   },
   "outputs": [],
   "source": [
    "nSalarios=pd.concat(\n",
    "    [\n",
    "        salH\n",
    "        ,salM.iloc[:,1]\n",
    "    ]\n",
    "    ,axis=1,ignore_index=False)\n",
    "\n",
    "nSalarios = nSalarios.set_index('Periodo')"
   ]
  },
  {
   "cell_type": "code",
   "execution_count": 28,
   "metadata": {
    "scrolled": true
   },
   "outputs": [
    {
     "data": {
      "text/html": [
       "<div>\n",
       "<style scoped>\n",
       "    .dataframe tbody tr th:only-of-type {\n",
       "        vertical-align: middle;\n",
       "    }\n",
       "\n",
       "    .dataframe tbody tr th {\n",
       "        vertical-align: top;\n",
       "    }\n",
       "\n",
       "    .dataframe thead th {\n",
       "        text-align: right;\n",
       "    }\n",
       "</style>\n",
       "<table border=\"1\" class=\"dataframe\">\n",
       "  <thead>\n",
       "    <tr style=\"text-align: right;\">\n",
       "      <th></th>\n",
       "      <th>Hombres_reportan_ingreso</th>\n",
       "      <th>Mujeres_reportan_ingreso</th>\n",
       "      <th>Poblacion_Por_Año</th>\n",
       "      <th>Diferencia_HvsM</th>\n",
       "      <th>%Diferencia</th>\n",
       "    </tr>\n",
       "    <tr>\n",
       "      <th>Periodo</th>\n",
       "      <th></th>\n",
       "      <th></th>\n",
       "      <th></th>\n",
       "      <th></th>\n",
       "      <th></th>\n",
       "    </tr>\n",
       "  </thead>\n",
       "  <tbody>\n",
       "    <tr>\n",
       "      <th>2005</th>\n",
       "      <td>59378051</td>\n",
       "      <td>35562817</td>\n",
       "      <td>94940868</td>\n",
       "      <td>23815234</td>\n",
       "      <td>25.08</td>\n",
       "    </tr>\n",
       "    <tr>\n",
       "      <th>2006</th>\n",
       "      <td>61595424</td>\n",
       "      <td>37842306</td>\n",
       "      <td>99437730</td>\n",
       "      <td>23753118</td>\n",
       "      <td>23.89</td>\n",
       "    </tr>\n",
       "    <tr>\n",
       "      <th>2007</th>\n",
       "      <td>62794996</td>\n",
       "      <td>38829946</td>\n",
       "      <td>101624942</td>\n",
       "      <td>23965050</td>\n",
       "      <td>23.58</td>\n",
       "    </tr>\n",
       "    <tr>\n",
       "      <th>2008</th>\n",
       "      <td>64389566</td>\n",
       "      <td>39224122</td>\n",
       "      <td>103613688</td>\n",
       "      <td>25165444</td>\n",
       "      <td>24.29</td>\n",
       "    </tr>\n",
       "    <tr>\n",
       "      <th>2009</th>\n",
       "      <td>63240791</td>\n",
       "      <td>39136618</td>\n",
       "      <td>102377409</td>\n",
       "      <td>24104173</td>\n",
       "      <td>23.54</td>\n",
       "    </tr>\n",
       "    <tr>\n",
       "      <th>2010</th>\n",
       "      <td>65263619</td>\n",
       "      <td>40052844</td>\n",
       "      <td>105316463</td>\n",
       "      <td>25210775</td>\n",
       "      <td>23.94</td>\n",
       "    </tr>\n",
       "    <tr>\n",
       "      <th>2011</th>\n",
       "      <td>65491242</td>\n",
       "      <td>40109333</td>\n",
       "      <td>105600575</td>\n",
       "      <td>25381909</td>\n",
       "      <td>24.04</td>\n",
       "    </tr>\n",
       "    <tr>\n",
       "      <th>2012</th>\n",
       "      <td>67718213</td>\n",
       "      <td>42088329</td>\n",
       "      <td>109806542</td>\n",
       "      <td>25629884</td>\n",
       "      <td>23.34</td>\n",
       "    </tr>\n",
       "    <tr>\n",
       "      <th>2013</th>\n",
       "      <td>67550987</td>\n",
       "      <td>42584728</td>\n",
       "      <td>110135715</td>\n",
       "      <td>24966259</td>\n",
       "      <td>22.67</td>\n",
       "    </tr>\n",
       "    <tr>\n",
       "      <th>2014</th>\n",
       "      <td>68780756</td>\n",
       "      <td>42534750</td>\n",
       "      <td>111315506</td>\n",
       "      <td>26246006</td>\n",
       "      <td>23.58</td>\n",
       "    </tr>\n",
       "    <tr>\n",
       "      <th>2015</th>\n",
       "      <td>70015201</td>\n",
       "      <td>43607013</td>\n",
       "      <td>113622214</td>\n",
       "      <td>26408188</td>\n",
       "      <td>23.24</td>\n",
       "    </tr>\n",
       "    <tr>\n",
       "      <th>2016</th>\n",
       "      <td>71994240</td>\n",
       "      <td>44788721</td>\n",
       "      <td>116782961</td>\n",
       "      <td>27205519</td>\n",
       "      <td>23.30</td>\n",
       "    </tr>\n",
       "    <tr>\n",
       "      <th>2017</th>\n",
       "      <td>71516847</td>\n",
       "      <td>45025106</td>\n",
       "      <td>116541953</td>\n",
       "      <td>26491741</td>\n",
       "      <td>22.73</td>\n",
       "    </tr>\n",
       "    <tr>\n",
       "      <th>2018</th>\n",
       "      <td>72671908</td>\n",
       "      <td>46266723</td>\n",
       "      <td>118938631</td>\n",
       "      <td>26405185</td>\n",
       "      <td>22.20</td>\n",
       "    </tr>\n",
       "    <tr>\n",
       "      <th>2019</th>\n",
       "      <td>74888653</td>\n",
       "      <td>48667801</td>\n",
       "      <td>123556454</td>\n",
       "      <td>26220852</td>\n",
       "      <td>21.22</td>\n",
       "    </tr>\n",
       "    <tr>\n",
       "      <th>2020</th>\n",
       "      <td>55696079</td>\n",
       "      <td>36069661</td>\n",
       "      <td>91765740</td>\n",
       "      <td>19626418</td>\n",
       "      <td>21.39</td>\n",
       "    </tr>\n",
       "  </tbody>\n",
       "</table>\n",
       "</div>"
      ],
      "text/plain": [
       "         Hombres_reportan_ingreso  Mujeres_reportan_ingreso  \\\n",
       "Periodo                                                       \n",
       "2005                     59378051                  35562817   \n",
       "2006                     61595424                  37842306   \n",
       "2007                     62794996                  38829946   \n",
       "2008                     64389566                  39224122   \n",
       "2009                     63240791                  39136618   \n",
       "2010                     65263619                  40052844   \n",
       "2011                     65491242                  40109333   \n",
       "2012                     67718213                  42088329   \n",
       "2013                     67550987                  42584728   \n",
       "2014                     68780756                  42534750   \n",
       "2015                     70015201                  43607013   \n",
       "2016                     71994240                  44788721   \n",
       "2017                     71516847                  45025106   \n",
       "2018                     72671908                  46266723   \n",
       "2019                     74888653                  48667801   \n",
       "2020                     55696079                  36069661   \n",
       "\n",
       "         Poblacion_Por_Año  Diferencia_HvsM  %Diferencia  \n",
       "Periodo                                                   \n",
       "2005              94940868         23815234        25.08  \n",
       "2006              99437730         23753118        23.89  \n",
       "2007             101624942         23965050        23.58  \n",
       "2008             103613688         25165444        24.29  \n",
       "2009             102377409         24104173        23.54  \n",
       "2010             105316463         25210775        23.94  \n",
       "2011             105600575         25381909        24.04  \n",
       "2012             109806542         25629884        23.34  \n",
       "2013             110135715         24966259        22.67  \n",
       "2014             111315506         26246006        23.58  \n",
       "2015             113622214         26408188        23.24  \n",
       "2016             116782961         27205519        23.30  \n",
       "2017             116541953         26491741        22.73  \n",
       "2018             118938631         26405185        22.20  \n",
       "2019             123556454         26220852        21.22  \n",
       "2020              91765740         19626418        21.39  "
      ]
     },
     "execution_count": 28,
     "metadata": {},
     "output_type": "execute_result"
    }
   ],
   "source": [
    "nSalarios['Poblacion_Por_Año']=nSalarios['Hombres_reportan_ingreso']+nSalarios['Mujeres_reportan_ingreso']\n",
    "nSalarios['Diferencia_HvsM']=nSalarios['Hombres_reportan_ingreso']-nSalarios['Mujeres_reportan_ingreso']\n",
    "nSalarios['%Diferencia']=np.round(nSalarios['Diferencia_HvsM']/nSalarios['Poblacion_Por_Año']*100,2)\n",
    "\n",
    "nSalarios"
   ]
  },
  {
   "cell_type": "markdown",
   "metadata": {},
   "source": [
    "By comparing the mean of people that register income per 5 years:"
   ]
  },
  {
   "cell_type": "code",
   "execution_count": 34,
   "metadata": {
    "scrolled": false
   },
   "outputs": [
    {
     "data": {
      "text/plain": [
       "23.251875"
      ]
     },
     "execution_count": 34,
     "metadata": {},
     "output_type": "execute_result"
    }
   ],
   "source": [
    "nSalarios['%Diferencia'].mean()"
   ]
  },
  {
   "cell_type": "markdown",
   "metadata": {},
   "source": [
    "As per expected, we can see that Men report income in **23.25% more** than women in average."
   ]
  },
  {
   "cell_type": "markdown",
   "metadata": {},
   "source": [
    "#### Percentage of population who reports earning income per year vs total population."
   ]
  },
  {
   "cell_type": "code",
   "execution_count": 29,
   "metadata": {},
   "outputs": [],
   "source": [
    "popSal=nSalarios.loc[['2005','2010','2020']]"
   ]
  },
  {
   "cell_type": "markdown",
   "metadata": {},
   "source": [
    "Will select only the years where we have total population data; since the join showed a not merged dataframe, will change the type of the indexes and turn them to field in order to have them onto a single dataframe."
   ]
  },
  {
   "cell_type": "code",
   "execution_count": null,
   "metadata": {},
   "outputs": [],
   "source": [
    "popSal.index.map(str)"
   ]
  },
  {
   "cell_type": "code",
   "execution_count": 54,
   "metadata": {},
   "outputs": [
    {
     "data": {
      "text/plain": [
       "Index(['2005', '2010', '2020'], dtype='object', name='Periodo')"
      ]
     },
     "execution_count": 54,
     "metadata": {},
     "output_type": "execute_result"
    }
   ],
   "source": [
    "nPop.index.map(str)"
   ]
  },
  {
   "cell_type": "code",
   "execution_count": 60,
   "metadata": {},
   "outputs": [],
   "source": [
    "popSal.reset_index(inplace=True)"
   ]
  },
  {
   "cell_type": "code",
   "execution_count": 61,
   "metadata": {},
   "outputs": [],
   "source": [
    "nPop.reset_index(inplace=True)"
   ]
  },
  {
   "cell_type": "code",
   "execution_count": 91,
   "metadata": {
    "scrolled": true
   },
   "outputs": [],
   "source": [
    "popSal['Periodo']=popSal['Periodo'].map(int)"
   ]
  },
  {
   "cell_type": "code",
   "execution_count": 92,
   "metadata": {
    "scrolled": true
   },
   "outputs": [],
   "source": [
    "join=pd.merge(popSal, nPop, on ='Periodo', how =\"inner\")"
   ]
  },
  {
   "cell_type": "code",
   "execution_count": 93,
   "metadata": {},
   "outputs": [
    {
     "data": {
      "text/html": [
       "<div>\n",
       "<style scoped>\n",
       "    .dataframe tbody tr th:only-of-type {\n",
       "        vertical-align: middle;\n",
       "    }\n",
       "\n",
       "    .dataframe tbody tr th {\n",
       "        vertical-align: top;\n",
       "    }\n",
       "\n",
       "    .dataframe thead th {\n",
       "        text-align: right;\n",
       "    }\n",
       "</style>\n",
       "<table border=\"1\" class=\"dataframe\">\n",
       "  <thead>\n",
       "    <tr style=\"text-align: right;\">\n",
       "      <th></th>\n",
       "      <th>Periodo</th>\n",
       "      <th>Hombres_reportan_ingreso</th>\n",
       "      <th>Mujeres_reportan_ingreso</th>\n",
       "      <th>Poblacion_Por_Año</th>\n",
       "      <th>Diferencia_HvsM</th>\n",
       "      <th>%Diferencia</th>\n",
       "      <th>Mujeres</th>\n",
       "      <th>Hombres</th>\n",
       "      <th>Total</th>\n",
       "      <th>%Mujeres</th>\n",
       "      <th>%Hombres</th>\n",
       "    </tr>\n",
       "  </thead>\n",
       "  <tbody>\n",
       "    <tr>\n",
       "      <th>0</th>\n",
       "      <td>2005</td>\n",
       "      <td>59378051</td>\n",
       "      <td>35562817</td>\n",
       "      <td>94940868</td>\n",
       "      <td>23815234</td>\n",
       "      <td>25.08</td>\n",
       "      <td>53013433</td>\n",
       "      <td>50249955</td>\n",
       "      <td>103263388</td>\n",
       "      <td>51.34</td>\n",
       "      <td>48.66</td>\n",
       "    </tr>\n",
       "    <tr>\n",
       "      <th>1</th>\n",
       "      <td>2010</td>\n",
       "      <td>65263619</td>\n",
       "      <td>40052844</td>\n",
       "      <td>105316463</td>\n",
       "      <td>25210775</td>\n",
       "      <td>23.94</td>\n",
       "      <td>57481307</td>\n",
       "      <td>54855231</td>\n",
       "      <td>112336538</td>\n",
       "      <td>51.17</td>\n",
       "      <td>48.83</td>\n",
       "    </tr>\n",
       "    <tr>\n",
       "      <th>2</th>\n",
       "      <td>2020</td>\n",
       "      <td>55696079</td>\n",
       "      <td>36069661</td>\n",
       "      <td>91765740</td>\n",
       "      <td>19626418</td>\n",
       "      <td>21.39</td>\n",
       "      <td>64540634</td>\n",
       "      <td>61473390</td>\n",
       "      <td>126014024</td>\n",
       "      <td>51.22</td>\n",
       "      <td>48.78</td>\n",
       "    </tr>\n",
       "  </tbody>\n",
       "</table>\n",
       "</div>"
      ],
      "text/plain": [
       "   Periodo  Hombres_reportan_ingreso  Mujeres_reportan_ingreso  \\\n",
       "0     2005                  59378051                  35562817   \n",
       "1     2010                  65263619                  40052844   \n",
       "2     2020                  55696079                  36069661   \n",
       "\n",
       "   Poblacion_Por_Año  Diferencia_HvsM  %Diferencia   Mujeres   Hombres  \\\n",
       "0           94940868         23815234        25.08  53013433  50249955   \n",
       "1          105316463         25210775        23.94  57481307  54855231   \n",
       "2           91765740         19626418        21.39  64540634  61473390   \n",
       "\n",
       "       Total  %Mujeres  %Hombres  \n",
       "0  103263388     51.34     48.66  \n",
       "1  112336538     51.17     48.83  \n",
       "2  126014024     51.22     48.78  "
      ]
     },
     "execution_count": 93,
     "metadata": {},
     "output_type": "execute_result"
    }
   ],
   "source": [
    "join"
   ]
  },
  {
   "cell_type": "code",
   "execution_count": 94,
   "metadata": {},
   "outputs": [],
   "source": [
    "join=join.drop(['Poblacion_Por_Año', 'Diferencia_HvsM','%Diferencia','Mujeres','Hombres','%Mujeres','%Hombres'], axis = 1)"
   ]
  },
  {
   "cell_type": "code",
   "execution_count": 97,
   "metadata": {},
   "outputs": [],
   "source": [
    "join['%MujeresQueReportanIngreso']=np.round(join['Mujeres_reportan_ingreso']/join['Total'],2)"
   ]
  },
  {
   "cell_type": "code",
   "execution_count": 98,
   "metadata": {},
   "outputs": [],
   "source": [
    "join['%HombresQueReportanIngreso']=np.round(join['Hombres_reportan_ingreso']/join['Total'],2)"
   ]
  },
  {
   "cell_type": "code",
   "execution_count": 99,
   "metadata": {},
   "outputs": [
    {
     "data": {
      "text/html": [
       "<div>\n",
       "<style scoped>\n",
       "    .dataframe tbody tr th:only-of-type {\n",
       "        vertical-align: middle;\n",
       "    }\n",
       "\n",
       "    .dataframe tbody tr th {\n",
       "        vertical-align: top;\n",
       "    }\n",
       "\n",
       "    .dataframe thead th {\n",
       "        text-align: right;\n",
       "    }\n",
       "</style>\n",
       "<table border=\"1\" class=\"dataframe\">\n",
       "  <thead>\n",
       "    <tr style=\"text-align: right;\">\n",
       "      <th></th>\n",
       "      <th>Periodo</th>\n",
       "      <th>Hombres_reportan_ingreso</th>\n",
       "      <th>Mujeres_reportan_ingreso</th>\n",
       "      <th>Total</th>\n",
       "      <th>%HombresQueReportanIngreso</th>\n",
       "      <th>%MujeresQueReportanIngreso</th>\n",
       "    </tr>\n",
       "  </thead>\n",
       "  <tbody>\n",
       "    <tr>\n",
       "      <th>0</th>\n",
       "      <td>2005</td>\n",
       "      <td>59378051</td>\n",
       "      <td>35562817</td>\n",
       "      <td>103263388</td>\n",
       "      <td>0.58</td>\n",
       "      <td>0.34</td>\n",
       "    </tr>\n",
       "    <tr>\n",
       "      <th>1</th>\n",
       "      <td>2010</td>\n",
       "      <td>65263619</td>\n",
       "      <td>40052844</td>\n",
       "      <td>112336538</td>\n",
       "      <td>0.58</td>\n",
       "      <td>0.36</td>\n",
       "    </tr>\n",
       "    <tr>\n",
       "      <th>2</th>\n",
       "      <td>2020</td>\n",
       "      <td>55696079</td>\n",
       "      <td>36069661</td>\n",
       "      <td>126014024</td>\n",
       "      <td>0.44</td>\n",
       "      <td>0.29</td>\n",
       "    </tr>\n",
       "  </tbody>\n",
       "</table>\n",
       "</div>"
      ],
      "text/plain": [
       "   Periodo  Hombres_reportan_ingreso  Mujeres_reportan_ingreso      Total  \\\n",
       "0     2005                  59378051                  35562817  103263388   \n",
       "1     2010                  65263619                  40052844  112336538   \n",
       "2     2020                  55696079                  36069661  126014024   \n",
       "\n",
       "   %HombresQueReportanIngreso  %MujeresQueReportanIngreso  \n",
       "0                        0.58                        0.34  \n",
       "1                        0.58                        0.36  \n",
       "2                        0.44                        0.29  "
      ]
     },
     "execution_count": 99,
     "metadata": {},
     "output_type": "execute_result"
    }
   ],
   "source": [
    "join"
   ]
  },
  {
   "cell_type": "code",
   "execution_count": 102,
   "metadata": {},
   "outputs": [
    {
     "data": {
      "text/plain": [
       "53.33"
      ]
     },
     "execution_count": 102,
     "metadata": {},
     "output_type": "execute_result"
    }
   ],
   "source": [
    "np.round(join['%HombresQueReportanIngreso'].mean()*100,2)"
   ]
  },
  {
   "cell_type": "code",
   "execution_count": 103,
   "metadata": {},
   "outputs": [
    {
     "data": {
      "text/plain": [
       "33.0"
      ]
     },
     "execution_count": 103,
     "metadata": {},
     "output_type": "execute_result"
    }
   ],
   "source": [
    "np.round(join['%MujeresQueReportanIngreso'].mean()*100,2)"
   ]
  },
  {
   "cell_type": "markdown",
   "metadata": {},
   "source": [
    "As per expected, even though women comform over 51% of mexican population, men still represent the 53% of working population who earns some sort of salary, more than 20% than what women represent, this also not only means that men are still more present on labour force, but that women still have the most heavy work load (considering unpaid work such as taking care of house chores; unfortunately by now we can't refute this since there's no more available data)."
   ]
  },
  {
   "cell_type": "code",
   "execution_count": 40,
   "metadata": {
    "scrolled": false
   },
   "outputs": [
    {
     "data": {
      "text/plain": [
       "<matplotlib.axes._subplots.AxesSubplot at 0x1c7503c1d90>"
      ]
     },
     "execution_count": 40,
     "metadata": {},
     "output_type": "execute_result"
    },
    {
     "data": {
      "image/png": "[encoded data removed]",
      "text/plain": [
       "<Figure size 1440x576 with 1 Axes>"
      ]
     },
     "metadata": {
      "needs_background": "light"
     },
     "output_type": "display_data"
    }
   ],
   "source": [
    "# recupera el salario de cada año, agrupado por sexo:\n",
    "ax2 = asalariados.groupby(['Periodo', 'Sexo']).sum()['Asalariados que reportan ingresos'].unstack()\n",
    "# genera el gráfico:\n",
    "ax2.plot(kind=\"bar\",figsize =(20, 8),colormap='Paired')"
   ]
  },
  {
   "cell_type": "markdown",
   "metadata": {},
   "source": [
    "#### Working force who earns maximum 3 minimum wages in total."
   ]
  },
  {
   "cell_type": "markdown",
   "metadata": {},
   "source": [
    "So we'll check the growth in percentage over the years by gender, the hypothesis is that the grown for men has grown quicker than female.<br />\n",
    "Let's explore about the differences on the marginalized population by gender; those who earns tops 3 minimum wages (around 6 USD per hour by 2022)."
   ]
  },
  {
   "cell_type": "code",
   "execution_count": 35,
   "metadata": {
    "scrolled": true
   },
   "outputs": [],
   "source": [
    "asalH = (\n",
    "    asalariados.loc[asalariados['Sexo']=='Hombres']\n",
    "    .groupby('Periodo')\n",
    "    .agg({'Asalariados que ganan hasta 3 salarios mínimos':'sum'})\n",
    "    .reset_index()\n",
    ")\n",
    "asalH.set_index('Periodo')\n",
    "asalH=asalH.rename(columns = {'Asalariados que ganan hasta 3 salarios mínimos':'Hombres_Que_Ganan_Hasta_3_SalMin'})"
   ]
  },
  {
   "cell_type": "code",
   "execution_count": 36,
   "metadata": {
    "scrolled": true
   },
   "outputs": [],
   "source": [
    "asalM = (\n",
    "    asalariados.loc[asalariados['Sexo']=='Mujeres']\n",
    "    .groupby('Periodo')\n",
    "    .agg({'Asalariados que ganan hasta 3 salarios mínimos':'sum'})\n",
    "    .reset_index()\n",
    ")\n",
    "asalM.set_index('Periodo')\n",
    "asalM=asalM.rename(columns = {'Asalariados que ganan hasta 3 salarios mínimos':'Mujeres_Que_Ganan_Hasta_3_SalMin'})"
   ]
  },
  {
   "cell_type": "code",
   "execution_count": 37,
   "metadata": {
    "scrolled": true
   },
   "outputs": [],
   "source": [
    "new_asalariados=pd.concat(\n",
    "    [\n",
    "        asalH\n",
    "        ,asalM.iloc[:,1]\n",
    "    ]\n",
    "    ,axis=1,ignore_index=False)\n",
    "\n",
    "new_asalariados=new_asalariados.set_index('Periodo')"
   ]
  },
  {
   "cell_type": "code",
   "execution_count": 38,
   "metadata": {
    "scrolled": true
   },
   "outputs": [
    {
     "data": {
      "text/html": [
       "<div>\n",
       "<style scoped>\n",
       "    .dataframe tbody tr th:only-of-type {\n",
       "        vertical-align: middle;\n",
       "    }\n",
       "\n",
       "    .dataframe tbody tr th {\n",
       "        vertical-align: top;\n",
       "    }\n",
       "\n",
       "    .dataframe thead th {\n",
       "        text-align: right;\n",
       "    }\n",
       "</style>\n",
       "<table border=\"1\" class=\"dataframe\">\n",
       "  <thead>\n",
       "    <tr style=\"text-align: right;\">\n",
       "      <th></th>\n",
       "      <th>Hombres_Que_Ganan_Hasta_3_SalMin</th>\n",
       "      <th>Mujeres_Que_Ganan_Hasta_3_SalMin</th>\n",
       "      <th>TotPopPorAño</th>\n",
       "      <th>Diferencia</th>\n",
       "      <th>%Diferencia</th>\n",
       "    </tr>\n",
       "    <tr>\n",
       "      <th>Periodo</th>\n",
       "      <th></th>\n",
       "      <th></th>\n",
       "      <th></th>\n",
       "      <th></th>\n",
       "      <th></th>\n",
       "    </tr>\n",
       "  </thead>\n",
       "  <tbody>\n",
       "    <tr>\n",
       "      <th>2005</th>\n",
       "      <td>37966773</td>\n",
       "      <td>25579672</td>\n",
       "      <td>63546445</td>\n",
       "      <td>12387101</td>\n",
       "      <td>19.49</td>\n",
       "    </tr>\n",
       "    <tr>\n",
       "      <th>2006</th>\n",
       "      <td>37935850</td>\n",
       "      <td>26273676</td>\n",
       "      <td>64209526</td>\n",
       "      <td>11662174</td>\n",
       "      <td>18.16</td>\n",
       "    </tr>\n",
       "    <tr>\n",
       "      <th>2007</th>\n",
       "      <td>39490148</td>\n",
       "      <td>27362066</td>\n",
       "      <td>66852214</td>\n",
       "      <td>12128082</td>\n",
       "      <td>18.14</td>\n",
       "    </tr>\n",
       "    <tr>\n",
       "      <th>2008</th>\n",
       "      <td>39905223</td>\n",
       "      <td>27620035</td>\n",
       "      <td>67525258</td>\n",
       "      <td>12285188</td>\n",
       "      <td>18.19</td>\n",
       "    </tr>\n",
       "    <tr>\n",
       "      <th>2009</th>\n",
       "      <td>40059516</td>\n",
       "      <td>27504496</td>\n",
       "      <td>67564012</td>\n",
       "      <td>12555020</td>\n",
       "      <td>18.58</td>\n",
       "    </tr>\n",
       "    <tr>\n",
       "      <th>2010</th>\n",
       "      <td>42087815</td>\n",
       "      <td>29070486</td>\n",
       "      <td>71158301</td>\n",
       "      <td>13017329</td>\n",
       "      <td>18.29</td>\n",
       "    </tr>\n",
       "    <tr>\n",
       "      <th>2011</th>\n",
       "      <td>45122481</td>\n",
       "      <td>29678320</td>\n",
       "      <td>74800801</td>\n",
       "      <td>15444161</td>\n",
       "      <td>20.65</td>\n",
       "    </tr>\n",
       "    <tr>\n",
       "      <th>2012</th>\n",
       "      <td>45963869</td>\n",
       "      <td>30967694</td>\n",
       "      <td>76931563</td>\n",
       "      <td>14996175</td>\n",
       "      <td>19.49</td>\n",
       "    </tr>\n",
       "    <tr>\n",
       "      <th>2013</th>\n",
       "      <td>46263630</td>\n",
       "      <td>31708043</td>\n",
       "      <td>77971673</td>\n",
       "      <td>14555587</td>\n",
       "      <td>18.67</td>\n",
       "    </tr>\n",
       "    <tr>\n",
       "      <th>2014</th>\n",
       "      <td>47523435</td>\n",
       "      <td>31995504</td>\n",
       "      <td>79518939</td>\n",
       "      <td>15527931</td>\n",
       "      <td>19.53</td>\n",
       "    </tr>\n",
       "    <tr>\n",
       "      <th>2015</th>\n",
       "      <td>49630636</td>\n",
       "      <td>33967988</td>\n",
       "      <td>83598624</td>\n",
       "      <td>15662648</td>\n",
       "      <td>18.74</td>\n",
       "    </tr>\n",
       "    <tr>\n",
       "      <th>2016</th>\n",
       "      <td>49081188</td>\n",
       "      <td>34250400</td>\n",
       "      <td>83331588</td>\n",
       "      <td>14830788</td>\n",
       "      <td>17.80</td>\n",
       "    </tr>\n",
       "    <tr>\n",
       "      <th>2017</th>\n",
       "      <td>51236148</td>\n",
       "      <td>35138931</td>\n",
       "      <td>86375079</td>\n",
       "      <td>16097217</td>\n",
       "      <td>18.64</td>\n",
       "    </tr>\n",
       "    <tr>\n",
       "      <th>2018</th>\n",
       "      <td>50659768</td>\n",
       "      <td>35574877</td>\n",
       "      <td>86234645</td>\n",
       "      <td>15084891</td>\n",
       "      <td>17.49</td>\n",
       "    </tr>\n",
       "    <tr>\n",
       "      <th>2019</th>\n",
       "      <td>48054754</td>\n",
       "      <td>35515946</td>\n",
       "      <td>83570700</td>\n",
       "      <td>12538808</td>\n",
       "      <td>15.00</td>\n",
       "    </tr>\n",
       "    <tr>\n",
       "      <th>2020</th>\n",
       "      <td>35267324</td>\n",
       "      <td>25353295</td>\n",
       "      <td>60620619</td>\n",
       "      <td>9914029</td>\n",
       "      <td>16.35</td>\n",
       "    </tr>\n",
       "  </tbody>\n",
       "</table>\n",
       "</div>"
      ],
      "text/plain": [
       "         Hombres_Que_Ganan_Hasta_3_SalMin  Mujeres_Que_Ganan_Hasta_3_SalMin  \\\n",
       "Periodo                                                                       \n",
       "2005                             37966773                          25579672   \n",
       "2006                             37935850                          26273676   \n",
       "2007                             39490148                          27362066   \n",
       "2008                             39905223                          27620035   \n",
       "2009                             40059516                          27504496   \n",
       "2010                             42087815                          29070486   \n",
       "2011                             45122481                          29678320   \n",
       "2012                             45963869                          30967694   \n",
       "2013                             46263630                          31708043   \n",
       "2014                             47523435                          31995504   \n",
       "2015                             49630636                          33967988   \n",
       "2016                             49081188                          34250400   \n",
       "2017                             51236148                          35138931   \n",
       "2018                             50659768                          35574877   \n",
       "2019                             48054754                          35515946   \n",
       "2020                             35267324                          25353295   \n",
       "\n",
       "         TotPopPorAño  Diferencia  %Diferencia  \n",
       "Periodo                                         \n",
       "2005         63546445    12387101        19.49  \n",
       "2006         64209526    11662174        18.16  \n",
       "2007         66852214    12128082        18.14  \n",
       "2008         67525258    12285188        18.19  \n",
       "2009         67564012    12555020        18.58  \n",
       "2010         71158301    13017329        18.29  \n",
       "2011         74800801    15444161        20.65  \n",
       "2012         76931563    14996175        19.49  \n",
       "2013         77971673    14555587        18.67  \n",
       "2014         79518939    15527931        19.53  \n",
       "2015         83598624    15662648        18.74  \n",
       "2016         83331588    14830788        17.80  \n",
       "2017         86375079    16097217        18.64  \n",
       "2018         86234645    15084891        17.49  \n",
       "2019         83570700    12538808        15.00  \n",
       "2020         60620619     9914029        16.35  "
      ]
     },
     "execution_count": 38,
     "metadata": {},
     "output_type": "execute_result"
    }
   ],
   "source": [
    "new_asalariados['TotPopPorAño']=new_asalariados['Hombres_Que_Ganan_Hasta_3_SalMin']+new_asalariados['Mujeres_Que_Ganan_Hasta_3_SalMin']\n",
    "new_asalariados['Diferencia']=new_asalariados['Hombres_Que_Ganan_Hasta_3_SalMin']-new_asalariados['Mujeres_Que_Ganan_Hasta_3_SalMin']\n",
    "new_asalariados['%Diferencia']=np.round(new_asalariados['Diferencia']/new_asalariados['TotPopPorAño']*100,2)\n",
    "\n",
    "new_asalariados"
   ]
  },
  {
   "cell_type": "code",
   "execution_count": 82,
   "metadata": {
    "scrolled": true
   },
   "outputs": [
    {
     "data": {
      "text/plain": [
       "18.33"
      ]
     },
     "execution_count": 82,
     "metadata": {},
     "output_type": "execute_result"
    }
   ],
   "source": [
    "np.round(new_asalariados['%Diferencia'].mean(),2)"
   ]
  },
  {
   "cell_type": "markdown",
   "metadata": {},
   "source": [
    "In average, there's around 18% more men than women earning at most three minimum wage; still with this difference we can't conclude much more since:\n",
    "* It could depend if for those families, male figure is the main source for its family or home.\n",
    "* We depend on further analysis considering the ocupancy on formal and informal activities per gender."
   ]
  },
  {
   "cell_type": "code",
   "execution_count": 104,
   "metadata": {
    "scrolled": false
   },
   "outputs": [
    {
     "data": {
      "text/plain": [
       "<matplotlib.axes._subplots.AxesSubplot at 0x1c750d73220>"
      ]
     },
     "execution_count": 104,
     "metadata": {},
     "output_type": "execute_result"
    },
    {
     "data": {
      "image/png": "[encoded data removed]",
      "text/plain": [
       "<Figure size 1440x576 with 1 Axes>"
      ]
     },
     "metadata": {
      "needs_background": "light"
     },
     "output_type": "display_data"
    }
   ],
   "source": [
    "# recupera el salario de cada año, agrupado por sexo:\n",
    "ax2 = asalariados.groupby(['Periodo', 'Sexo']).sum()['Asalariados que ganan hasta 3 salarios mínimos'].unstack()\n",
    "# genera el gráfico:\n",
    "ax2.plot(kind=\"bar\",figsize =(20, 8),colormap='Paired')"
   ]
  },
  {
   "cell_type": "markdown",
   "metadata": {},
   "source": [
    "Even though we expected to watch some significant difference in growth, we can see a similar performance between two genders, keeping same difference in earning; having a brief growth in 2011 and a brief closure at the beginning of the pandemic (2020). But still, is notizable the disparity even in marginalized sectors."
   ]
  },
  {
   "cell_type": "markdown",
   "metadata": {},
   "source": [
    "#### Percentage of working force by gender who earn as much as 3 minimum wages."
   ]
  },
  {
   "cell_type": "markdown",
   "metadata": {},
   "source": [
    "Even though we previously concluded that men still represent a higher ocupancy in income, with following graph we can observe how from total population, women represent the higher percentage of earning maximum 3 minimum wages. <br />\n",
    "From this, as we expected, we can state how dispair is earning between genders, and though women represent mayority in population, the presence of them into work-force is still misspaid or replaced by male figures at job."
   ]
  },
  {
   "cell_type": "code",
   "execution_count": 41,
   "metadata": {},
   "outputs": [
    {
     "data": {
      "text/plain": [
       "<matplotlib.axes._subplots.AxesSubplot at 0x1c750d3ab20>"
      ]
     },
     "execution_count": 41,
     "metadata": {},
     "output_type": "execute_result"
    },
    {
     "data": {
      "image/png": "[encoded data removed]",
      "text/plain": [
       "<Figure size 1440x576 with 1 Axes>"
      ]
     },
     "metadata": {
      "needs_background": "light"
     },
     "output_type": "display_data"
    }
   ],
   "source": [
    "# recupera el salario de cada año, agrupado por sexo:\n",
    "ax2 = asalariados.groupby(['Periodo', 'Sexo']).sum()['Porcentaje de asalariados que ganan hasta tres salarios mínimos'].unstack()\n",
    "# genera el gráfico:\n",
    "ax2.plot(kind=\"bar\",figsize =(20, 8),colormap='tab20b')"
   ]
  },
  {
   "cell_type": "code",
   "execution_count": 105,
   "metadata": {},
   "outputs": [
    {
     "data": {
      "text/plain": [
       "<matplotlib.axes._subplots.AxesSubplot at 0x1c75143a1c0>"
      ]
     },
     "execution_count": 105,
     "metadata": {},
     "output_type": "execute_result"
    },
    {
     "data": {
      "image/png": "[encoded data removed]",
      "text/plain": [
       "<Figure size 1440x576 with 1 Axes>"
      ]
     },
     "metadata": {
      "needs_background": "light"
     },
     "output_type": "display_data"
    }
   ],
   "source": [
    "ax3 = asalariados.groupby(['Periodo','Sexo'])['Porcentaje de asalariados que ganan hasta tres salarios mínimos'].sum().unstack('Sexo').fillna(0)\n",
    "ax3.plot(kind='bar', stacked=True,figsize=(20,8))"
   ]
  }
 ],
 "metadata": {
  "kernelspec": {
   "display_name": "Python 3",
   "language": "python",
   "name": "python3"
  },
  "language_info": {
   "codemirror_mode": {
    "name": "ipython",
    "version": 3
   },
   "file_extension": ".py",
   "mimetype": "text/x-python",
   "name": "python",
   "nbconvert_exporter": "python",
   "pygments_lexer": "ipython3",
   "version": "3.8.3"
  }
 },
 "nbformat": 4,
 "nbformat_minor": 4
}
