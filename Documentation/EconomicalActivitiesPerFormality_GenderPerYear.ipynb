{
 "cells": [
  {
   "cell_type": "markdown",
   "metadata": {},
   "source": [
    "# Glass Ceiling - A Perspective on Women ocupation on informal work places."
   ]
  },
  {
   "cell_type": "markdown",
   "metadata": {},
   "source": [
    "## Objective: \n",
    "To demonstrate the position of women on informal work places, how does this affects their glass ceiling and if we can infer their current position as working force for Mexico.<br /> After our data exploration, we just came down to three data sources which are:\n",
    "* Population by gender and earned salary.\n",
    "* **Busy population by formality under economical activity**"
   ]
  },
  {
   "cell_type": "code",
   "execution_count": 1,
   "metadata": {},
   "outputs": [],
   "source": [
    "import pandas as pd\n",
    "import numpy as np\n",
    "import matplotlib.pyplot as plt\n",
    "\n",
    "%matplotlib inline"
   ]
  },
  {
   "cell_type": "markdown",
   "metadata": {},
   "source": [
    "## Cleaning Sources\n",
    "### Population working under informality"
   ]
  },
  {
   "cell_type": "markdown",
   "metadata": {},
   "source": [
    "The further analysis will try to make a statment about the representation of women on informal workplaces."
   ]
  },
  {
   "cell_type": "code",
   "execution_count": 2,
   "metadata": {},
   "outputs": [],
   "source": [
    "informal_eco=pd.read_csv('Poblacion_Ocupada_Condicion_Informalidad.csv')"
   ]
  },
  {
   "cell_type": "markdown",
   "metadata": {},
   "source": [
    "We'll look if dtypes are set up correctly:"
   ]
  },
  {
   "cell_type": "code",
   "execution_count": 3,
   "metadata": {},
   "outputs": [
    {
     "name": "stdout",
     "output_type": "stream",
     "text": [
      "<class 'pandas.core.frame.DataFrame'>\n",
      "RangeIndex: 4721 entries, 0 to 4720\n",
      "Data columns (total 6 columns):\n",
      " #   Column                  Non-Null Count  Dtype  \n",
      "---  ------                  --------------  -----  \n",
      " 0   Periodo                 4721 non-null   int64  \n",
      " 1   Entidad_Federativa      4721 non-null   object \n",
      " 2   Sexo                    4721 non-null   object \n",
      " 3   Grupo_edad              4721 non-null   object \n",
      " 4   Condicion_informalidad  4721 non-null   object \n",
      " 5   Numero_personas         4721 non-null   float64\n",
      "dtypes: float64(1), int64(1), object(4)\n",
      "memory usage: 221.4+ KB\n"
     ]
    }
   ],
   "source": [
    "informal_eco.info()"
   ]
  },
  {
   "cell_type": "markdown",
   "metadata": {},
   "source": [
    "Since our fields are categorical but the count of people; let's:\n",
    "* Convert to datetime the period\n",
    "* Let's check if there's any null values we need to remove:"
   ]
  },
  {
   "cell_type": "code",
   "execution_count": 4,
   "metadata": {},
   "outputs": [
    {
     "data": {
      "text/html": [
       "<div>\n",
       "<style scoped>\n",
       "    .dataframe tbody tr th:only-of-type {\n",
       "        vertical-align: middle;\n",
       "    }\n",
       "\n",
       "    .dataframe tbody tr th {\n",
       "        vertical-align: top;\n",
       "    }\n",
       "\n",
       "    .dataframe thead th {\n",
       "        text-align: right;\n",
       "    }\n",
       "</style>\n",
       "<table border=\"1\" class=\"dataframe\">\n",
       "  <thead>\n",
       "    <tr style=\"text-align: right;\">\n",
       "      <th></th>\n",
       "      <th>Periodo</th>\n",
       "      <th>Entidad_Federativa</th>\n",
       "      <th>Sexo</th>\n",
       "      <th>Grupo_edad</th>\n",
       "      <th>Condicion_informalidad</th>\n",
       "      <th>Numero_personas</th>\n",
       "    </tr>\n",
       "  </thead>\n",
       "  <tbody>\n",
       "    <tr>\n",
       "      <th>0</th>\n",
       "      <td>20200301</td>\n",
       "      <td>Baja California</td>\n",
       "      <td>Hombre</td>\n",
       "      <td>65 AÑOS Y MAS</td>\n",
       "      <td>Formal</td>\n",
       "      <td>14841.000000</td>\n",
       "    </tr>\n",
       "    <tr>\n",
       "      <th>1</th>\n",
       "      <td>20210301</td>\n",
       "      <td>Baja California</td>\n",
       "      <td>Hombre</td>\n",
       "      <td>65 AÑOS Y MAS</td>\n",
       "      <td>Formal</td>\n",
       "      <td>16268.000000</td>\n",
       "    </tr>\n",
       "    <tr>\n",
       "      <th>2</th>\n",
       "      <td>20210601</td>\n",
       "      <td>Baja California</td>\n",
       "      <td>Hombre</td>\n",
       "      <td>65 AÑOS Y MAS</td>\n",
       "      <td>Formal</td>\n",
       "      <td>14645.000000</td>\n",
       "    </tr>\n",
       "    <tr>\n",
       "      <th>3</th>\n",
       "      <td>20200301</td>\n",
       "      <td>Baja California</td>\n",
       "      <td>Hombre</td>\n",
       "      <td>65 AÑOS Y MAS</td>\n",
       "      <td>Informal</td>\n",
       "      <td>17067.000000</td>\n",
       "    </tr>\n",
       "    <tr>\n",
       "      <th>4</th>\n",
       "      <td>20210301</td>\n",
       "      <td>Baja California</td>\n",
       "      <td>Hombre</td>\n",
       "      <td>65 AÑOS Y MAS</td>\n",
       "      <td>Informal</td>\n",
       "      <td>20616.000000</td>\n",
       "    </tr>\n",
       "    <tr>\n",
       "      <th>...</th>\n",
       "      <td>...</td>\n",
       "      <td>...</td>\n",
       "      <td>...</td>\n",
       "      <td>...</td>\n",
       "      <td>...</td>\n",
       "      <td>...</td>\n",
       "    </tr>\n",
       "    <tr>\n",
       "      <th>4716</th>\n",
       "      <td>20200601</td>\n",
       "      <td>Nacional</td>\n",
       "      <td>Mujer</td>\n",
       "      <td>NO ESPECIFICADO</td>\n",
       "      <td>Informal</td>\n",
       "      <td>5247.999981</td>\n",
       "    </tr>\n",
       "    <tr>\n",
       "      <th>4717</th>\n",
       "      <td>20200901</td>\n",
       "      <td>Nacional</td>\n",
       "      <td>Mujer</td>\n",
       "      <td>NO ESPECIFICADO</td>\n",
       "      <td>Informal</td>\n",
       "      <td>2631.000000</td>\n",
       "    </tr>\n",
       "    <tr>\n",
       "      <th>4718</th>\n",
       "      <td>20210301</td>\n",
       "      <td>Nacional</td>\n",
       "      <td>Mujer</td>\n",
       "      <td>NO ESPECIFICADO</td>\n",
       "      <td>Informal</td>\n",
       "      <td>6284.000000</td>\n",
       "    </tr>\n",
       "    <tr>\n",
       "      <th>4719</th>\n",
       "      <td>20210601</td>\n",
       "      <td>Nacional</td>\n",
       "      <td>Mujer</td>\n",
       "      <td>NO ESPECIFICADO</td>\n",
       "      <td>Informal</td>\n",
       "      <td>7090.000000</td>\n",
       "    </tr>\n",
       "    <tr>\n",
       "      <th>4720</th>\n",
       "      <td>20210901</td>\n",
       "      <td>Nacional</td>\n",
       "      <td>Mujer</td>\n",
       "      <td>NO ESPECIFICADO</td>\n",
       "      <td>Informal</td>\n",
       "      <td>5991.000000</td>\n",
       "    </tr>\n",
       "  </tbody>\n",
       "</table>\n",
       "<p>4721 rows × 6 columns</p>\n",
       "</div>"
      ],
      "text/plain": [
       "       Periodo Entidad_Federativa    Sexo       Grupo_edad  \\\n",
       "0     20200301    Baja California  Hombre    65 AÑOS Y MAS   \n",
       "1     20210301    Baja California  Hombre    65 AÑOS Y MAS   \n",
       "2     20210601    Baja California  Hombre    65 AÑOS Y MAS   \n",
       "3     20200301    Baja California  Hombre    65 AÑOS Y MAS   \n",
       "4     20210301    Baja California  Hombre    65 AÑOS Y MAS   \n",
       "...        ...                ...     ...              ...   \n",
       "4716  20200601           Nacional   Mujer  NO ESPECIFICADO   \n",
       "4717  20200901           Nacional   Mujer  NO ESPECIFICADO   \n",
       "4718  20210301           Nacional   Mujer  NO ESPECIFICADO   \n",
       "4719  20210601           Nacional   Mujer  NO ESPECIFICADO   \n",
       "4720  20210901           Nacional   Mujer  NO ESPECIFICADO   \n",
       "\n",
       "     Condicion_informalidad  Numero_personas  \n",
       "0                    Formal     14841.000000  \n",
       "1                    Formal     16268.000000  \n",
       "2                    Formal     14645.000000  \n",
       "3                  Informal     17067.000000  \n",
       "4                  Informal     20616.000000  \n",
       "...                     ...              ...  \n",
       "4716               Informal      5247.999981  \n",
       "4717               Informal      2631.000000  \n",
       "4718               Informal      6284.000000  \n",
       "4719               Informal      7090.000000  \n",
       "4720               Informal      5991.000000  \n",
       "\n",
       "[4721 rows x 6 columns]"
      ]
     },
     "execution_count": 4,
     "metadata": {},
     "output_type": "execute_result"
    }
   ],
   "source": [
    "informal_eco"
   ]
  },
  {
   "cell_type": "code",
   "execution_count": 5,
   "metadata": {},
   "outputs": [],
   "source": [
    "informal_eco['Periodo'] = pd.to_datetime(informal_eco['Periodo'],format='%Y%m%d')"
   ]
  },
  {
   "cell_type": "code",
   "execution_count": 6,
   "metadata": {
    "scrolled": true
   },
   "outputs": [
    {
     "data": {
      "text/html": [
       "<div>\n",
       "<style scoped>\n",
       "    .dataframe tbody tr th:only-of-type {\n",
       "        vertical-align: middle;\n",
       "    }\n",
       "\n",
       "    .dataframe tbody tr th {\n",
       "        vertical-align: top;\n",
       "    }\n",
       "\n",
       "    .dataframe thead th {\n",
       "        text-align: right;\n",
       "    }\n",
       "</style>\n",
       "<table border=\"1\" class=\"dataframe\">\n",
       "  <thead>\n",
       "    <tr style=\"text-align: right;\">\n",
       "      <th></th>\n",
       "      <th>Periodo</th>\n",
       "      <th>Entidad_Federativa</th>\n",
       "      <th>Sexo</th>\n",
       "      <th>Grupo_edad</th>\n",
       "      <th>Condicion_informalidad</th>\n",
       "      <th>Numero_personas</th>\n",
       "    </tr>\n",
       "  </thead>\n",
       "  <tbody>\n",
       "    <tr>\n",
       "      <th>0</th>\n",
       "      <td>2020-03-01</td>\n",
       "      <td>Baja California</td>\n",
       "      <td>Hombre</td>\n",
       "      <td>65 AÑOS Y MAS</td>\n",
       "      <td>Formal</td>\n",
       "      <td>14841.0</td>\n",
       "    </tr>\n",
       "    <tr>\n",
       "      <th>1</th>\n",
       "      <td>2021-03-01</td>\n",
       "      <td>Baja California</td>\n",
       "      <td>Hombre</td>\n",
       "      <td>65 AÑOS Y MAS</td>\n",
       "      <td>Formal</td>\n",
       "      <td>16268.0</td>\n",
       "    </tr>\n",
       "    <tr>\n",
       "      <th>2</th>\n",
       "      <td>2021-06-01</td>\n",
       "      <td>Baja California</td>\n",
       "      <td>Hombre</td>\n",
       "      <td>65 AÑOS Y MAS</td>\n",
       "      <td>Formal</td>\n",
       "      <td>14645.0</td>\n",
       "    </tr>\n",
       "    <tr>\n",
       "      <th>3</th>\n",
       "      <td>2020-03-01</td>\n",
       "      <td>Baja California</td>\n",
       "      <td>Hombre</td>\n",
       "      <td>65 AÑOS Y MAS</td>\n",
       "      <td>Informal</td>\n",
       "      <td>17067.0</td>\n",
       "    </tr>\n",
       "    <tr>\n",
       "      <th>4</th>\n",
       "      <td>2021-03-01</td>\n",
       "      <td>Baja California</td>\n",
       "      <td>Hombre</td>\n",
       "      <td>65 AÑOS Y MAS</td>\n",
       "      <td>Informal</td>\n",
       "      <td>20616.0</td>\n",
       "    </tr>\n",
       "  </tbody>\n",
       "</table>\n",
       "</div>"
      ],
      "text/plain": [
       "     Periodo Entidad_Federativa    Sexo     Grupo_edad Condicion_informalidad  \\\n",
       "0 2020-03-01    Baja California  Hombre  65 AÑOS Y MAS                 Formal   \n",
       "1 2021-03-01    Baja California  Hombre  65 AÑOS Y MAS                 Formal   \n",
       "2 2021-06-01    Baja California  Hombre  65 AÑOS Y MAS                 Formal   \n",
       "3 2020-03-01    Baja California  Hombre  65 AÑOS Y MAS               Informal   \n",
       "4 2021-03-01    Baja California  Hombre  65 AÑOS Y MAS               Informal   \n",
       "\n",
       "   Numero_personas  \n",
       "0          14841.0  \n",
       "1          16268.0  \n",
       "2          14645.0  \n",
       "3          17067.0  \n",
       "4          20616.0  "
      ]
     },
     "execution_count": 6,
     "metadata": {},
     "output_type": "execute_result"
    }
   ],
   "source": [
    "informal_eco.head()"
   ]
  },
  {
   "cell_type": "markdown",
   "metadata": {},
   "source": [
    "Since this is an analysis on a very general POV; let's select `Nacional` as our location to work with, since the data is already loaded, after that, we'll look for Null values."
   ]
  },
  {
   "cell_type": "code",
   "execution_count": 7,
   "metadata": {},
   "outputs": [],
   "source": [
    "informal_eco=informal_eco.loc[informal_eco['Entidad_Federativa']=='Nacional']"
   ]
  },
  {
   "cell_type": "code",
   "execution_count": 8,
   "metadata": {},
   "outputs": [
    {
     "data": {
      "text/html": [
       "<div>\n",
       "<style scoped>\n",
       "    .dataframe tbody tr th:only-of-type {\n",
       "        vertical-align: middle;\n",
       "    }\n",
       "\n",
       "    .dataframe tbody tr th {\n",
       "        vertical-align: top;\n",
       "    }\n",
       "\n",
       "    .dataframe thead th {\n",
       "        text-align: right;\n",
       "    }\n",
       "</style>\n",
       "<table border=\"1\" class=\"dataframe\">\n",
       "  <thead>\n",
       "    <tr style=\"text-align: right;\">\n",
       "      <th></th>\n",
       "      <th>Periodo</th>\n",
       "      <th>Entidad_Federativa</th>\n",
       "      <th>Sexo</th>\n",
       "      <th>Grupo_edad</th>\n",
       "      <th>Condicion_informalidad</th>\n",
       "      <th>Numero_personas</th>\n",
       "    </tr>\n",
       "  </thead>\n",
       "  <tbody>\n",
       "    <tr>\n",
       "      <th>1703</th>\n",
       "      <td>2020-03-01</td>\n",
       "      <td>Nacional</td>\n",
       "      <td>Hombre</td>\n",
       "      <td>15 A 24 AÑOS</td>\n",
       "      <td>Formal</td>\n",
       "      <td>1.777736e+06</td>\n",
       "    </tr>\n",
       "    <tr>\n",
       "      <th>1704</th>\n",
       "      <td>2021-03-01</td>\n",
       "      <td>Nacional</td>\n",
       "      <td>Hombre</td>\n",
       "      <td>15 A 24 AÑOS</td>\n",
       "      <td>Formal</td>\n",
       "      <td>1.602036e+06</td>\n",
       "    </tr>\n",
       "    <tr>\n",
       "      <th>1705</th>\n",
       "      <td>2021-06-01</td>\n",
       "      <td>Nacional</td>\n",
       "      <td>Hombre</td>\n",
       "      <td>15 A 24 AÑOS</td>\n",
       "      <td>Formal</td>\n",
       "      <td>1.648907e+06</td>\n",
       "    </tr>\n",
       "    <tr>\n",
       "      <th>1706</th>\n",
       "      <td>2020-03-01</td>\n",
       "      <td>Nacional</td>\n",
       "      <td>Hombre</td>\n",
       "      <td>15 A 24 AÑOS</td>\n",
       "      <td>Informal</td>\n",
       "      <td>3.776366e+06</td>\n",
       "    </tr>\n",
       "    <tr>\n",
       "      <th>1707</th>\n",
       "      <td>2021-03-01</td>\n",
       "      <td>Nacional</td>\n",
       "      <td>Hombre</td>\n",
       "      <td>15 A 24 AÑOS</td>\n",
       "      <td>Informal</td>\n",
       "      <td>3.651142e+06</td>\n",
       "    </tr>\n",
       "    <tr>\n",
       "      <th>...</th>\n",
       "      <td>...</td>\n",
       "      <td>...</td>\n",
       "      <td>...</td>\n",
       "      <td>...</td>\n",
       "      <td>...</td>\n",
       "      <td>...</td>\n",
       "    </tr>\n",
       "    <tr>\n",
       "      <th>4716</th>\n",
       "      <td>2020-06-01</td>\n",
       "      <td>Nacional</td>\n",
       "      <td>Mujer</td>\n",
       "      <td>NO ESPECIFICADO</td>\n",
       "      <td>Informal</td>\n",
       "      <td>5.248000e+03</td>\n",
       "    </tr>\n",
       "    <tr>\n",
       "      <th>4717</th>\n",
       "      <td>2020-09-01</td>\n",
       "      <td>Nacional</td>\n",
       "      <td>Mujer</td>\n",
       "      <td>NO ESPECIFICADO</td>\n",
       "      <td>Informal</td>\n",
       "      <td>2.631000e+03</td>\n",
       "    </tr>\n",
       "    <tr>\n",
       "      <th>4718</th>\n",
       "      <td>2021-03-01</td>\n",
       "      <td>Nacional</td>\n",
       "      <td>Mujer</td>\n",
       "      <td>NO ESPECIFICADO</td>\n",
       "      <td>Informal</td>\n",
       "      <td>6.284000e+03</td>\n",
       "    </tr>\n",
       "    <tr>\n",
       "      <th>4719</th>\n",
       "      <td>2021-06-01</td>\n",
       "      <td>Nacional</td>\n",
       "      <td>Mujer</td>\n",
       "      <td>NO ESPECIFICADO</td>\n",
       "      <td>Informal</td>\n",
       "      <td>7.090000e+03</td>\n",
       "    </tr>\n",
       "    <tr>\n",
       "      <th>4720</th>\n",
       "      <td>2021-09-01</td>\n",
       "      <td>Nacional</td>\n",
       "      <td>Mujer</td>\n",
       "      <td>NO ESPECIFICADO</td>\n",
       "      <td>Informal</td>\n",
       "      <td>5.991000e+03</td>\n",
       "    </tr>\n",
       "  </tbody>\n",
       "</table>\n",
       "<p>180 rows × 6 columns</p>\n",
       "</div>"
      ],
      "text/plain": [
       "        Periodo Entidad_Federativa    Sexo       Grupo_edad  \\\n",
       "1703 2020-03-01           Nacional  Hombre     15 A 24 AÑOS   \n",
       "1704 2021-03-01           Nacional  Hombre     15 A 24 AÑOS   \n",
       "1705 2021-06-01           Nacional  Hombre     15 A 24 AÑOS   \n",
       "1706 2020-03-01           Nacional  Hombre     15 A 24 AÑOS   \n",
       "1707 2021-03-01           Nacional  Hombre     15 A 24 AÑOS   \n",
       "...         ...                ...     ...              ...   \n",
       "4716 2020-06-01           Nacional   Mujer  NO ESPECIFICADO   \n",
       "4717 2020-09-01           Nacional   Mujer  NO ESPECIFICADO   \n",
       "4718 2021-03-01           Nacional   Mujer  NO ESPECIFICADO   \n",
       "4719 2021-06-01           Nacional   Mujer  NO ESPECIFICADO   \n",
       "4720 2021-09-01           Nacional   Mujer  NO ESPECIFICADO   \n",
       "\n",
       "     Condicion_informalidad  Numero_personas  \n",
       "1703                 Formal     1.777736e+06  \n",
       "1704                 Formal     1.602036e+06  \n",
       "1705                 Formal     1.648907e+06  \n",
       "1706               Informal     3.776366e+06  \n",
       "1707               Informal     3.651142e+06  \n",
       "...                     ...              ...  \n",
       "4716               Informal     5.248000e+03  \n",
       "4717               Informal     2.631000e+03  \n",
       "4718               Informal     6.284000e+03  \n",
       "4719               Informal     7.090000e+03  \n",
       "4720               Informal     5.991000e+03  \n",
       "\n",
       "[180 rows x 6 columns]"
      ]
     },
     "execution_count": 8,
     "metadata": {},
     "output_type": "execute_result"
    }
   ],
   "source": [
    "informal_eco"
   ]
  },
  {
   "cell_type": "markdown",
   "metadata": {},
   "source": [
    "Could we segregate more the data for the Null Values Cleanse?"
   ]
  },
  {
   "cell_type": "code",
   "execution_count": 9,
   "metadata": {
    "scrolled": true
   },
   "outputs": [
    {
     "data": {
      "text/plain": [
       "array(['15 A 24 AÑOS', '25 A 44 AÑOS', '45 A 64 AÑOS', '65 AÑOS Y MAS',\n",
       "       'NO ESPECIFICADO'], dtype=object)"
      ]
     },
     "execution_count": 9,
     "metadata": {},
     "output_type": "execute_result"
    }
   ],
   "source": [
    "informal_eco['Grupo_edad'].unique()"
   ]
  },
  {
   "cell_type": "code",
   "execution_count": 10,
   "metadata": {},
   "outputs": [
    {
     "data": {
      "text/plain": [
       "Periodo                   36\n",
       "Entidad_Federativa        36\n",
       "Sexo                      36\n",
       "Grupo_edad                36\n",
       "Condicion_informalidad    36\n",
       "Numero_personas           36\n",
       "dtype: int64"
      ]
     },
     "execution_count": 10,
     "metadata": {},
     "output_type": "execute_result"
    }
   ],
   "source": [
    "informal_eco.loc[informal_eco['Grupo_edad']=='NO ESPECIFICADO'].count()"
   ]
  },
  {
   "cell_type": "code",
   "execution_count": 11,
   "metadata": {},
   "outputs": [
    {
     "data": {
      "text/plain": [
       "Periodo                   36\n",
       "Entidad_Federativa        36\n",
       "Sexo                      36\n",
       "Grupo_edad                36\n",
       "Condicion_informalidad    36\n",
       "Numero_personas           36\n",
       "dtype: int64"
      ]
     },
     "execution_count": 11,
     "metadata": {},
     "output_type": "execute_result"
    }
   ],
   "source": [
    "informal_eco.loc[informal_eco['Grupo_edad']=='NO ESPECIFICADO'].count()"
   ]
  },
  {
   "cell_type": "code",
   "execution_count": 12,
   "metadata": {},
   "outputs": [
    {
     "data": {
      "text/plain": [
       "0.2"
      ]
     },
     "execution_count": 12,
     "metadata": {},
     "output_type": "execute_result"
    }
   ],
   "source": [
    "36/180"
   ]
  },
  {
   "cell_type": "markdown",
   "metadata": {},
   "source": [
    "Since the Null values are almost 20% of the sample, we can't infere with which values to replace and if dropping them, we would lose a significant amount of data from the already narrow dataset"
   ]
  },
  {
   "cell_type": "code",
   "execution_count": 13,
   "metadata": {},
   "outputs": [
    {
     "data": {
      "text/plain": [
       "array(['2020-03-01T00:00:00.000000000', '2021-03-01T00:00:00.000000000',\n",
       "       '2021-06-01T00:00:00.000000000', '2020-06-01T00:00:00.000000000',\n",
       "       '2020-09-01T00:00:00.000000000', '2021-09-01T00:00:00.000000000'],\n",
       "      dtype='datetime64[ns]')"
      ]
     },
     "execution_count": 13,
     "metadata": {},
     "output_type": "execute_result"
    }
   ],
   "source": [
    "informal_eco['Periodo'].unique()"
   ]
  },
  {
   "cell_type": "markdown",
   "metadata": {},
   "source": [
    "As per dates, we don't have very significant data to conclude anything, so let's explore this dataframe to see how in 2020 and 2021 the formal and informal work occupation affected women.\n",
    "* Percentage of women vs men during 2020 on informal jobs vs formal jobs.\n",
    "* Percentage of women vs men during 2021 on informal jobs vs formal jobs."
   ]
  },
  {
   "cell_type": "markdown",
   "metadata": {},
   "source": [
    "In order to group, we need to have period as Object rather than numeric:"
   ]
  },
  {
   "cell_type": "code",
   "execution_count": 14,
   "metadata": {
    "scrolled": false
   },
   "outputs": [
    {
     "data": {
      "text/plain": [
       "1703    2020-03-01 00:00:00\n",
       "1704    2021-03-01 00:00:00\n",
       "1705    2021-06-01 00:00:00\n",
       "1706    2020-03-01 00:00:00\n",
       "1707    2021-03-01 00:00:00\n",
       "               ...         \n",
       "4716    2020-06-01 00:00:00\n",
       "4717    2020-09-01 00:00:00\n",
       "4718    2021-03-01 00:00:00\n",
       "4719    2021-06-01 00:00:00\n",
       "4720    2021-09-01 00:00:00\n",
       "Name: Periodo, Length: 180, dtype: object"
      ]
     },
     "execution_count": 14,
     "metadata": {},
     "output_type": "execute_result"
    }
   ],
   "source": [
    "informal_eco['Periodo'].map(str)"
   ]
  },
  {
   "cell_type": "code",
   "execution_count": 15,
   "metadata": {},
   "outputs": [],
   "source": [
    "informal_eco=informal_eco.astype({'Periodo': str})"
   ]
  },
  {
   "cell_type": "code",
   "execution_count": 16,
   "metadata": {},
   "outputs": [],
   "source": [
    "informal_eco['Periodo']=informal_eco['Periodo'].str[:10]"
   ]
  },
  {
   "cell_type": "code",
   "execution_count": 17,
   "metadata": {},
   "outputs": [
    {
     "data": {
      "text/html": [
       "<div>\n",
       "<style scoped>\n",
       "    .dataframe tbody tr th:only-of-type {\n",
       "        vertical-align: middle;\n",
       "    }\n",
       "\n",
       "    .dataframe tbody tr th {\n",
       "        vertical-align: top;\n",
       "    }\n",
       "\n",
       "    .dataframe thead th {\n",
       "        text-align: right;\n",
       "    }\n",
       "</style>\n",
       "<table border=\"1\" class=\"dataframe\">\n",
       "  <thead>\n",
       "    <tr style=\"text-align: right;\">\n",
       "      <th></th>\n",
       "      <th>Periodo</th>\n",
       "      <th>Entidad_Federativa</th>\n",
       "      <th>Sexo</th>\n",
       "      <th>Grupo_edad</th>\n",
       "      <th>Condicion_informalidad</th>\n",
       "      <th>Numero_personas</th>\n",
       "    </tr>\n",
       "  </thead>\n",
       "  <tbody>\n",
       "    <tr>\n",
       "      <th>1703</th>\n",
       "      <td>2020-03-01</td>\n",
       "      <td>Nacional</td>\n",
       "      <td>Hombre</td>\n",
       "      <td>15 A 24 AÑOS</td>\n",
       "      <td>Formal</td>\n",
       "      <td>1.777736e+06</td>\n",
       "    </tr>\n",
       "    <tr>\n",
       "      <th>1704</th>\n",
       "      <td>2021-03-01</td>\n",
       "      <td>Nacional</td>\n",
       "      <td>Hombre</td>\n",
       "      <td>15 A 24 AÑOS</td>\n",
       "      <td>Formal</td>\n",
       "      <td>1.602036e+06</td>\n",
       "    </tr>\n",
       "    <tr>\n",
       "      <th>1705</th>\n",
       "      <td>2021-06-01</td>\n",
       "      <td>Nacional</td>\n",
       "      <td>Hombre</td>\n",
       "      <td>15 A 24 AÑOS</td>\n",
       "      <td>Formal</td>\n",
       "      <td>1.648907e+06</td>\n",
       "    </tr>\n",
       "    <tr>\n",
       "      <th>1706</th>\n",
       "      <td>2020-03-01</td>\n",
       "      <td>Nacional</td>\n",
       "      <td>Hombre</td>\n",
       "      <td>15 A 24 AÑOS</td>\n",
       "      <td>Informal</td>\n",
       "      <td>3.776366e+06</td>\n",
       "    </tr>\n",
       "    <tr>\n",
       "      <th>1707</th>\n",
       "      <td>2021-03-01</td>\n",
       "      <td>Nacional</td>\n",
       "      <td>Hombre</td>\n",
       "      <td>15 A 24 AÑOS</td>\n",
       "      <td>Informal</td>\n",
       "      <td>3.651142e+06</td>\n",
       "    </tr>\n",
       "    <tr>\n",
       "      <th>...</th>\n",
       "      <td>...</td>\n",
       "      <td>...</td>\n",
       "      <td>...</td>\n",
       "      <td>...</td>\n",
       "      <td>...</td>\n",
       "      <td>...</td>\n",
       "    </tr>\n",
       "    <tr>\n",
       "      <th>4716</th>\n",
       "      <td>2020-06-01</td>\n",
       "      <td>Nacional</td>\n",
       "      <td>Mujer</td>\n",
       "      <td>NO ESPECIFICADO</td>\n",
       "      <td>Informal</td>\n",
       "      <td>5.248000e+03</td>\n",
       "    </tr>\n",
       "    <tr>\n",
       "      <th>4717</th>\n",
       "      <td>2020-09-01</td>\n",
       "      <td>Nacional</td>\n",
       "      <td>Mujer</td>\n",
       "      <td>NO ESPECIFICADO</td>\n",
       "      <td>Informal</td>\n",
       "      <td>2.631000e+03</td>\n",
       "    </tr>\n",
       "    <tr>\n",
       "      <th>4718</th>\n",
       "      <td>2021-03-01</td>\n",
       "      <td>Nacional</td>\n",
       "      <td>Mujer</td>\n",
       "      <td>NO ESPECIFICADO</td>\n",
       "      <td>Informal</td>\n",
       "      <td>6.284000e+03</td>\n",
       "    </tr>\n",
       "    <tr>\n",
       "      <th>4719</th>\n",
       "      <td>2021-06-01</td>\n",
       "      <td>Nacional</td>\n",
       "      <td>Mujer</td>\n",
       "      <td>NO ESPECIFICADO</td>\n",
       "      <td>Informal</td>\n",
       "      <td>7.090000e+03</td>\n",
       "    </tr>\n",
       "    <tr>\n",
       "      <th>4720</th>\n",
       "      <td>2021-09-01</td>\n",
       "      <td>Nacional</td>\n",
       "      <td>Mujer</td>\n",
       "      <td>NO ESPECIFICADO</td>\n",
       "      <td>Informal</td>\n",
       "      <td>5.991000e+03</td>\n",
       "    </tr>\n",
       "  </tbody>\n",
       "</table>\n",
       "<p>180 rows × 6 columns</p>\n",
       "</div>"
      ],
      "text/plain": [
       "         Periodo Entidad_Federativa    Sexo       Grupo_edad  \\\n",
       "1703  2020-03-01           Nacional  Hombre     15 A 24 AÑOS   \n",
       "1704  2021-03-01           Nacional  Hombre     15 A 24 AÑOS   \n",
       "1705  2021-06-01           Nacional  Hombre     15 A 24 AÑOS   \n",
       "1706  2020-03-01           Nacional  Hombre     15 A 24 AÑOS   \n",
       "1707  2021-03-01           Nacional  Hombre     15 A 24 AÑOS   \n",
       "...          ...                ...     ...              ...   \n",
       "4716  2020-06-01           Nacional   Mujer  NO ESPECIFICADO   \n",
       "4717  2020-09-01           Nacional   Mujer  NO ESPECIFICADO   \n",
       "4718  2021-03-01           Nacional   Mujer  NO ESPECIFICADO   \n",
       "4719  2021-06-01           Nacional   Mujer  NO ESPECIFICADO   \n",
       "4720  2021-09-01           Nacional   Mujer  NO ESPECIFICADO   \n",
       "\n",
       "     Condicion_informalidad  Numero_personas  \n",
       "1703                 Formal     1.777736e+06  \n",
       "1704                 Formal     1.602036e+06  \n",
       "1705                 Formal     1.648907e+06  \n",
       "1706               Informal     3.776366e+06  \n",
       "1707               Informal     3.651142e+06  \n",
       "...                     ...              ...  \n",
       "4716               Informal     5.248000e+03  \n",
       "4717               Informal     2.631000e+03  \n",
       "4718               Informal     6.284000e+03  \n",
       "4719               Informal     7.090000e+03  \n",
       "4720               Informal     5.991000e+03  \n",
       "\n",
       "[180 rows x 6 columns]"
      ]
     },
     "execution_count": 17,
     "metadata": {},
     "output_type": "execute_result"
    }
   ],
   "source": [
    "informal_eco"
   ]
  },
  {
   "cell_type": "markdown",
   "metadata": {},
   "source": [
    "Due to ease of tools and lack of time, will define 4 dataframes, no considering age category to group by formality status and gender."
   ]
  },
  {
   "cell_type": "code",
   "execution_count": 59,
   "metadata": {},
   "outputs": [
    {
     "data": {
      "text/plain": [
       "<matplotlib.axes._subplots.AxesSubplot at 0x1d4993b8b20>"
      ]
     },
     "execution_count": 59,
     "metadata": {},
     "output_type": "execute_result"
    },
    {
     "data": {
      "image/png": "[encoded data removed]",
      "text/plain": [
       "<Figure size 1080x360 with 1 Axes>"
      ]
     },
     "metadata": {
      "needs_background": "light"
     },
     "output_type": "display_data"
    },
    {
     "data": {
      "image/png": "[encoded data removed]",
      "text/plain": [
       "<Figure size 1080x360 with 1 Axes>"
      ]
     },
     "metadata": {
      "needs_background": "light"
     },
     "output_type": "display_data"
    }
   ],
   "source": [
    "# grafiquemos genero a genero, por categoria de edad por ambos años - formalidad para 2020\n",
    "a1 = informal_eco.loc[(\n",
    "    (informal_eco['Periodo'].str[3].isin(['0'])) &\n",
    "    (informal_eco['Condicion_informalidad'] == 'Formal'))\n",
    "                      ].groupby(['Sexo','Grupo_edad']).sum()['Numero_personas'].unstack()\n",
    "a1.plot(kind=\"barh\",colormap='PiYG',edgecolor='Black',figsize=(15,5),title='Formal labour occupation by 2020')\n",
    "\n",
    "# grafiquemos genero a genero, por categoria de edad por ambos años - informalidad para 2020\n",
    "a2 = informal_eco.loc[(\n",
    "    (informal_eco['Periodo'].str[3].isin(['0'])) &\n",
    "    (informal_eco['Condicion_informalidad'] == 'Informal'))\n",
    "                      ].groupby(['Sexo','Grupo_edad']).sum()['Numero_personas'].unstack()\n",
    "a2.plot(kind=\"barh\",colormap='tab10',edgecolor='Black',figsize=(15,5),title='Informal labour occupation by 2020')"
   ]
  },
  {
   "cell_type": "code",
   "execution_count": 60,
   "metadata": {},
   "outputs": [
    {
     "data": {
      "text/plain": [
       "<matplotlib.axes._subplots.AxesSubplot at 0x1d49c874eb0>"
      ]
     },
     "execution_count": 60,
     "metadata": {},
     "output_type": "execute_result"
    },
    {
     "data": {
      "image/png": "[encoded data removed]",
      "text/plain": [
       "<Figure size 1080x360 with 1 Axes>"
      ]
     },
     "metadata": {
      "needs_background": "light"
     },
     "output_type": "display_data"
    },
    {
     "data": {
      "image/png": "[encoded data removed]",
      "text/plain": [
       "<Figure size 1080x360 with 1 Axes>"
      ]
     },
     "metadata": {
      "needs_background": "light"
     },
     "output_type": "display_data"
    }
   ],
   "source": [
    "\n",
    "# grafiquemos genero a genero, por categoria de edad por ambos años - formalidad para 2021\n",
    "a3 = informal_eco.loc[(\n",
    "    (informal_eco['Periodo'].str[3].isin(['1'])) &\n",
    "    (informal_eco['Condicion_informalidad'] == 'Formal'))\n",
    "                      ].groupby(['Sexo','Grupo_edad']).sum()['Numero_personas'].unstack()\n",
    "a3.plot(kind=\"barh\",colormap='PiYG',edgecolor='Black',figsize=(15,5),title='Formal labour occupation by 2021')\n",
    "\n",
    "# grafiquemos genero a genero, por categoria de edad por ambos años - informalidad para 2021\n",
    "a4 = informal_eco.loc[(\n",
    "    (informal_eco['Periodo'].str[3].isin(['1'])) &\n",
    "    (informal_eco['Condicion_informalidad'] == 'Informal'))\n",
    "                      ].groupby(['Sexo','Grupo_edad']).sum()['Numero_personas'].unstack()\n",
    "a4.plot(kind=\"barh\",colormap='tab10',edgecolor='Black',figsize=(15,5),title='Informal labour occupation by 2021')"
   ]
  },
  {
   "cell_type": "markdown",
   "metadata": {},
   "source": [
    "##### Gender by Formality Status"
   ]
  },
  {
   "cell_type": "code",
   "execution_count": 19,
   "metadata": {},
   "outputs": [],
   "source": [
    "ecoMF = (\n",
    "    informal_eco.loc[\n",
    "        ((informal_eco['Sexo'] == 'Mujer') & \n",
    "         (informal_eco['Condicion_informalidad'] == 'Formal'))]\n",
    "    .groupby('Periodo')\n",
    "    .agg({'Numero_personas':'sum'})\n",
    "    .reset_index()\n",
    ")\n",
    "ecoMF=ecoMF.rename(columns = {'Numero_personas':'Mujeres_Formalidad'})"
   ]
  },
  {
   "cell_type": "code",
   "execution_count": 20,
   "metadata": {},
   "outputs": [
    {
     "data": {
      "text/html": [
       "<div>\n",
       "<style scoped>\n",
       "    .dataframe tbody tr th:only-of-type {\n",
       "        vertical-align: middle;\n",
       "    }\n",
       "\n",
       "    .dataframe tbody tr th {\n",
       "        vertical-align: top;\n",
       "    }\n",
       "\n",
       "    .dataframe thead th {\n",
       "        text-align: right;\n",
       "    }\n",
       "</style>\n",
       "<table border=\"1\" class=\"dataframe\">\n",
       "  <thead>\n",
       "    <tr style=\"text-align: right;\">\n",
       "      <th></th>\n",
       "      <th>Periodo</th>\n",
       "      <th>Mujeres_Formalidad</th>\n",
       "    </tr>\n",
       "  </thead>\n",
       "  <tbody>\n",
       "    <tr>\n",
       "      <th>0</th>\n",
       "      <td>2020-03-01</td>\n",
       "      <td>1.884253e+07</td>\n",
       "    </tr>\n",
       "    <tr>\n",
       "      <th>1</th>\n",
       "      <td>2020-06-01</td>\n",
       "      <td>8.863090e+06</td>\n",
       "    </tr>\n",
       "    <tr>\n",
       "      <th>2</th>\n",
       "      <td>2020-09-01</td>\n",
       "      <td>9.060760e+06</td>\n",
       "    </tr>\n",
       "    <tr>\n",
       "      <th>3</th>\n",
       "      <td>2021-03-01</td>\n",
       "      <td>1.847410e+07</td>\n",
       "    </tr>\n",
       "    <tr>\n",
       "      <th>4</th>\n",
       "      <td>2021-06-01</td>\n",
       "      <td>1.903592e+07</td>\n",
       "    </tr>\n",
       "    <tr>\n",
       "      <th>5</th>\n",
       "      <td>2021-09-01</td>\n",
       "      <td>9.556098e+06</td>\n",
       "    </tr>\n",
       "  </tbody>\n",
       "</table>\n",
       "</div>"
      ],
      "text/plain": [
       "      Periodo  Mujeres_Formalidad\n",
       "0  2020-03-01        1.884253e+07\n",
       "1  2020-06-01        8.863090e+06\n",
       "2  2020-09-01        9.060760e+06\n",
       "3  2021-03-01        1.847410e+07\n",
       "4  2021-06-01        1.903592e+07\n",
       "5  2021-09-01        9.556098e+06"
      ]
     },
     "execution_count": 20,
     "metadata": {},
     "output_type": "execute_result"
    }
   ],
   "source": [
    "ecoMF"
   ]
  },
  {
   "cell_type": "code",
   "execution_count": 21,
   "metadata": {},
   "outputs": [],
   "source": [
    "ecoHF = (\n",
    "    informal_eco.loc[\n",
    "        ((informal_eco['Sexo'] == 'Hombre') & \n",
    "         (informal_eco['Condicion_informalidad'] == 'Formal'))]\n",
    "    .groupby('Periodo')\n",
    "    .agg({'Numero_personas':'sum'})\n",
    "    .reset_index()\n",
    ")\n",
    "ecoHF=ecoHF.rename(columns = {'Numero_personas':'Hombres_Formalidad'})"
   ]
  },
  {
   "cell_type": "code",
   "execution_count": 22,
   "metadata": {},
   "outputs": [
    {
     "data": {
      "text/html": [
       "<div>\n",
       "<style scoped>\n",
       "    .dataframe tbody tr th:only-of-type {\n",
       "        vertical-align: middle;\n",
       "    }\n",
       "\n",
       "    .dataframe tbody tr th {\n",
       "        vertical-align: top;\n",
       "    }\n",
       "\n",
       "    .dataframe thead th {\n",
       "        text-align: right;\n",
       "    }\n",
       "</style>\n",
       "<table border=\"1\" class=\"dataframe\">\n",
       "  <thead>\n",
       "    <tr style=\"text-align: right;\">\n",
       "      <th></th>\n",
       "      <th>Periodo</th>\n",
       "      <th>Hombres_Formalidad</th>\n",
       "    </tr>\n",
       "  </thead>\n",
       "  <tbody>\n",
       "    <tr>\n",
       "      <th>0</th>\n",
       "      <td>2020-03-01</td>\n",
       "      <td>2.977140e+07</td>\n",
       "    </tr>\n",
       "    <tr>\n",
       "      <th>1</th>\n",
       "      <td>2020-06-01</td>\n",
       "      <td>1.304537e+07</td>\n",
       "    </tr>\n",
       "    <tr>\n",
       "      <th>2</th>\n",
       "      <td>2020-09-01</td>\n",
       "      <td>1.421525e+07</td>\n",
       "    </tr>\n",
       "    <tr>\n",
       "      <th>3</th>\n",
       "      <td>2021-03-01</td>\n",
       "      <td>2.913173e+07</td>\n",
       "    </tr>\n",
       "    <tr>\n",
       "      <th>4</th>\n",
       "      <td>2021-06-01</td>\n",
       "      <td>2.940037e+07</td>\n",
       "    </tr>\n",
       "    <tr>\n",
       "      <th>5</th>\n",
       "      <td>2021-09-01</td>\n",
       "      <td>1.484589e+07</td>\n",
       "    </tr>\n",
       "  </tbody>\n",
       "</table>\n",
       "</div>"
      ],
      "text/plain": [
       "      Periodo  Hombres_Formalidad\n",
       "0  2020-03-01        2.977140e+07\n",
       "1  2020-06-01        1.304537e+07\n",
       "2  2020-09-01        1.421525e+07\n",
       "3  2021-03-01        2.913173e+07\n",
       "4  2021-06-01        2.940037e+07\n",
       "5  2021-09-01        1.484589e+07"
      ]
     },
     "execution_count": 22,
     "metadata": {},
     "output_type": "execute_result"
    }
   ],
   "source": [
    "ecoHF"
   ]
  },
  {
   "cell_type": "markdown",
   "metadata": {},
   "source": [
    "##### Gender by Informality Status"
   ]
  },
  {
   "cell_type": "code",
   "execution_count": 23,
   "metadata": {},
   "outputs": [],
   "source": [
    "ecoMI = (\n",
    "    informal_eco.loc[\n",
    "        ((informal_eco['Sexo'] == 'Mujer') & \n",
    "         (informal_eco['Condicion_informalidad'] == 'Informal'))]\n",
    "    .groupby('Periodo')\n",
    "    .agg({'Numero_personas':'sum'})\n",
    "    .reset_index()\n",
    ")\n",
    "ecoMI=ecoMI.rename(columns = {'Numero_personas':'Mujeres_Informalidad'})"
   ]
  },
  {
   "cell_type": "code",
   "execution_count": 24,
   "metadata": {
    "scrolled": true
   },
   "outputs": [
    {
     "data": {
      "text/html": [
       "<div>\n",
       "<style scoped>\n",
       "    .dataframe tbody tr th:only-of-type {\n",
       "        vertical-align: middle;\n",
       "    }\n",
       "\n",
       "    .dataframe tbody tr th {\n",
       "        vertical-align: top;\n",
       "    }\n",
       "\n",
       "    .dataframe thead th {\n",
       "        text-align: right;\n",
       "    }\n",
       "</style>\n",
       "<table border=\"1\" class=\"dataframe\">\n",
       "  <thead>\n",
       "    <tr style=\"text-align: right;\">\n",
       "      <th></th>\n",
       "      <th>Periodo</th>\n",
       "      <th>Mujeres_Informalidad</th>\n",
       "    </tr>\n",
       "  </thead>\n",
       "  <tbody>\n",
       "    <tr>\n",
       "      <th>0</th>\n",
       "      <td>2020-03-01</td>\n",
       "      <td>2.472320e+07</td>\n",
       "    </tr>\n",
       "    <tr>\n",
       "      <th>1</th>\n",
       "      <td>2020-06-01</td>\n",
       "      <td>8.776774e+06</td>\n",
       "    </tr>\n",
       "    <tr>\n",
       "      <th>2</th>\n",
       "      <td>2020-09-01</td>\n",
       "      <td>1.012984e+07</td>\n",
       "    </tr>\n",
       "    <tr>\n",
       "      <th>3</th>\n",
       "      <td>2021-03-01</td>\n",
       "      <td>2.213012e+07</td>\n",
       "    </tr>\n",
       "    <tr>\n",
       "      <th>4</th>\n",
       "      <td>2021-06-01</td>\n",
       "      <td>2.429480e+07</td>\n",
       "    </tr>\n",
       "    <tr>\n",
       "      <th>5</th>\n",
       "      <td>2021-09-01</td>\n",
       "      <td>1.227930e+07</td>\n",
       "    </tr>\n",
       "  </tbody>\n",
       "</table>\n",
       "</div>"
      ],
      "text/plain": [
       "      Periodo  Mujeres_Informalidad\n",
       "0  2020-03-01          2.472320e+07\n",
       "1  2020-06-01          8.776774e+06\n",
       "2  2020-09-01          1.012984e+07\n",
       "3  2021-03-01          2.213012e+07\n",
       "4  2021-06-01          2.429480e+07\n",
       "5  2021-09-01          1.227930e+07"
      ]
     },
     "execution_count": 24,
     "metadata": {},
     "output_type": "execute_result"
    }
   ],
   "source": [
    "ecoMI"
   ]
  },
  {
   "cell_type": "code",
   "execution_count": 25,
   "metadata": {},
   "outputs": [],
   "source": [
    "ecoHI = (\n",
    "    informal_eco.loc[\n",
    "        ((informal_eco['Sexo'] == 'Hombre') & \n",
    "         (informal_eco['Condicion_informalidad'] == 'Informal'))]\n",
    "    .groupby('Periodo')\n",
    "    .agg({'Numero_personas':'sum'})\n",
    "    .reset_index()\n",
    ")\n",
    "ecoHI=ecoHI.rename(columns = {'Numero_personas':'Hombres_Informalidad'})"
   ]
  },
  {
   "cell_type": "code",
   "execution_count": 26,
   "metadata": {},
   "outputs": [
    {
     "data": {
      "text/html": [
       "<div>\n",
       "<style scoped>\n",
       "    .dataframe tbody tr th:only-of-type {\n",
       "        vertical-align: middle;\n",
       "    }\n",
       "\n",
       "    .dataframe tbody tr th {\n",
       "        vertical-align: top;\n",
       "    }\n",
       "\n",
       "    .dataframe thead th {\n",
       "        text-align: right;\n",
       "    }\n",
       "</style>\n",
       "<table border=\"1\" class=\"dataframe\">\n",
       "  <thead>\n",
       "    <tr style=\"text-align: right;\">\n",
       "      <th></th>\n",
       "      <th>Periodo</th>\n",
       "      <th>Hombres_Informalidad</th>\n",
       "    </tr>\n",
       "  </thead>\n",
       "  <tbody>\n",
       "    <tr>\n",
       "      <th>0</th>\n",
       "      <td>2020-03-01</td>\n",
       "      <td>3.677977e+07</td>\n",
       "    </tr>\n",
       "    <tr>\n",
       "      <th>1</th>\n",
       "      <td>2020-06-01</td>\n",
       "      <td>1.402983e+07</td>\n",
       "    </tr>\n",
       "    <tr>\n",
       "      <th>2</th>\n",
       "      <td>2020-09-01</td>\n",
       "      <td>1.740487e+07</td>\n",
       "    </tr>\n",
       "    <tr>\n",
       "      <th>3</th>\n",
       "      <td>2021-03-01</td>\n",
       "      <td>3.621059e+07</td>\n",
       "    </tr>\n",
       "    <tr>\n",
       "      <th>4</th>\n",
       "      <td>2021-06-01</td>\n",
       "      <td>3.775441e+07</td>\n",
       "    </tr>\n",
       "    <tr>\n",
       "      <th>5</th>\n",
       "      <td>2021-09-01</td>\n",
       "      <td>1.915494e+07</td>\n",
       "    </tr>\n",
       "  </tbody>\n",
       "</table>\n",
       "</div>"
      ],
      "text/plain": [
       "      Periodo  Hombres_Informalidad\n",
       "0  2020-03-01          3.677977e+07\n",
       "1  2020-06-01          1.402983e+07\n",
       "2  2020-09-01          1.740487e+07\n",
       "3  2021-03-01          3.621059e+07\n",
       "4  2021-06-01          3.775441e+07\n",
       "5  2021-09-01          1.915494e+07"
      ]
     },
     "execution_count": 26,
     "metadata": {},
     "output_type": "execute_result"
    }
   ],
   "source": [
    "ecoHI"
   ]
  },
  {
   "cell_type": "code",
   "execution_count": 27,
   "metadata": {},
   "outputs": [],
   "source": [
    "formalJ=pd.merge(ecoMF, ecoHF, on ='Periodo', how =\"inner\")"
   ]
  },
  {
   "cell_type": "code",
   "execution_count": 28,
   "metadata": {},
   "outputs": [],
   "source": [
    "informalJ=pd.merge(ecoMI, ecoHI, on ='Periodo', how =\"inner\")"
   ]
  },
  {
   "cell_type": "code",
   "execution_count": 29,
   "metadata": {},
   "outputs": [],
   "source": [
    "finalJ=pd.merge(formalJ,informalJ, on='Periodo',how='inner')"
   ]
  },
  {
   "cell_type": "code",
   "execution_count": 30,
   "metadata": {},
   "outputs": [
    {
     "data": {
      "text/html": [
       "<div>\n",
       "<style scoped>\n",
       "    .dataframe tbody tr th:only-of-type {\n",
       "        vertical-align: middle;\n",
       "    }\n",
       "\n",
       "    .dataframe tbody tr th {\n",
       "        vertical-align: top;\n",
       "    }\n",
       "\n",
       "    .dataframe thead th {\n",
       "        text-align: right;\n",
       "    }\n",
       "</style>\n",
       "<table border=\"1\" class=\"dataframe\">\n",
       "  <thead>\n",
       "    <tr style=\"text-align: right;\">\n",
       "      <th></th>\n",
       "      <th>Periodo</th>\n",
       "      <th>Mujeres_Formalidad</th>\n",
       "      <th>Hombres_Formalidad</th>\n",
       "      <th>Mujeres_Informalidad</th>\n",
       "      <th>Hombres_Informalidad</th>\n",
       "    </tr>\n",
       "  </thead>\n",
       "  <tbody>\n",
       "    <tr>\n",
       "      <th>0</th>\n",
       "      <td>2020-03-01</td>\n",
       "      <td>1.884253e+07</td>\n",
       "      <td>2.977140e+07</td>\n",
       "      <td>2.472320e+07</td>\n",
       "      <td>3.677977e+07</td>\n",
       "    </tr>\n",
       "    <tr>\n",
       "      <th>1</th>\n",
       "      <td>2020-06-01</td>\n",
       "      <td>8.863090e+06</td>\n",
       "      <td>1.304537e+07</td>\n",
       "      <td>8.776774e+06</td>\n",
       "      <td>1.402983e+07</td>\n",
       "    </tr>\n",
       "    <tr>\n",
       "      <th>2</th>\n",
       "      <td>2020-09-01</td>\n",
       "      <td>9.060760e+06</td>\n",
       "      <td>1.421525e+07</td>\n",
       "      <td>1.012984e+07</td>\n",
       "      <td>1.740487e+07</td>\n",
       "    </tr>\n",
       "    <tr>\n",
       "      <th>3</th>\n",
       "      <td>2021-03-01</td>\n",
       "      <td>1.847410e+07</td>\n",
       "      <td>2.913173e+07</td>\n",
       "      <td>2.213012e+07</td>\n",
       "      <td>3.621059e+07</td>\n",
       "    </tr>\n",
       "    <tr>\n",
       "      <th>4</th>\n",
       "      <td>2021-06-01</td>\n",
       "      <td>1.903592e+07</td>\n",
       "      <td>2.940037e+07</td>\n",
       "      <td>2.429480e+07</td>\n",
       "      <td>3.775441e+07</td>\n",
       "    </tr>\n",
       "    <tr>\n",
       "      <th>5</th>\n",
       "      <td>2021-09-01</td>\n",
       "      <td>9.556098e+06</td>\n",
       "      <td>1.484589e+07</td>\n",
       "      <td>1.227930e+07</td>\n",
       "      <td>1.915494e+07</td>\n",
       "    </tr>\n",
       "  </tbody>\n",
       "</table>\n",
       "</div>"
      ],
      "text/plain": [
       "      Periodo  Mujeres_Formalidad  Hombres_Formalidad  Mujeres_Informalidad  \\\n",
       "0  2020-03-01        1.884253e+07        2.977140e+07          2.472320e+07   \n",
       "1  2020-06-01        8.863090e+06        1.304537e+07          8.776774e+06   \n",
       "2  2020-09-01        9.060760e+06        1.421525e+07          1.012984e+07   \n",
       "3  2021-03-01        1.847410e+07        2.913173e+07          2.213012e+07   \n",
       "4  2021-06-01        1.903592e+07        2.940037e+07          2.429480e+07   \n",
       "5  2021-09-01        9.556098e+06        1.484589e+07          1.227930e+07   \n",
       "\n",
       "   Hombres_Informalidad  \n",
       "0          3.677977e+07  \n",
       "1          1.402983e+07  \n",
       "2          1.740487e+07  \n",
       "3          3.621059e+07  \n",
       "4          3.775441e+07  \n",
       "5          1.915494e+07  "
      ]
     },
     "execution_count": 30,
     "metadata": {},
     "output_type": "execute_result"
    }
   ],
   "source": [
    "finalJ"
   ]
  },
  {
   "cell_type": "code",
   "execution_count": 31,
   "metadata": {
    "scrolled": true
   },
   "outputs": [
    {
     "data": {
      "text/html": [
       "<div>\n",
       "<style scoped>\n",
       "    .dataframe tbody tr th:only-of-type {\n",
       "        vertical-align: middle;\n",
       "    }\n",
       "\n",
       "    .dataframe tbody tr th {\n",
       "        vertical-align: top;\n",
       "    }\n",
       "\n",
       "    .dataframe thead th {\n",
       "        text-align: right;\n",
       "    }\n",
       "</style>\n",
       "<table border=\"1\" class=\"dataframe\">\n",
       "  <thead>\n",
       "    <tr style=\"text-align: right;\">\n",
       "      <th></th>\n",
       "      <th>Mujeres_Formalidad</th>\n",
       "      <th>Hombres_Formalidad</th>\n",
       "      <th>Mujeres_Informalidad</th>\n",
       "      <th>Hombres_Informalidad</th>\n",
       "    </tr>\n",
       "    <tr>\n",
       "      <th>Periodo</th>\n",
       "      <th></th>\n",
       "      <th></th>\n",
       "      <th></th>\n",
       "      <th></th>\n",
       "    </tr>\n",
       "  </thead>\n",
       "  <tbody>\n",
       "    <tr>\n",
       "      <th>2020-03-01</th>\n",
       "      <td>1.884253e+07</td>\n",
       "      <td>2.977140e+07</td>\n",
       "      <td>2.472320e+07</td>\n",
       "      <td>3.677977e+07</td>\n",
       "    </tr>\n",
       "    <tr>\n",
       "      <th>2020-06-01</th>\n",
       "      <td>8.863090e+06</td>\n",
       "      <td>1.304537e+07</td>\n",
       "      <td>8.776774e+06</td>\n",
       "      <td>1.402983e+07</td>\n",
       "    </tr>\n",
       "    <tr>\n",
       "      <th>2020-09-01</th>\n",
       "      <td>9.060760e+06</td>\n",
       "      <td>1.421525e+07</td>\n",
       "      <td>1.012984e+07</td>\n",
       "      <td>1.740487e+07</td>\n",
       "    </tr>\n",
       "    <tr>\n",
       "      <th>2021-03-01</th>\n",
       "      <td>1.847410e+07</td>\n",
       "      <td>2.913173e+07</td>\n",
       "      <td>2.213012e+07</td>\n",
       "      <td>3.621059e+07</td>\n",
       "    </tr>\n",
       "    <tr>\n",
       "      <th>2021-06-01</th>\n",
       "      <td>1.903592e+07</td>\n",
       "      <td>2.940037e+07</td>\n",
       "      <td>2.429480e+07</td>\n",
       "      <td>3.775441e+07</td>\n",
       "    </tr>\n",
       "    <tr>\n",
       "      <th>2021-09-01</th>\n",
       "      <td>9.556098e+06</td>\n",
       "      <td>1.484589e+07</td>\n",
       "      <td>1.227930e+07</td>\n",
       "      <td>1.915494e+07</td>\n",
       "    </tr>\n",
       "  </tbody>\n",
       "</table>\n",
       "</div>"
      ],
      "text/plain": [
       "            Mujeres_Formalidad  Hombres_Formalidad  Mujeres_Informalidad  \\\n",
       "Periodo                                                                    \n",
       "2020-03-01        1.884253e+07        2.977140e+07          2.472320e+07   \n",
       "2020-06-01        8.863090e+06        1.304537e+07          8.776774e+06   \n",
       "2020-09-01        9.060760e+06        1.421525e+07          1.012984e+07   \n",
       "2021-03-01        1.847410e+07        2.913173e+07          2.213012e+07   \n",
       "2021-06-01        1.903592e+07        2.940037e+07          2.429480e+07   \n",
       "2021-09-01        9.556098e+06        1.484589e+07          1.227930e+07   \n",
       "\n",
       "            Hombres_Informalidad  \n",
       "Periodo                           \n",
       "2020-03-01          3.677977e+07  \n",
       "2020-06-01          1.402983e+07  \n",
       "2020-09-01          1.740487e+07  \n",
       "2021-03-01          3.621059e+07  \n",
       "2021-06-01          3.775441e+07  \n",
       "2021-09-01          1.915494e+07  "
      ]
     },
     "execution_count": 31,
     "metadata": {},
     "output_type": "execute_result"
    }
   ],
   "source": [
    "finalJ.set_index('Periodo')"
   ]
  },
  {
   "cell_type": "code",
   "execution_count": 71,
   "metadata": {},
   "outputs": [
    {
     "data": {
      "text/plain": [
       "<matplotlib.legend.Legend at 0x1d49c1a6a60>"
      ]
     },
     "execution_count": 71,
     "metadata": {},
     "output_type": "execute_result"
    },
    {
     "data": {
      "image/png": "[encoded data removed]",
      "text/plain": [
       "<Figure size 864x432 with 1 Axes>"
      ]
     },
     "metadata": {
      "needs_background": "light"
     },
     "output_type": "display_data"
    }
   ],
   "source": [
    "plt.figure(figsize=(12, 6))\n",
    "plt.title('Amount of work force by gender and formality')\n",
    "\n",
    "x=finalJ['Periodo']\n",
    "y1=finalJ['Mujeres_Formalidad']\n",
    "y2=finalJ['Hombres_Formalidad']\n",
    "y3=finalJ['Mujeres_Informalidad']\n",
    "y4=finalJ['Hombres_Informalidad']\n",
    "\n",
    "plt.plot(x,y1,color='red', linewidth=1,marker='o', markersize=8, label='Women under formal jobs')\n",
    "plt.plot(x,y2,color='orange', linewidth=1,marker='v', markersize=8, label='Men under formal jobs')\n",
    "plt.plot(x,y3,color='pink', linewidth=1,marker='1', markersize=8, label='Women under informal jobs')\n",
    "plt.plot(x,y4,color='purple', linewidth=1,marker='s', markersize=8, label='Women under informal jobs')\n",
    "plt.legend()"
   ]
  },
  {
   "cell_type": "markdown",
   "metadata": {},
   "source": [
    "As per below results, knowing about the salary data we have previously; we can partialy confirm (since we only have 2 years data) that even though women are more present as work force, they're still on positions of lower power and really underpaid; since as we show, they represent only 30% of earning population and from that, over 60% earn barely 3 minimum wages."
   ]
  },
  {
   "cell_type": "markdown",
   "metadata": {},
   "source": [
    "With this brief analysis, we see that there's still a long way mexican woman and institutions will need to go in order to show true equality between genders and pay gap."
   ]
  },
  {
   "cell_type": "markdown",
   "metadata": {},
   "source": [
    "Q.E.D. - IZ"
   ]
  }
 ],
 "metadata": {
  "kernelspec": {
   "display_name": "Python 3",
   "language": "python",
   "name": "python3"
  },
  "language_info": {
   "codemirror_mode": {
    "name": "ipython",
    "version": 3
   },
   "file_extension": ".py",
   "mimetype": "text/x-python",
   "name": "python",
   "nbconvert_exporter": "python",
   "pygments_lexer": "ipython3",
   "version": "3.8.3"
  }
 },
 "nbformat": 4,
 "nbformat_minor": 4
}
