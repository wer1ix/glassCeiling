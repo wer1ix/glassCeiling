{
 "cells": [
  {
   "cell_type": "markdown",
   "metadata": {},
   "source": [
    "# Techo De Cristal en México\n",
    "\n",
    "#### Markdown\n",
    "Esta es una celda de tipo *Markdown*; la misma permite escribir texto con cierto formato, por ejemplo títulos, listas, tablas. Probemos de insertar diferentes objetos, para investigar que tipo de cosas podemos hacer con ella:\n",
    "\n",
    "&rarr; Diferentes tipos de fuentes: **Negrita**, *Italica*, ~~Tacchado~~\n",
    "\n",
    "&rarr; Diferentes tamaños de letra:\n",
    "\n",
    "# Título 1\n",
    "## Título 2\n",
    "### Título 3\n",
    "#### Título 4\n",
    "\n",
    "&rarr; Lista de elementos\n",
    "    \n",
    "* Item 1\n",
    "* Item 2\n",
    "  * Item 2.1\n",
    "    * Item 2.2\n",
    "    * Item 2.3\n",
    " \n",
    "\n",
    "&rarr; Lista ordenada\n",
    "\n",
    "    1. Elemento 1\n",
    "    2. Elemento 2\n",
    "    3. Elemento 3\n",
    "\n",
    "&rarr; Tablas\n",
    "\n",
    "| Clase | Día | Fecha |\n",
    "| ----- | --- | ----- |\n",
    "| 1 | Lunes | 22/0/2018 |\n",
    "| 2 | Martes | 23/0/2018 |\n",
    "| 3 | Miércoles | 24/0/2018 |\n",
    "| 4 | Viernes | 26/0/2018 |\n",
    "\n",
    "&rarr; Imagenes\n",
    "\n",
    "<img src=\"https://github.com/efviodo/idatha-data-science-course/raw/master/notebooks/figures/jupyter-logo.png\" width=\"200px\" style=\"center; margin-top:50px\"/>\n",
    "\n",
    "&rarr; HTML\n",
    "\n",
    "\n",
    "<form>\n",
    "  First name:<br>\n",
    "  <input type=\"text\" name=\"firstname\"><br>\n",
    "  Last name:<br>\n",
    "  <input type=\"text\" name=\"lastname\">\n",
    "</form>\n",
    "\n",
    "Por más información sobre lenguae Markdown ver https://github.com/adam-p/markdown-here/wiki/Markdown-Cheatsheet"
   ]
  },
  {
   "cell_type": "markdown",
   "metadata": {},
   "source": [
    "## Data Sourcing\n",
    "###### https://www.datos.gob.mx/"
   ]
  },
  {
   "cell_type": "markdown",
   "metadata": {},
   "source": [
    "#### Datos utilizados \n",
    "- "
   ]
  },
  {
   "cell_type": "code",
   "execution_count": null,
   "metadata": {},
   "outputs": [],
   "source": []
  }
 ],
 "metadata": {
  "kernelspec": {
   "display_name": "Python 3",
   "language": "python",
   "name": "python3"
  },
  "language_info": {
   "codemirror_mode": {
    "name": "ipython",
    "version": 3
   },
   "file_extension": ".py",
   "mimetype": "text/x-python",
   "name": "python",
   "nbconvert_exporter": "python",
   "pygments_lexer": "ipython3",
   "version": "3.8.3"
  }
 },
 "nbformat": 4,
 "nbformat_minor": 4
}
