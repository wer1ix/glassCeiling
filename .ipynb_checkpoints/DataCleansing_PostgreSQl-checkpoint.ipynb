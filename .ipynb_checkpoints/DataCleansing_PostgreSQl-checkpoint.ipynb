{
 "cells": [
  {
   "cell_type": "markdown",
   "metadata": {},
   "source": [
    "# Data Cleansing with PostgreSQL\n",
    "### Merging data from different files onto a single table"
   ]
  },
  {
   "cell_type": "markdown",
   "metadata": {},
   "source": [
    "By checking same [Mexican Government Data Offical Sources](https://datos.gob.mx/) found two different sources related to economical activities: <ul>\n",
    "    <li>Essential</li>\n",
    "    <li>Non - Essential</li>\n",
    "</ul>\n",
    "But these were separated CSV with information, will analyse first the csv separated within Jupyter notebooks and if data fields match, will create a unique database to be accessed on PostgreSQL."
   ]
  },
  {
   "cell_type": "code",
   "execution_count": 64,
   "metadata": {},
   "outputs": [],
   "source": [
    "import pandas as pd\n",
    "import matplotlib.pyplot as plt"
   ]
  },
  {
   "cell_type": "code",
   "execution_count": 6,
   "metadata": {},
   "outputs": [],
   "source": [
    "act_es = 'C:/Users/werlix/Downloads/Techo_Cristal/Data/Esenciales/th_denue_act_esenciales_ent01_09.csv'"
   ]
  },
  {
   "cell_type": "code",
   "execution_count": 7,
   "metadata": {},
   "outputs": [
    {
     "ename": "NameError",
     "evalue": "name 'esenciales1' is not defined",
     "output_type": "error",
     "traceback": [
      "\u001b[1;31m---------------------------------------------------------------------------\u001b[0m",
      "\u001b[1;31mNameError\u001b[0m                                 Traceback (most recent call last)",
      "\u001b[1;32m<ipython-input-7-6451ad62952f>\u001b[0m in \u001b[0;36m<module>\u001b[1;34m\u001b[0m\n\u001b[1;32m----> 1\u001b[1;33m \u001b[0me1\u001b[0m \u001b[1;33m=\u001b[0m \u001b[0mpd\u001b[0m\u001b[1;33m.\u001b[0m\u001b[0mread_csv\u001b[0m\u001b[1;33m(\u001b[0m\u001b[0mesenciales1\u001b[0m\u001b[1;33m,\u001b[0m\u001b[0msep\u001b[0m\u001b[1;33m=\u001b[0m\u001b[1;34m\"\"\",\"\"\"\u001b[0m\u001b[1;33m)\u001b[0m\u001b[1;33m\u001b[0m\u001b[1;33m\u001b[0m\u001b[0m\n\u001b[0m",
      "\u001b[1;31mNameError\u001b[0m: name 'esenciales1' is not defined"
     ]
    }
   ],
   "source": [
    "e1 = pd.read_csv(esenciales1,sep=\"\"\",\"\"\")"
   ]
  },
  {
   "cell_type": "markdown",
   "metadata": {},
   "source": [
    "Due to below error, will try to have a view to the dataset on Excel directly to check if the structure of 45 fields is correct, this is because the dataset is non coded with UTF8 and probably its missing some comas or quotations marks for distinguing string datatypes. "
   ]
  },
  {
   "cell_type": "markdown",
   "metadata": {},
   "source": [
    "#### Non Esential Activities data sets\n",
    "<img src=\"image1.png\"> "
   ]
  },
  {
   "cell_type": "markdown",
   "metadata": {},
   "source": [
    "#### Esential Activites data sets\n",
    "<img src=\"image2.png\">"
   ]
  },
  {
   "cell_type": "markdown",
   "metadata": {},
   "source": [
    "As per above images, the data is set up in four different files segregated by mexican entities, as per exploring the data on Excel; we can see it's missing comas and quotation marks, therefore the data is not detected neither with Jupyter nor PostgreSQL. <br />\n",
    "The process that I'll take is to manually check and if needed agregate comas or quotation so table can be loaded onto PostgreSQL to further cleaning and an analyzing."
   ]
  },
  {
   "cell_type": "code",
   "execution_count": 8,
   "metadata": {},
   "outputs": [],
   "source": [
    "from IPython.display import HTML"
   ]
  },
  {
   "cell_type": "markdown",
   "metadata": {},
   "source": [
    "#### Manual detection for missing comas or quotations"
   ]
  },
  {
   "cell_type": "code",
   "execution_count": 9,
   "metadata": {},
   "outputs": [
    {
     "data": {
      "text/html": [
       "<div align=\"left\">\n",
       "<video width=\"500\" height=\"340\" autoplay muted>\n",
       "  <source src=\"video1.mp4\" type=\"video/mp4\">\n",
       "Manual Cleaning process in Excel for esential and non-esential data.\n",
       "</video>\n",
       "</div>\n"
      ],
      "text/plain": [
       "<IPython.core.display.HTML object>"
      ]
     },
     "metadata": {},
     "output_type": "display_data"
    }
   ],
   "source": [
    "%%HTML\n",
    "<div align=\"left\">\n",
    "<video width=\"500\" height=\"340\" autoplay muted>\n",
    "  <source src=\"video1.mp4\" type=\"video/mp4\">\n",
    "Manual Cleaning process in Excel for esential and non-esential data.\n",
    "</video>\n",
    "</div>"
   ]
  },
  {
   "cell_type": "markdown",
   "metadata": {},
   "source": [
    "After cleaning, will create a local database on PostgreSQL to have an easier way to analyse my data:<br>\n",
    "For this case will have the following details for have a quick detail of data:"
   ]
  },
  {
   "cell_type": "markdown",
   "metadata": {},
   "source": [
    "#### Table Creation\n",
    "<img src=\"image3.png\"> "
   ]
  },
  {
   "cell_type": "markdown",
   "metadata": {},
   "source": [
    "#### Append for Data (for each of the 4 non esential and 4 esential tables)\n",
    "<img src=\"image4.png\"> "
   ]
  },
  {
   "cell_type": "markdown",
   "metadata": {},
   "source": [
    "While appending data, identified that for the esential and non esential data same field were shared, distinguised by the _es_esencial_ field.<br />\n",
    "Therefore, before appending non esential data had to homologue all the values on _es_esencial_ to **1** to have them properly distinguished before appending.<br />\n",
    "<img src=\"image5.png\">\n",
    "<br />\n",
    "So by the end of the data join for the esential activities table, we could properly have identified each of the items:\n",
    "<br />\n",
    "<img src=\"image6.png\">\n"
   ]
  },
  {
   "cell_type": "markdown",
   "metadata": {},
   "source": [
    "But for the purpose of this analysis, these items are not necessary since the database is not segregated by gender, but we can still analyze this to have an overview of how esential and non esential business sustent mexican economy.\n",
    "<br />\n",
    "For this I will create a PostgreSQL connection:"
   ]
  },
  {
   "cell_type": "code",
   "execution_count": 10,
   "metadata": {},
   "outputs": [],
   "source": [
    "import psycopg2 as pg2"
   ]
  },
  {
   "cell_type": "markdown",
   "metadata": {},
   "source": [
    "Set the connection:"
   ]
  },
  {
   "cell_type": "code",
   "execution_count": 11,
   "metadata": {},
   "outputs": [],
   "source": [
    "conn = pg2.connect(database='Platzi_PT',user='postgres',password='password')"
   ]
  },
  {
   "cell_type": "code",
   "execution_count": 12,
   "metadata": {},
   "outputs": [],
   "source": [
    "df_esential = pd.read_sql('''\n",
    "    SELECT es_esencial, COUNT(*)\n",
    "    FROM act_esenciales\n",
    "    GROUP BY es_esencial\n",
    "''', conn)"
   ]
  },
  {
   "cell_type": "markdown",
   "metadata": {},
   "source": [
    "To show the amount of a single table made from 8 different CSVs for esential and non esential economical activities."
   ]
  },
  {
   "cell_type": "code",
   "execution_count": 13,
   "metadata": {},
   "outputs": [
    {
     "data": {
      "text/html": [
       "<div>\n",
       "<style scoped>\n",
       "    .dataframe tbody tr th:only-of-type {\n",
       "        vertical-align: middle;\n",
       "    }\n",
       "\n",
       "    .dataframe tbody tr th {\n",
       "        vertical-align: top;\n",
       "    }\n",
       "\n",
       "    .dataframe thead th {\n",
       "        text-align: right;\n",
       "    }\n",
       "</style>\n",
       "<table border=\"1\" class=\"dataframe\">\n",
       "  <thead>\n",
       "    <tr style=\"text-align: right;\">\n",
       "      <th></th>\n",
       "      <th>es_esencial</th>\n",
       "      <th>count</th>\n",
       "    </tr>\n",
       "  </thead>\n",
       "  <tbody>\n",
       "    <tr>\n",
       "      <th>0</th>\n",
       "      <td>0</td>\n",
       "      <td>1515149</td>\n",
       "    </tr>\n",
       "    <tr>\n",
       "      <th>1</th>\n",
       "      <td>1</td>\n",
       "      <td>3809724</td>\n",
       "    </tr>\n",
       "  </tbody>\n",
       "</table>\n",
       "</div>"
      ],
      "text/plain": [
       "  es_esencial    count\n",
       "0           0  1515149\n",
       "1           1  3809724"
      ]
     },
     "execution_count": 13,
     "metadata": {},
     "output_type": "execute_result"
    }
   ],
   "source": [
    "df_esential"
   ]
  },
  {
   "cell_type": "markdown",
   "metadata": {},
   "source": [
    "Since my analysis involves differences based in gender let me show you why this is not usefull with an `.info()`"
   ]
  },
  {
   "cell_type": "markdown",
   "metadata": {},
   "source": [
    "Let's see the count of the table to set up a sample:"
   ]
  },
  {
   "cell_type": "code",
   "execution_count": 16,
   "metadata": {},
   "outputs": [],
   "source": [
    "df_esential_count = pd.read_sql('''\n",
    "    SELECT COUNT(*)\n",
    "    FROM act_esenciales\n",
    "''', conn)"
   ]
  },
  {
   "cell_type": "code",
   "execution_count": 17,
   "metadata": {},
   "outputs": [
    {
     "data": {
      "text/html": [
       "<div>\n",
       "<style scoped>\n",
       "    .dataframe tbody tr th:only-of-type {\n",
       "        vertical-align: middle;\n",
       "    }\n",
       "\n",
       "    .dataframe tbody tr th {\n",
       "        vertical-align: top;\n",
       "    }\n",
       "\n",
       "    .dataframe thead th {\n",
       "        text-align: right;\n",
       "    }\n",
       "</style>\n",
       "<table border=\"1\" class=\"dataframe\">\n",
       "  <thead>\n",
       "    <tr style=\"text-align: right;\">\n",
       "      <th></th>\n",
       "      <th>count</th>\n",
       "    </tr>\n",
       "  </thead>\n",
       "  <tbody>\n",
       "    <tr>\n",
       "      <th>0</th>\n",
       "      <td>5324873</td>\n",
       "    </tr>\n",
       "  </tbody>\n",
       "</table>\n",
       "</div>"
      ],
      "text/plain": [
       "     count\n",
       "0  5324873"
      ]
     },
     "execution_count": 17,
     "metadata": {},
     "output_type": "execute_result"
    }
   ],
   "source": [
    "df_esential_count"
   ]
  },
  {
   "cell_type": "markdown",
   "metadata": {},
   "source": [
    "We select our sample:"
   ]
  },
  {
   "cell_type": "code",
   "execution_count": 44,
   "metadata": {},
   "outputs": [],
   "source": [
    "df_esential_sample = pd.read_sql('''\n",
    "    SELECT *\n",
    "    FROM act_esenciales\n",
    "    ORDER BY random()\n",
    "    limit 10000;\n",
    "''', conn)"
   ]
  },
  {
   "cell_type": "code",
   "execution_count": 45,
   "metadata": {
    "scrolled": true
   },
   "outputs": [
    {
     "name": "stdout",
     "output_type": "stream",
     "text": [
      "<class 'pandas.core.frame.DataFrame'>\n",
      "RangeIndex: 10000 entries, 0 to 9999\n",
      "Data columns (total 42 columns):\n",
      " #   Column       Non-Null Count  Dtype \n",
      "---  ------       --------------  ----- \n",
      " 0   id           10000 non-null  int64 \n",
      " 1   nom_estab    10000 non-null  object\n",
      " 2   raz_social   1863 non-null   object\n",
      " 3   codigo_act   10000 non-null  object\n",
      " 4   nombre_act   10000 non-null  object\n",
      " 5   per_ocu      10000 non-null  object\n",
      " 6   tipo_vial    9966 non-null   object\n",
      " 7   nom_vial     10000 non-null  object\n",
      " 8   tipo_v_e_1   9879 non-null   object\n",
      " 9   nom_v_e_1    9895 non-null   object\n",
      " 10  tipo_v_e_2   9880 non-null   object\n",
      " 11  nom_v_e_2    9894 non-null   object\n",
      " 12  tipo_v_e_3   9885 non-null   object\n",
      " 13  nom_v_e_3    9898 non-null   object\n",
      " 14  numero_ext   7005 non-null   object\n",
      " 15  letra_ext    5166 non-null   object\n",
      " 16  edificio     772 non-null    object\n",
      " 17  edificio_e   783 non-null    object\n",
      " 18  numero_int   3337 non-null   object\n",
      " 19  letra_int    440 non-null    object\n",
      " 20  tipo_asent   9987 non-null   object\n",
      " 21  nomb_asent   9999 non-null   object\n",
      " 22  tipocencom   740 non-null    object\n",
      " 23  nom_cencom   738 non-null    object\n",
      " 24  num_local    737 non-null    object\n",
      " 25  cod_postal   9894 non-null   object\n",
      " 26  cve_ent      10000 non-null  object\n",
      " 27  entidad      10000 non-null  object\n",
      " 28  cve_mun      10000 non-null  object\n",
      " 29  municipio    10000 non-null  object\n",
      " 30  cve_loc      10000 non-null  object\n",
      " 31  localidad    10000 non-null  object\n",
      " 32  ageb         10000 non-null  object\n",
      " 33  manzana      10000 non-null  object\n",
      " 34  telefono     2861 non-null   object\n",
      " 35  correoelec   1199 non-null   object\n",
      " 36  www          500 non-null    object\n",
      " 37  tipounieco   0 non-null      object\n",
      " 38  latitud      10000 non-null  object\n",
      " 39  longitud     10000 non-null  object\n",
      " 40  fecha_alta   10000 non-null  object\n",
      " 41  es_esencial  10000 non-null  object\n",
      "dtypes: int64(1), object(41)\n",
      "memory usage: 3.2+ MB\n"
     ]
    }
   ],
   "source": [
    "df_esential_sample.info(verbose=True)"
   ]
  },
  {
   "cell_type": "markdown",
   "metadata": {},
   "source": [
    "We need to set id to be the index, convert fecha_alta to date and es_esencial to int in order to manipulate our sample:"
   ]
  },
  {
   "cell_type": "code",
   "execution_count": 31,
   "metadata": {},
   "outputs": [],
   "source": [
    "df_esential_sample=df_esential_sample.set_index('id')"
   ]
  },
  {
   "cell_type": "code",
   "execution_count": 48,
   "metadata": {},
   "outputs": [
    {
     "data": {
      "text/html": [
       "<div>\n",
       "<style scoped>\n",
       "    .dataframe tbody tr th:only-of-type {\n",
       "        vertical-align: middle;\n",
       "    }\n",
       "\n",
       "    .dataframe tbody tr th {\n",
       "        vertical-align: top;\n",
       "    }\n",
       "\n",
       "    .dataframe thead th {\n",
       "        text-align: right;\n",
       "    }\n",
       "</style>\n",
       "<table border=\"1\" class=\"dataframe\">\n",
       "  <thead>\n",
       "    <tr style=\"text-align: right;\">\n",
       "      <th></th>\n",
       "      <th>nom_estab</th>\n",
       "      <th>raz_social</th>\n",
       "      <th>codigo_act</th>\n",
       "      <th>nombre_act</th>\n",
       "      <th>per_ocu</th>\n",
       "      <th>tipo_vial</th>\n",
       "      <th>nom_vial</th>\n",
       "      <th>tipo_v_e_1</th>\n",
       "      <th>nom_v_e_1</th>\n",
       "      <th>tipo_v_e_2</th>\n",
       "      <th>...</th>\n",
       "      <th>ageb</th>\n",
       "      <th>manzana</th>\n",
       "      <th>telefono</th>\n",
       "      <th>correoelec</th>\n",
       "      <th>www</th>\n",
       "      <th>tipounieco</th>\n",
       "      <th>latitud</th>\n",
       "      <th>longitud</th>\n",
       "      <th>fecha_alta</th>\n",
       "      <th>es_esencial</th>\n",
       "    </tr>\n",
       "    <tr>\n",
       "      <th>id</th>\n",
       "      <th></th>\n",
       "      <th></th>\n",
       "      <th></th>\n",
       "      <th></th>\n",
       "      <th></th>\n",
       "      <th></th>\n",
       "      <th></th>\n",
       "      <th></th>\n",
       "      <th></th>\n",
       "      <th></th>\n",
       "      <th></th>\n",
       "      <th></th>\n",
       "      <th></th>\n",
       "      <th></th>\n",
       "      <th></th>\n",
       "      <th></th>\n",
       "      <th></th>\n",
       "      <th></th>\n",
       "      <th></th>\n",
       "      <th></th>\n",
       "      <th></th>\n",
       "    </tr>\n",
       "  </thead>\n",
       "  <tbody>\n",
       "    <tr>\n",
       "      <th>8020743</th>\n",
       "      <td>SERVICIO AUTORIZADO PEÑA</td>\n",
       "      <td>None</td>\n",
       "      <td>811410</td>\n",
       "      <td>Reparación y mantenimiento de aparatos eléctri...</td>\n",
       "      <td>1</td>\n",
       "      <td>CALLE</td>\n",
       "      <td>HONDURAS</td>\n",
       "      <td>CALLE</td>\n",
       "      <td>CARLOS GALVEZ BETANCOURT</td>\n",
       "      <td>CALLE</td>\n",
       "      <td>...</td>\n",
       "      <td>90</td>\n",
       "      <td>58</td>\n",
       "      <td>None</td>\n",
       "      <td>None</td>\n",
       "      <td>None</td>\n",
       "      <td>None</td>\n",
       "      <td>20.05115567</td>\n",
       "      <td>-102.7108733</td>\n",
       "      <td>2019-11</td>\n",
       "      <td>1</td>\n",
       "    </tr>\n",
       "    <tr>\n",
       "      <th>3626097</th>\n",
       "      <td>PESCADERIA PELAYO</td>\n",
       "      <td>None</td>\n",
       "      <td>461123</td>\n",
       "      <td>Comercio al por menor de pescados y mariscos</td>\n",
       "      <td>1</td>\n",
       "      <td>AVENIDA</td>\n",
       "      <td>NIÑOS HEROES</td>\n",
       "      <td>CALLE</td>\n",
       "      <td>43</td>\n",
       "      <td>CALLE</td>\n",
       "      <td>...</td>\n",
       "      <td>1491</td>\n",
       "      <td>32</td>\n",
       "      <td>9982110005</td>\n",
       "      <td>None</td>\n",
       "      <td>None</td>\n",
       "      <td>None</td>\n",
       "      <td>21.18246185</td>\n",
       "      <td>-86.84443096</td>\n",
       "      <td>2010-07</td>\n",
       "      <td>1</td>\n",
       "    </tr>\n",
       "    <tr>\n",
       "      <th>3512881</th>\n",
       "      <td>ABARROTES Y DULCES</td>\n",
       "      <td>None</td>\n",
       "      <td>461110</td>\n",
       "      <td>Comercio al por menor en tiendas de abarrotes,...</td>\n",
       "      <td>1</td>\n",
       "      <td>CALLE</td>\n",
       "      <td>TITANIO</td>\n",
       "      <td>CALLE</td>\n",
       "      <td>FRANCIO</td>\n",
       "      <td>CALLE</td>\n",
       "      <td>...</td>\n",
       "      <td>6055</td>\n",
       "      <td>6</td>\n",
       "      <td>None</td>\n",
       "      <td>None</td>\n",
       "      <td>None</td>\n",
       "      <td>None</td>\n",
       "      <td>18.95702471</td>\n",
       "      <td>-98.24310796</td>\n",
       "      <td>2014-12</td>\n",
       "      <td>1</td>\n",
       "    </tr>\n",
       "    <tr>\n",
       "      <th>2597965</th>\n",
       "      <td>CENADURÍA PERA</td>\n",
       "      <td>None</td>\n",
       "      <td>722513</td>\n",
       "      <td>Restaurantes con servicio de preparación de an...</td>\n",
       "      <td>1</td>\n",
       "      <td>CALLE</td>\n",
       "      <td>ECONOMIA</td>\n",
       "      <td>CALLE</td>\n",
       "      <td>BIOLOGIA</td>\n",
       "      <td>AVENIDA</td>\n",
       "      <td>...</td>\n",
       "      <td>460</td>\n",
       "      <td>9</td>\n",
       "      <td>None</td>\n",
       "      <td>None</td>\n",
       "      <td>None</td>\n",
       "      <td>None</td>\n",
       "      <td>19.94583133</td>\n",
       "      <td>-102.3342265</td>\n",
       "      <td>2014-12</td>\n",
       "      <td>1</td>\n",
       "    </tr>\n",
       "    <tr>\n",
       "      <th>6512332</th>\n",
       "      <td>OXXO GAS SUC. ALDAMA MTY</td>\n",
       "      <td>SERVICIOS GASOLINEROS DE MEXICO SA DE CV</td>\n",
       "      <td>468411</td>\n",
       "      <td>Comercio al por menor de gasolina y diesel</td>\n",
       "      <td>3</td>\n",
       "      <td>CALLE</td>\n",
       "      <td>PEDRO J MÉNDEZ</td>\n",
       "      <td>None</td>\n",
       "      <td>NINGUNO</td>\n",
       "      <td>None</td>\n",
       "      <td>...</td>\n",
       "      <td>475</td>\n",
       "      <td>4</td>\n",
       "      <td>None</td>\n",
       "      <td>ATENCIONCLIENTES@OXXOGAS.COM</td>\n",
       "      <td>WWW.OXXOGAS.COM</td>\n",
       "      <td>None</td>\n",
       "      <td>22.92119876</td>\n",
       "      <td>-98.08474479</td>\n",
       "      <td>2016-01</td>\n",
       "      <td>1</td>\n",
       "    </tr>\n",
       "  </tbody>\n",
       "</table>\n",
       "<p>5 rows × 41 columns</p>\n",
       "</div>"
      ],
      "text/plain": [
       "                        nom_estab                                raz_social  \\\n",
       "id                                                                            \n",
       "8020743  SERVICIO AUTORIZADO PEÑA                                      None   \n",
       "3626097         PESCADERIA PELAYO                                      None   \n",
       "3512881        ABARROTES Y DULCES                                      None   \n",
       "2597965            CENADURÍA PERA                                      None   \n",
       "6512332  OXXO GAS SUC. ALDAMA MTY  SERVICIOS GASOLINEROS DE MEXICO SA DE CV   \n",
       "\n",
       "        codigo_act                                         nombre_act per_ocu  \\\n",
       "id                                                                              \n",
       "8020743     811410  Reparación y mantenimiento de aparatos eléctri...       1   \n",
       "3626097     461123       Comercio al por menor de pescados y mariscos       1   \n",
       "3512881     461110  Comercio al por menor en tiendas de abarrotes,...       1   \n",
       "2597965     722513  Restaurantes con servicio de preparación de an...       1   \n",
       "6512332     468411         Comercio al por menor de gasolina y diesel       3   \n",
       "\n",
       "        tipo_vial        nom_vial tipo_v_e_1                 nom_v_e_1  \\\n",
       "id                                                                       \n",
       "8020743     CALLE        HONDURAS      CALLE  CARLOS GALVEZ BETANCOURT   \n",
       "3626097   AVENIDA    NIÑOS HEROES      CALLE                        43   \n",
       "3512881     CALLE         TITANIO      CALLE                   FRANCIO   \n",
       "2597965     CALLE        ECONOMIA      CALLE                  BIOLOGIA   \n",
       "6512332     CALLE  PEDRO J MÉNDEZ       None                   NINGUNO   \n",
       "\n",
       "        tipo_v_e_2  ...  ageb manzana    telefono  \\\n",
       "id                  ...                             \n",
       "8020743      CALLE  ...    90      58        None   \n",
       "3626097      CALLE  ...  1491      32  9982110005   \n",
       "3512881      CALLE  ...  6055       6        None   \n",
       "2597965    AVENIDA  ...   460       9        None   \n",
       "6512332       None  ...   475       4        None   \n",
       "\n",
       "                           correoelec              www tipounieco  \\\n",
       "id                                                                  \n",
       "8020743                          None             None       None   \n",
       "3626097                          None             None       None   \n",
       "3512881                          None             None       None   \n",
       "2597965                          None             None       None   \n",
       "6512332  ATENCIONCLIENTES@OXXOGAS.COM  WWW.OXXOGAS.COM       None   \n",
       "\n",
       "             latitud      longitud fecha_alta es_esencial  \n",
       "id                                                         \n",
       "8020743  20.05115567  -102.7108733    2019-11           1  \n",
       "3626097  21.18246185  -86.84443096    2010-07           1  \n",
       "3512881  18.95702471  -98.24310796    2014-12           1  \n",
       "2597965  19.94583133  -102.3342265    2014-12           1  \n",
       "6512332  22.92119876  -98.08474479    2016-01           1  \n",
       "\n",
       "[5 rows x 41 columns]"
      ]
     },
     "execution_count": 48,
     "metadata": {},
     "output_type": "execute_result"
    }
   ],
   "source": [
    "df_esential_sample.head()"
   ]
  },
  {
   "cell_type": "markdown",
   "metadata": {},
   "source": [
    "Setting 'es_esencial' to int."
   ]
  },
  {
   "cell_type": "code",
   "execution_count": 49,
   "metadata": {},
   "outputs": [],
   "source": [
    "df_esential_sample['es_esencial'].astype(int)"
   ]
  },
  {
   "cell_type": "code",
   "execution_count": 50,
   "metadata": {
    "scrolled": true
   },
   "outputs": [
    {
     "data": {
      "text/plain": [
       "nom_estab      object\n",
       "raz_social     object\n",
       "codigo_act     object\n",
       "nombre_act     object\n",
       "per_ocu        object\n",
       "tipo_vial      object\n",
       "nom_vial       object\n",
       "tipo_v_e_1     object\n",
       "nom_v_e_1      object\n",
       "tipo_v_e_2     object\n",
       "nom_v_e_2      object\n",
       "tipo_v_e_3     object\n",
       "nom_v_e_3      object\n",
       "numero_ext     object\n",
       "letra_ext      object\n",
       "edificio       object\n",
       "edificio_e     object\n",
       "numero_int     object\n",
       "letra_int      object\n",
       "tipo_asent     object\n",
       "nomb_asent     object\n",
       "tipocencom     object\n",
       "nom_cencom     object\n",
       "num_local      object\n",
       "cod_postal     object\n",
       "cve_ent        object\n",
       "entidad        object\n",
       "cve_mun        object\n",
       "municipio      object\n",
       "cve_loc        object\n",
       "localidad      object\n",
       "ageb           object\n",
       "manzana        object\n",
       "telefono       object\n",
       "correoelec     object\n",
       "www            object\n",
       "tipounieco     object\n",
       "latitud        object\n",
       "longitud       object\n",
       "fecha_alta     object\n",
       "es_esencial     int32\n",
       "dtype: object"
      ]
     },
     "execution_count": 50,
     "metadata": {},
     "output_type": "execute_result"
    }
   ],
   "source": [
    "df_esential_sample.dtypes"
   ]
  },
  {
   "cell_type": "markdown",
   "metadata": {},
   "source": [
    "And fecha_alta as date, but as we can see, this is in yyyy-mm format, so we'll need to take another approach:"
   ]
  },
  {
   "cell_type": "code",
   "execution_count": 53,
   "metadata": {},
   "outputs": [],
   "source": [
    "df_esential_sample['fecha_alta']=pd.to_datetime(df_esential_sample['fecha_alta'], format='%Y-%m')"
   ]
  },
  {
   "cell_type": "code",
   "execution_count": 54,
   "metadata": {},
   "outputs": [
    {
     "data": {
      "text/html": [
       "<div>\n",
       "<style scoped>\n",
       "    .dataframe tbody tr th:only-of-type {\n",
       "        vertical-align: middle;\n",
       "    }\n",
       "\n",
       "    .dataframe tbody tr th {\n",
       "        vertical-align: top;\n",
       "    }\n",
       "\n",
       "    .dataframe thead th {\n",
       "        text-align: right;\n",
       "    }\n",
       "</style>\n",
       "<table border=\"1\" class=\"dataframe\">\n",
       "  <thead>\n",
       "    <tr style=\"text-align: right;\">\n",
       "      <th></th>\n",
       "      <th>nom_estab</th>\n",
       "      <th>raz_social</th>\n",
       "      <th>codigo_act</th>\n",
       "      <th>nombre_act</th>\n",
       "      <th>per_ocu</th>\n",
       "      <th>tipo_vial</th>\n",
       "      <th>nom_vial</th>\n",
       "      <th>tipo_v_e_1</th>\n",
       "      <th>nom_v_e_1</th>\n",
       "      <th>tipo_v_e_2</th>\n",
       "      <th>...</th>\n",
       "      <th>ageb</th>\n",
       "      <th>manzana</th>\n",
       "      <th>telefono</th>\n",
       "      <th>correoelec</th>\n",
       "      <th>www</th>\n",
       "      <th>tipounieco</th>\n",
       "      <th>latitud</th>\n",
       "      <th>longitud</th>\n",
       "      <th>fecha_alta</th>\n",
       "      <th>es_esencial</th>\n",
       "    </tr>\n",
       "    <tr>\n",
       "      <th>id</th>\n",
       "      <th></th>\n",
       "      <th></th>\n",
       "      <th></th>\n",
       "      <th></th>\n",
       "      <th></th>\n",
       "      <th></th>\n",
       "      <th></th>\n",
       "      <th></th>\n",
       "      <th></th>\n",
       "      <th></th>\n",
       "      <th></th>\n",
       "      <th></th>\n",
       "      <th></th>\n",
       "      <th></th>\n",
       "      <th></th>\n",
       "      <th></th>\n",
       "      <th></th>\n",
       "      <th></th>\n",
       "      <th></th>\n",
       "      <th></th>\n",
       "      <th></th>\n",
       "    </tr>\n",
       "  </thead>\n",
       "  <tbody>\n",
       "    <tr>\n",
       "      <th>8020743</th>\n",
       "      <td>SERVICIO AUTORIZADO PEÑA</td>\n",
       "      <td>None</td>\n",
       "      <td>811410</td>\n",
       "      <td>Reparación y mantenimiento de aparatos eléctri...</td>\n",
       "      <td>1</td>\n",
       "      <td>CALLE</td>\n",
       "      <td>HONDURAS</td>\n",
       "      <td>CALLE</td>\n",
       "      <td>CARLOS GALVEZ BETANCOURT</td>\n",
       "      <td>CALLE</td>\n",
       "      <td>...</td>\n",
       "      <td>90</td>\n",
       "      <td>58</td>\n",
       "      <td>None</td>\n",
       "      <td>None</td>\n",
       "      <td>None</td>\n",
       "      <td>None</td>\n",
       "      <td>20.05115567</td>\n",
       "      <td>-102.7108733</td>\n",
       "      <td>2019-11-01</td>\n",
       "      <td>1</td>\n",
       "    </tr>\n",
       "    <tr>\n",
       "      <th>3626097</th>\n",
       "      <td>PESCADERIA PELAYO</td>\n",
       "      <td>None</td>\n",
       "      <td>461123</td>\n",
       "      <td>Comercio al por menor de pescados y mariscos</td>\n",
       "      <td>1</td>\n",
       "      <td>AVENIDA</td>\n",
       "      <td>NIÑOS HEROES</td>\n",
       "      <td>CALLE</td>\n",
       "      <td>43</td>\n",
       "      <td>CALLE</td>\n",
       "      <td>...</td>\n",
       "      <td>1491</td>\n",
       "      <td>32</td>\n",
       "      <td>9982110005</td>\n",
       "      <td>None</td>\n",
       "      <td>None</td>\n",
       "      <td>None</td>\n",
       "      <td>21.18246185</td>\n",
       "      <td>-86.84443096</td>\n",
       "      <td>2010-07-01</td>\n",
       "      <td>1</td>\n",
       "    </tr>\n",
       "    <tr>\n",
       "      <th>3512881</th>\n",
       "      <td>ABARROTES Y DULCES</td>\n",
       "      <td>None</td>\n",
       "      <td>461110</td>\n",
       "      <td>Comercio al por menor en tiendas de abarrotes,...</td>\n",
       "      <td>1</td>\n",
       "      <td>CALLE</td>\n",
       "      <td>TITANIO</td>\n",
       "      <td>CALLE</td>\n",
       "      <td>FRANCIO</td>\n",
       "      <td>CALLE</td>\n",
       "      <td>...</td>\n",
       "      <td>6055</td>\n",
       "      <td>6</td>\n",
       "      <td>None</td>\n",
       "      <td>None</td>\n",
       "      <td>None</td>\n",
       "      <td>None</td>\n",
       "      <td>18.95702471</td>\n",
       "      <td>-98.24310796</td>\n",
       "      <td>2014-12-01</td>\n",
       "      <td>1</td>\n",
       "    </tr>\n",
       "    <tr>\n",
       "      <th>2597965</th>\n",
       "      <td>CENADURÍA PERA</td>\n",
       "      <td>None</td>\n",
       "      <td>722513</td>\n",
       "      <td>Restaurantes con servicio de preparación de an...</td>\n",
       "      <td>1</td>\n",
       "      <td>CALLE</td>\n",
       "      <td>ECONOMIA</td>\n",
       "      <td>CALLE</td>\n",
       "      <td>BIOLOGIA</td>\n",
       "      <td>AVENIDA</td>\n",
       "      <td>...</td>\n",
       "      <td>460</td>\n",
       "      <td>9</td>\n",
       "      <td>None</td>\n",
       "      <td>None</td>\n",
       "      <td>None</td>\n",
       "      <td>None</td>\n",
       "      <td>19.94583133</td>\n",
       "      <td>-102.3342265</td>\n",
       "      <td>2014-12-01</td>\n",
       "      <td>1</td>\n",
       "    </tr>\n",
       "    <tr>\n",
       "      <th>6512332</th>\n",
       "      <td>OXXO GAS SUC. ALDAMA MTY</td>\n",
       "      <td>SERVICIOS GASOLINEROS DE MEXICO SA DE CV</td>\n",
       "      <td>468411</td>\n",
       "      <td>Comercio al por menor de gasolina y diesel</td>\n",
       "      <td>3</td>\n",
       "      <td>CALLE</td>\n",
       "      <td>PEDRO J MÉNDEZ</td>\n",
       "      <td>None</td>\n",
       "      <td>NINGUNO</td>\n",
       "      <td>None</td>\n",
       "      <td>...</td>\n",
       "      <td>475</td>\n",
       "      <td>4</td>\n",
       "      <td>None</td>\n",
       "      <td>ATENCIONCLIENTES@OXXOGAS.COM</td>\n",
       "      <td>WWW.OXXOGAS.COM</td>\n",
       "      <td>None</td>\n",
       "      <td>22.92119876</td>\n",
       "      <td>-98.08474479</td>\n",
       "      <td>2016-01-01</td>\n",
       "      <td>1</td>\n",
       "    </tr>\n",
       "  </tbody>\n",
       "</table>\n",
       "<p>5 rows × 41 columns</p>\n",
       "</div>"
      ],
      "text/plain": [
       "                        nom_estab                                raz_social  \\\n",
       "id                                                                            \n",
       "8020743  SERVICIO AUTORIZADO PEÑA                                      None   \n",
       "3626097         PESCADERIA PELAYO                                      None   \n",
       "3512881        ABARROTES Y DULCES                                      None   \n",
       "2597965            CENADURÍA PERA                                      None   \n",
       "6512332  OXXO GAS SUC. ALDAMA MTY  SERVICIOS GASOLINEROS DE MEXICO SA DE CV   \n",
       "\n",
       "        codigo_act                                         nombre_act per_ocu  \\\n",
       "id                                                                              \n",
       "8020743     811410  Reparación y mantenimiento de aparatos eléctri...       1   \n",
       "3626097     461123       Comercio al por menor de pescados y mariscos       1   \n",
       "3512881     461110  Comercio al por menor en tiendas de abarrotes,...       1   \n",
       "2597965     722513  Restaurantes con servicio de preparación de an...       1   \n",
       "6512332     468411         Comercio al por menor de gasolina y diesel       3   \n",
       "\n",
       "        tipo_vial        nom_vial tipo_v_e_1                 nom_v_e_1  \\\n",
       "id                                                                       \n",
       "8020743     CALLE        HONDURAS      CALLE  CARLOS GALVEZ BETANCOURT   \n",
       "3626097   AVENIDA    NIÑOS HEROES      CALLE                        43   \n",
       "3512881     CALLE         TITANIO      CALLE                   FRANCIO   \n",
       "2597965     CALLE        ECONOMIA      CALLE                  BIOLOGIA   \n",
       "6512332     CALLE  PEDRO J MÉNDEZ       None                   NINGUNO   \n",
       "\n",
       "        tipo_v_e_2  ...  ageb manzana    telefono  \\\n",
       "id                  ...                             \n",
       "8020743      CALLE  ...    90      58        None   \n",
       "3626097      CALLE  ...  1491      32  9982110005   \n",
       "3512881      CALLE  ...  6055       6        None   \n",
       "2597965    AVENIDA  ...   460       9        None   \n",
       "6512332       None  ...   475       4        None   \n",
       "\n",
       "                           correoelec              www tipounieco  \\\n",
       "id                                                                  \n",
       "8020743                          None             None       None   \n",
       "3626097                          None             None       None   \n",
       "3512881                          None             None       None   \n",
       "2597965                          None             None       None   \n",
       "6512332  ATENCIONCLIENTES@OXXOGAS.COM  WWW.OXXOGAS.COM       None   \n",
       "\n",
       "             latitud      longitud fecha_alta es_esencial  \n",
       "id                                                         \n",
       "8020743  20.05115567  -102.7108733 2019-11-01           1  \n",
       "3626097  21.18246185  -86.84443096 2010-07-01           1  \n",
       "3512881  18.95702471  -98.24310796 2014-12-01           1  \n",
       "2597965  19.94583133  -102.3342265 2014-12-01           1  \n",
       "6512332  22.92119876  -98.08474479 2016-01-01           1  \n",
       "\n",
       "[5 rows x 41 columns]"
      ]
     },
     "execution_count": 54,
     "metadata": {},
     "output_type": "execute_result"
    }
   ],
   "source": [
    "df_esential_sample.head()"
   ]
  },
  {
   "cell_type": "markdown",
   "metadata": {},
   "source": [
    "Now that we cleaned our data let's see that brief analysis per entity and esentiality:"
   ]
  },
  {
   "cell_type": "code",
   "execution_count": 72,
   "metadata": {
    "scrolled": false
   },
   "outputs": [
    {
     "data": {
      "text/plain": [
       "<matplotlib.axes._subplots.AxesSubplot at 0x23d3d2fbdc0>"
      ]
     },
     "execution_count": 72,
     "metadata": {},
     "output_type": "execute_result"
    },
    {
     "data": {
      "image/png": "[encoded data removed]",
      "text/plain": [
       "<Figure size 1080x1080 with 1 Axes>"
      ]
     },
     "metadata": {
      "needs_background": "light"
     },
     "output_type": "display_data"
    }
   ],
   "source": [
    "df_esential_sample.groupby(['entidad'])['es_esencial'].sum().sort_values(ascending=False).plot(kind='bar', figsize=(15,15))"
   ]
  },
  {
   "cell_type": "markdown",
   "metadata": {},
   "source": [
    "With this we can see that the top three entities with more esential businesses are Mexico City, Mexico State and Jalisco.<br />\n",
    "Let's see if the municipalities coincide."
   ]
  },
  {
   "cell_type": "code",
   "execution_count": 75,
   "metadata": {},
   "outputs": [
    {
     "data": {
      "text/plain": [
       "<matplotlib.axes._subplots.AxesSubplot at 0x23d407feca0>"
      ]
     },
     "execution_count": 75,
     "metadata": {},
     "output_type": "execute_result"
    },
    {
     "data": {
      "image/png": "[encoded data removed]",
      "text/plain": [
       "<Figure size 576x576 with 1 Axes>"
      ]
     },
     "metadata": {
      "needs_background": "light"
     },
     "output_type": "display_data"
    }
   ],
   "source": [
    "df_esential_sample.groupby(['municipio'])['es_esencial'].sum().nlargest(n=5).sort_values(ascending=False).plot(kind='bar', figsize=(8,8))"
   ]
  },
  {
   "cell_type": "markdown",
   "metadata": {},
   "source": [
    "Contrary with what we saw on the entities table, we see that the top 1 municipality with more esential businesses is not part from the top 3 entities, since Puebla is from Puebla state."
   ]
  },
  {
   "cell_type": "markdown",
   "metadata": {},
   "source": [
    "Still, since our analysis is based on gender; again, we can consider this source as a valuable input to evidence the glass ceiling that mexican women have currently."
   ]
  }
 ],
 "metadata": {
  "kernelspec": {
   "display_name": "Python 3",
   "language": "python",
   "name": "python3"
  },
  "language_info": {
   "codemirror_mode": {
    "name": "ipython",
    "version": 3
   },
   "file_extension": ".py",
   "mimetype": "text/x-python",
   "name": "python",
   "nbconvert_exporter": "python",
   "pygments_lexer": "ipython3",
   "version": "3.8.3"
  }
 },
 "nbformat": 4,
 "nbformat_minor": 4
}
